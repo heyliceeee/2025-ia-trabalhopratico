{
 "cells": [
  {
   "cell_type": "code",
   "id": "initial_id",
   "metadata": {
    "collapsed": true,
    "ExecuteTime": {
     "end_time": "2025-05-13T18:18:19.372533Z",
     "start_time": "2025-05-13T18:17:52.576292Z"
    }
   },
   "source": [
    "from IPython import display\n",
    "import torch\n",
    "from dotenv import load_dotenv\n",
    "import shutil\n",
    "import cv2\n",
    "import os\n",
    "import matplotlib.pyplot as plt\n",
    "import matplotlib.image as mpimg\n",
    "import roboflow\n",
    "import ultralytics\n",
    "from ultralytics import YOLO\n",
    "import mss\n",
    "import numpy as np\n",
    "import time\n",
    "import pyautogui\n",
    "from datetime import datetime\n",
    "import torch\n",
    "from PIL import Image\n",
    "from transformers import AutoProcessor, AutoModelForVision2Seq\n",
    "from transformers import AutoTokenizer\n",
    "import easyocr"
   ],
   "outputs": [],
   "execution_count": 1
  },
  {
   "metadata": {},
   "cell_type": "code",
   "source": [
    "display.clear_output()\n",
    "ultralytics.checks()"
   ],
   "id": "dd1d6d397c8d3ab9",
   "execution_count": 2,
   "outputs": [
    {
     "name": "stdout",
     "output_type": "stream",
     "text": [
      "Ultralytics 8.3.116  Python-3.12.10 torch-2.5.1+cpu CPU (Intel Core(TM) i5-8250U 1.60GHz)\n",
      "Setup complete  (8 CPUs, 7.9 GB RAM, 45.5/931.5 GB disk)\n"
     ]
    }
   ]
  },
  {
   "metadata": {},
   "cell_type": "code",
   "source": [
    "# Em apple sillicon, verificar se o MPS está disponível\n",
    "print(torch.backends.mps.is_available())"
   ],
   "id": "d1cb36e0deeb8f31",
   "outputs": [],
   "execution_count": null
  },
  {
   "metadata": {
    "ExecuteTime": {
     "end_time": "2025-05-13T18:23:04.049396Z",
     "start_time": "2025-05-13T18:23:04.041088Z"
    }
   },
   "cell_type": "code",
   "source": [
    "# Carregar variáveis do ficheiro .env\n",
    "load_dotenv(override=True)\n",
    "\n",
    "# Obter variáveis\n",
    "api_key = os.getenv(\"ROBOFLOW_API_KEY\")\n",
    "workspace = os.getenv(\"ROBOFLOW_WORKSPACE\")\n",
    "project_name = os.getenv(\"ROBOFLOW_PROJECT\")\n",
    "version = int(os.getenv(\"ROBOFLOW_VERSION\", \"1\"))"
   ],
   "id": "3cab2654d3d5f992",
   "outputs": [],
   "execution_count": 8
  },
  {
   "metadata": {
    "ExecuteTime": {
     "end_time": "2025-05-13T18:22:59.713064Z",
     "start_time": "2025-05-13T18:22:51.047504Z"
    }
   },
   "cell_type": "code",
   "source": "ocr = easyocr.Reader(['en'], gpu=False)  # Define idioma e se quer usar GPU",
   "id": "9af5392e8ac46552",
   "outputs": [
    {
     "name": "stderr",
     "output_type": "stream",
     "text": [
      "Using CPU. Note: This module is much faster with a GPU.\n",
      "Downloading detection model, please wait. This may take several minutes depending upon your network connection.\n"
     ]
    },
    {
     "name": "stdout",
     "output_type": "stream",
     "text": [
      "Progress: |██████████████████████████████████████████████████| 100.0% Complete"
     ]
    },
    {
     "name": "stderr",
     "output_type": "stream",
     "text": [
      "Downloading recognition model, please wait. This may take several minutes depending upon your network connection.\n"
     ]
    },
    {
     "name": "stdout",
     "output_type": "stream",
     "text": [
      "Progress: |██████████████████████████████████████████████████| 100.0% Complete"
     ]
    }
   ],
   "execution_count": 7
  },
  {
   "metadata": {},
   "cell_type": "code",
   "source": [
    "# descarregar o dataset do roboflow, depois de etiquetadas as imagens e criado o dataset em Mac tive problemas de permissões e foi necessário dar permissões à pasta de conf. do roboflow:\n",
    "# - sudo mkdir /Users/davidecarneiro/.config/roboflow (criar pasta onde vai guardar a conf.)\n",
    "# - sudo chown -R davidecarneiro:staff ~/.config/roboflow (dar permissões ao meu user)\n",
    "roboflow.login()\n",
    "\n",
    "rf = roboflow.Roboflow(api_key=api_key) # Faz login no Roboflow com a chave lida\n",
    "\n",
    "# substituir nome do workspace e do projeto\n",
    "project = rf.workspace(workspace).project(project_name)\n",
    "# se versão do dataset > 1, substituir pela versão correspondente\n",
    "dataset = project.version(version).download(\"yolov8\")\n",
    "\n",
    "# Move o dataset para a pasta desejada\n",
    "shutil.move(dataset.location, \"./datasets/candy-crush-saga-v3-1\")\n",
    "\n",
    "# Atualiza o caminho no objeto\n",
    "dataset.location = \"./datasets/candy-crush-saga-v3-1\"\n",
    "\n",
    "# WARN: necessário verificar os paths no ficheiro data.yaml, após este ser descarregado\n",
    "# alterar para:\n",
    "# train: ./datasets/candy-crush-saga-v3-1/train/images\n",
    "# val: ./datasets/candy-crush-saga-v3-1/valid/images\n",
    "# test: ./datasets/candy-crush-saga-v3-1/test/images"
   ],
   "id": "dcd4dbc2252ee03a",
   "outputs": [],
   "execution_count": null
  },
  {
   "metadata": {},
   "cell_type": "code",
   "source": [
    "# treinar o modelo\n",
    "# lista de modelos pre-treinados disponível em https://docs.ultralytics.com/models/yolov8/#performance-metrics\n",
    "model = YOLO(\"YOLOv8m.pt\")  # carregar o modelo pre-treinado que se descarregou\n",
    "\n",
    "# Treinar o modelo\n",
    "results = model.train(data='./datasets/candy-crush-saga-v3-1/data.yaml', epochs=100, imgsz=640, device='cpu')  # windows amd cpu and gpu\n",
    "# results = model.train(data='candy-crush-saga-v3-1', epochs=100, imgsz=640, device=[0, 1]) # intel/windows\n",
    "# results = model.train(data='candy-crush-saga-v3-1/data.yaml', epochs=100, imgsz=640, device='mps') # apple sillicon"
   ],
   "id": "7a38802a71b8ca7",
   "outputs": [],
   "execution_count": null
  },
  {
   "metadata": {
    "ExecuteTime": {
     "end_time": "2025-05-13T13:51:10.400633Z",
     "start_time": "2025-05-13T13:51:09.367035Z"
    }
   },
   "cell_type": "code",
   "source": [
    "# selecionar a melhor versão do modelo fine-tuned\n",
    "model = YOLO(\"runs/detect/train5/weights/best.pt\")"
   ],
   "id": "172703cd6c91af1c",
   "outputs": [],
   "execution_count": 3
  },
  {
   "metadata": {},
   "cell_type": "code",
   "source": [
    "# prever em novas imagens\n",
    "confidence_level = 0.1\n",
    "input_path = 'captured_images'\n",
    "output_path = 'detections'\n",
    "class_names = model.names\n",
    "\n",
    "for file in os.listdir(input_path):\n",
    "    if file.lower().endswith((\".png\")):\n",
    "        image = cv2.imread(os.path.join(input_path, file))\n",
    "        results = model.predict(source=image, conf=confidence_level)  # gerar previsões acima de determinada confiança, e guardar imagens\n",
    "\n",
    "\n",
    "        output_filename = f\"prediction_{file}\"\n",
    "        output_filepath = os.path.join(output_path, output_filename)\n",
    "\n",
    "        for result in results:\n",
    "            result.save(filename=output_filepath)\n",
    "            print(\"==== Resultados Previsão ====\")\n",
    "            print(\"Imagem: \"+os.path.join(input_path, file))\n",
    "            boxes = result.boxes.xyxy.cpu().numpy()  # Bounding boxes (x_min, y_min, x_max, y_max)\n",
    "            scores = result.boxes.conf.cpu().numpy()  # Score de confiança\n",
    "            labels = result.boxes.cls.cpu().numpy()  # Índice da classe\n",
    "\n",
    "            for i in range(len(boxes)):\n",
    "                class_id = labels[i]\n",
    "                class_label = class_names[class_id] if class_id in class_names else \"Desconhecido\"\n",
    "\n",
    "                print(f\"--- Objeto {i+1} ---\")\n",
    "                print(f\"Class: {class_label} (ID: {class_id})\")\n",
    "                print(f\"Coordenadas Bounding Box: {boxes[i]}\")\n",
    "                print(f\"Confiança: {scores[i]:.4f}\")\n",
    "                print(\"-------------------\")\n",
    "\n",
    "            print(\"\\n\")"
   ],
   "id": "aed7137c251f868",
   "outputs": [],
   "execution_count": null
  },
  {
   "metadata": {},
   "cell_type": "markdown",
   "source": [
    "## Tarefa dos objetivo do nivel atual\n",
    "###### carregar o modelo"
   ],
   "id": "85d5ca6656f6fa2b"
  },
  {
   "metadata": {},
   "cell_type": "code",
   "source": "",
   "id": "32d2d69f4b4e8b49",
   "outputs": [],
   "execution_count": null
  },
  {
   "metadata": {},
   "cell_type": "markdown",
   "source": "###### preparar a imagem e o prompt",
   "id": "aee1903164dd52b4"
  },
  {
   "metadata": {},
   "cell_type": "code",
   "outputs": [],
   "execution_count": null,
   "source": "",
   "id": "19be4baef0edb39c"
  },
  {
   "metadata": {},
   "cell_type": "markdown",
   "source": "###### gera a resposta",
   "id": "6bee1e0fe753c54c"
  },
  {
   "metadata": {},
   "cell_type": "code",
   "outputs": [],
   "execution_count": null,
   "source": "",
   "id": "c9ccd4824b23051e"
  },
  {
   "metadata": {},
   "cell_type": "markdown",
   "source": "# 🎮Testar no jogo, o modelo",
   "id": "81a993b29cb032a9"
  },
  {
   "metadata": {},
   "cell_type": "markdown",
   "source": "###### CONFIGURAÇÕES GERAIS",
   "id": "4612f187e647f3dd"
  },
  {
   "metadata": {
    "ExecuteTime": {
     "end_time": "2025-05-13T18:23:11.203507Z",
     "start_time": "2025-05-13T18:23:10.085076Z"
    }
   },
   "cell_type": "code",
   "source": [
    "model = YOLO(\"runs/detect/train5/weights/best.pt\") # Carrega o modelo YOLO treinado\n",
    "screen_width, screen_height = pyautogui.size() # Tamanho total do ecrã (para eventualmente converter coordenadas para cliques)\n",
    "\n",
    "# Região do tabuleiro (ajustável via variáveis de ambiente)\n",
    "BOARD_REGION = {\n",
    "    \"left\": int(os.getenv(\"BOARD_REGION_LEFT\", \"0\")),     # posição X do canto superior esquerdo\n",
    "    \"top\": int(os.getenv(\"BOARD_REGION_TOP\", \"0\")),      # posição Y do canto superior esquerdo\n",
    "    \"width\": int(os.getenv(\"BOARD_REGION_WIDTH\", \"0\")),    # largura da região\n",
    "    \"height\": int(os.getenv(\"BOARD_REGION_HEIGHT\", \"0\"))    # altura da região\n",
    "}\n",
    "\n",
    "# Número de linhas e colunas no tabuleiro (ex: 7x7)\n",
    "ROWS = int(os.getenv(\"ROWS_GRID\", \"8\"))\n",
    "COLS = int(os.getenv(\"COLS_GRID\", \"8\"))\n",
    "\n",
    "# Região do objetivo (ajustável via variáveis de ambiente)\n",
    "GOAL_REGION = {\n",
    "    \"left\": int(os.getenv(\"GOAL_REGION_LEFT\", \"0\")),     # posição X do canto superior esquerdo\n",
    "    \"top\": int(os.getenv(\"GOAL_REGION_TOP\", \"0\")),      # posição Y do canto superior esquerdo\n",
    "    \"width\": int(os.getenv(\"GOAL_REGION_WIDTH\", \"0\")),    # largura da região\n",
    "    \"height\": int(os.getenv(\"GOAL_REGION_HEIGHT\", \"0\"))    # altura da região\n",
    "}\n",
    "\n",
    "# Garante que as pastas de output existem\n",
    "os.makedirs(\"captured_images\", exist_ok=True)\n",
    "os.makedirs(\"captured_goals\", exist_ok=True)\n",
    "os.makedirs(\"detections\", exist_ok=True)\n",
    "os.makedirs(\"detectionsGoal\", exist_ok=True)"
   ],
   "id": "7b67fb3e77e03caa",
   "outputs": [],
   "execution_count": 9
  },
  {
   "metadata": {},
   "cell_type": "markdown",
   "source": "###### FUNÇÃO DE CAPTURA DE IMAGEM",
   "id": "27f7b60790eba45d"
  },
  {
   "metadata": {
    "ExecuteTime": {
     "end_time": "2025-05-13T18:23:12.070411Z",
     "start_time": "2025-05-13T18:23:12.063278Z"
    }
   },
   "cell_type": "code",
   "source": [
    "# função que captura só a região do tabuleiro e devolve a imagem\n",
    "def capture_board_region():\n",
    "    # Captura a imagem da região definida como o tabuleiro\n",
    "    with mss.mss() as sct:\n",
    "        screenshot = sct.grab(BOARD_REGION)\n",
    "        img = np.array(screenshot)\n",
    "        img = cv2.cvtColor(img, cv2.COLOR_BGRA2BGR)\n",
    "        img_height, img_width, _ = img.shape\n",
    "        timestamp = datetime.now().strftime(\"%Y%m%d-%H%M%S-%f\")\n",
    "\n",
    "        # Guardar imagem opcionalmente\n",
    "        img_path = os.path.join('captured_images', f\"capture_{timestamp}.jpg\")\n",
    "        cv2.imwrite(img_path, img)\n",
    "\n",
    "        return img, timestamp, img_width, img_height # width, height"
   ],
   "id": "da503b195d1c814f",
   "outputs": [],
   "execution_count": 10
  },
  {
   "metadata": {},
   "cell_type": "markdown",
   "source": "###### FUNCAO DE CAPTURA DA REGIAO DOS OBJETIVOS",
   "id": "46d4a2fdd527d4c1"
  },
  {
   "metadata": {
    "ExecuteTime": {
     "end_time": "2025-05-13T18:23:15.090565Z",
     "start_time": "2025-05-13T18:23:15.079311Z"
    }
   },
   "cell_type": "code",
   "source": [
    "# função que captura só a região dos objetivos e devolve a imagem\n",
    "def capture_goal_region():\n",
    "    # Captura a imagem da região definida como os objetivos\n",
    "    with mss.mss() as sct:\n",
    "        screenshot = sct.grab(GOAL_REGION)\n",
    "        img = np.array(screenshot)\n",
    "        img = cv2.cvtColor(img, cv2.COLOR_BGRA2BGR)\n",
    "        img_height, img_width, _ = img.shape\n",
    "        timestamp = datetime.now().strftime(\"%Y%m%d-%H%M%S-%f\")\n",
    "\n",
    "        # Guardar imagem opcionalmente\n",
    "        img_path = os.path.join('captured_goals', f\"goal_{timestamp}.jpg\")\n",
    "        cv2.imwrite(img_path, img)\n",
    "\n",
    "        return img, timestamp, img_width, img_height # width, height"
   ],
   "id": "4b090fd718bbedc3",
   "outputs": [],
   "execution_count": 11
  },
  {
   "metadata": {},
   "cell_type": "markdown",
   "source": "###### IDENTIFICAR PECAS ADJACENTES E POSSIVEIS COMBINACOES",
   "id": "3a4d8993bb3c5bd3"
  },
  {
   "metadata": {
    "ExecuteTime": {
     "end_time": "2025-05-13T18:23:18.428623Z",
     "start_time": "2025-05-13T18:23:18.411575Z"
    }
   },
   "cell_type": "code",
   "source": [
    "def sugerir_melhor_jogada(grid):\n",
    "    ROWS, COLS = len(grid), len(grid[0])\n",
    "    melhores_trocas = []\n",
    "    max_combo = 0\n",
    "    troca_com_color_bomb = None\n",
    "\n",
    "    # objetivos do nivel atual\n",
    "    imgGoal, timestampGoal, img_widthGoal, img_heightGoal = capture_goal_region()  # captura zona\n",
    "\n",
    "    # Faz previsão com YOLO\n",
    "    resultsGoal = model.predict(source=imgGoal, conf=0.1)\n",
    "    caixas = resultsGoal[0].boxes.xyxy.cpu().numpy()\n",
    "    classes = resultsGoal[0].boxes.cls.cpu().numpy()\n",
    "    nomes_classes = model.names\n",
    "\n",
    "    objetivos_detectados = []\n",
    "\n",
    "    for i, box in enumerate(caixas):\n",
    "        class_id = int(classes[i])\n",
    "        nome_doce = nomes_classes[class_id]\n",
    "\n",
    "        # Verifica se o doce está no tabuleiro (em qualquer posição)\n",
    "        if any(nome_doce in row for row in grid):\n",
    "            x1, y1, x2, y2 = box.astype(int)\n",
    "\n",
    "            # Crop logo abaixo do ícone (área provável do número)\n",
    "            altura_icon = y2 - y1\n",
    "            numero_crop = imgGoal[y2:y2 + altura_icon//2, x1:x2]\n",
    "\n",
    "            # OCR no crop\n",
    "            resultado_ocr = ocr.readtext(numero_crop)\n",
    "            numero = None\n",
    "            for linha in resultado_ocr[0]:\n",
    "                texto = linha[1][0]\n",
    "                if texto.isdigit():\n",
    "                    numero = int(texto)\n",
    "                    break\n",
    "\n",
    "            if numero is not None:\n",
    "                objetivos_detectados.append((nome_doce, numero))\n",
    "\n",
    "    def contar_sequencia(g, r, c, cor):\n",
    "        cont_h = 1\n",
    "        i = c - 1\n",
    "        while i >= 0 and g[r][i] == cor:\n",
    "            cont_h += 1\n",
    "            i -= 1\n",
    "        i = c + 1\n",
    "        while i < COLS and g[r][i] == cor:\n",
    "            cont_h += 1\n",
    "            i += 1\n",
    "\n",
    "        cont_v = 1\n",
    "        i = r - 1\n",
    "        while i >= 0 and g[i][c] == cor:\n",
    "            cont_v += 1\n",
    "            i -= 1\n",
    "        i = r + 1\n",
    "        while i < ROWS and g[i][c] == cor:\n",
    "            cont_v += 1\n",
    "            i += 1\n",
    "\n",
    "        return max(cont_h if cont_h >= 3 else 0, cont_v if cont_v >= 3 else 0)\n",
    "\n",
    "    melhor_jogada_objetivo = None\n",
    "    max_prioridade = 0\n",
    "\n",
    "    for r in range(ROWS):\n",
    "        for c in range(COLS):\n",
    "            if grid[r][c] is None:\n",
    "                continue\n",
    "\n",
    "            for dr, dc in [(0, 1), (1, 0)]:\n",
    "                nr, nc = r + dr, c + dc\n",
    "                if nr >= ROWS or nc >= COLS or grid[nr][nc] is None:\n",
    "                    continue\n",
    "\n",
    "                if grid[r][c] == \"color-bomb\" or grid[nr][nc] == \"color-bomb\":\n",
    "                    troca_com_color_bomb = ((r, c), (nr, nc))\n",
    "\n",
    "                grid[r][c], grid[nr][nc] = grid[nr][nc], grid[r][c]\n",
    "\n",
    "                score = max(\n",
    "                    contar_sequencia(grid, r, c, grid[r][c]),\n",
    "                    contar_sequencia(grid, nr, nc, grid[nr][nc])\n",
    "                )\n",
    "\n",
    "                if score > max_combo:\n",
    "                    max_combo = score\n",
    "                    melhores_trocas = [((r, c), (nr, nc))]\n",
    "                elif score == max_combo and score >= 3:\n",
    "                    melhores_trocas.append(((r, c), (nr, nc)))\n",
    "\n",
    "                for doce, _ in objetivos_detectados:\n",
    "                    if grid[r][c] == doce or grid[nr][nc] == doce:\n",
    "                        if score > max_prioridade:\n",
    "                            max_prioridade = score\n",
    "                            melhor_jogada_objetivo = ((r, c), (nr, nc))\n",
    "\n",
    "                grid[r][c], grid[nr][nc] = grid[nr][nc], grid[r][c]\n",
    "\n",
    "    if troca_com_color_bomb:\n",
    "        print(f\"\\n💡 Jogada com 'color-bomb': {troca_com_color_bomb} (prioritária)\")\n",
    "        return troca_com_color_bomb, 99\n",
    "\n",
    "    if melhor_jogada_objetivo:\n",
    "        print(f\"\\n💡 Jogada com doce de objetivo: {melhor_jogada_objetivo} com prioridade {max_prioridade}\")\n",
    "        return melhor_jogada_objetivo, max_prioridade\n",
    "\n",
    "    if melhores_trocas:\n",
    "        print(f\"\\n💡 Melhor jogada: {melhores_trocas[0]} que forma grupo de {max_combo}\")\n",
    "        return melhores_trocas[0], max_combo\n",
    "\n",
    "    print(\"\\n⚠️ Nenhuma jogada possível encontrada.\")\n",
    "    return None, 0"
   ],
   "id": "1c11053fdab4b862",
   "outputs": [],
   "execution_count": 12
  },
  {
   "metadata": {},
   "cell_type": "markdown",
   "source": "###### LOOP PRINCIPAL",
   "id": "7e735d1f008d8569"
  },
  {
   "metadata": {
    "ExecuteTime": {
     "end_time": "2025-05-13T18:23:29.999371Z",
     "start_time": "2025-05-13T18:23:21.628691Z"
    }
   },
   "cell_type": "code",
   "source": [
    "while True:\n",
    "    # Captura o tabuleiro\n",
    "    img, timestamp, img_width, img_height = capture_board_region()\n",
    "\n",
    "    # Faz previsão com YOLO\n",
    "    results = model.predict(source=img, conf=0.1)\n",
    "    detections = results[0].boxes.xyxy  # Coordenadas (x1, y1, x2, y2)\n",
    "\n",
    "    # Define dimensões das células da grelha\n",
    "    cell_width = img_width // COLS\n",
    "    cell_height = img_height // ROWS\n",
    "\n",
    "    grid = [[None for _ in range(COLS)] for _ in range(ROWS)]  # Cria grelha vazia\n",
    "\n",
    "\n",
    "    if len(detections) > 0:\n",
    "        print(f\"\\n✅ Detetou {len(detections)} objetos.\")\n",
    "\n",
    "        # Guarda imagem com bounding boxes\n",
    "        annotated_frame = results[0].plot()\n",
    "        result_path = os.path.join('detections', f\"result_{timestamp}.jpg\")\n",
    "        cv2.imwrite(result_path, annotated_frame)\n",
    "\n",
    "        # Processa cada deteção\n",
    "        for i, (x1, y1, x2, y2) in enumerate(detections.tolist()):\n",
    "            # Calcula o centro do objeto\n",
    "            center_x = int((x1 + x2) / 2)\n",
    "            center_y = int((y1 + y2) / 2)\n",
    "\n",
    "            # Converte centro para coordenadas de grelha\n",
    "            col = center_x // cell_width\n",
    "            row = center_y // cell_height\n",
    "\n",
    "            class_id = int(results[0].boxes.cls[i].item())\n",
    "            class_name = model.names[class_id]\n",
    "\n",
    "            # Preenche a grelha com o nome da classe\n",
    "            if 0 <= row < ROWS and 0 <= col < COLS:\n",
    "                grid[row][col] = class_name\n",
    "\n",
    "            # converter coordenadas\n",
    "            scaled_x = int((center_x / img_width) * screen_width)\n",
    "            scaled_y = int((center_y / img_height) * screen_height)\n",
    "\n",
    "            # Pausa breve, entre objetos (se necessario)\n",
    "            #time.sleep(0.25)\n",
    "\n",
    "        # Imprime o mapa atual do tabuleiro\n",
    "        print(\"📌 Mapa do tabuleiro:\")\n",
    "        for row in grid:\n",
    "            print(row)\n",
    "\n",
    "        print(\"\\n🔄 Combinações possíveis:\")\n",
    "        # Sugerir a melhor jogada\n",
    "        melhor_troca, tamanho_grupo = sugerir_melhor_jogada(grid)\n",
    "\n",
    "        # mover rato\n",
    "        if melhor_troca:\n",
    "            (r1, c1), (r2, c2) = melhor_troca\n",
    "\n",
    "            def cell_to_screen(row, col):\n",
    "                # Coordenadas do centro da célula no ecrã\n",
    "                x = BOARD_REGION[\"left\"] + col * cell_width + cell_width // 2\n",
    "                y = BOARD_REGION[\"top\"] + row * cell_height + cell_height // 2\n",
    "                return x, y\n",
    "\n",
    "            x1, y1 = cell_to_screen(r1, c1)\n",
    "            x2, y2 = cell_to_screen(r2, c2)\n",
    "\n",
    "            print(f\"🖱️ A mover para ({r1}, {c1}) -> ({r2}, {c2})\")\n",
    "            pyautogui.moveTo(x1, y1, duration=0.3)\n",
    "            pyautogui.click()\n",
    "            time.sleep(0.2)  # pequena pausa entre cliques\n",
    "            pyautogui.moveTo(x2, y2, duration=0.3)\n",
    "            pyautogui.click()\n",
    "        else:\n",
    "            print(\"⚠️ Nenhuma jogada possível para clicar.\")\n",
    "\n",
    "\n",
    "    time.sleep(3) # Pausa antes da próxima leitura (ajustavel)"
   ],
   "id": "bb6ee1517d5d63b8",
   "outputs": [
    {
     "name": "stdout",
     "output_type": "stream",
     "text": [
      "\n",
      "0: 640x640 9 blues, 7 greens, 6 purples, 7 reds, 7 yellows, 670.2ms\n",
      "Speed: 12.6ms preprocess, 670.2ms inference, 9.7ms postprocess per image at shape (1, 3, 640, 640)\n",
      "\n",
      "✅ Detetou 36 objetos.\n",
      "📌 Mapa do tabuleiro:\n",
      "[None, None, None, 'red', 'purple', 'yellow', 'blue', None]\n",
      "[None, None, None, 'green', 'red', 'yellow', 'blue', 'green']\n",
      "[None, None, None, 'blue', 'green', 'red', 'yellow', None]\n",
      "[None, None, None, 'green', 'blue', 'green', 'purple', 'green']\n",
      "[None, None, None, 'red', 'red', 'purple', 'purple', 'green']\n",
      "[None, None, None, 'blue', 'blue', 'yellow', 'blue', None]\n",
      "[None, None, None, 'yellow', 'purple', 'yellow', 'yellow', 'red']\n",
      "[None, None, None, 'blue', 'purple', 'red', 'blue', None]\n",
      "\n",
      "🔄 Combinações possíveis:\n",
      "\n",
      "0: 640x512 (no detections), 939.9ms\n",
      "Speed: 4.0ms preprocess, 939.9ms inference, 1.8ms postprocess per image at shape (1, 3, 640, 512)\n",
      "\n",
      "💡 Melhor jogada: ((2, 3), (2, 4)) que forma grupo de 3\n",
      "🖱️ A mover para (2, 3) -> (2, 4)\n",
      "\n",
      "0: 640x640 13 blues, 9 greens, 10 purples, 12 reds, 12 yellows, 596.9ms\n",
      "Speed: 4.2ms preprocess, 596.9ms inference, 2.3ms postprocess per image at shape (1, 3, 640, 640)\n",
      "\n",
      "✅ Detetou 56 objetos.\n",
      "📌 Mapa do tabuleiro:\n",
      "[None, 'yellow', 'blue', 'purple', 'purple', 'yellow', 'blue', None]\n",
      "['red', 'yellow', 'red', 'yellow', 'red', 'yellow', 'blue', 'green']\n",
      "[None, 'blue', 'green', 'green', 'blue', 'red', 'yellow', None]\n",
      "['green', 'red', 'green', 'red', 'blue', 'green', 'purple', 'green']\n",
      "['green', 'yellow', 'purple', 'red', 'red', 'purple', 'purple', 'green']\n",
      "[None, 'blue', 'yellow', 'blue', 'blue', 'yellow', 'blue', None]\n",
      "['red', 'red', 'purple', 'yellow', 'purple', 'yellow', 'yellow', 'red']\n",
      "[None, 'blue', 'purple', 'blue', 'purple', 'red', 'blue', None]\n",
      "\n",
      "🔄 Combinações possíveis:\n",
      "\n",
      "0: 640x512 1 blue, 2 greens, 502.1ms\n",
      "Speed: 6.1ms preprocess, 502.1ms inference, 1.5ms postprocess per image at shape (1, 3, 640, 512)\n"
     ]
    },
    {
     "ename": "AttributeError",
     "evalue": "'numpy.int32' object has no attribute 'isdigit'",
     "output_type": "error",
     "traceback": [
      "\u001B[1;31m---------------------------------------------------------------------------\u001B[0m",
      "\u001B[1;31mAttributeError\u001B[0m                            Traceback (most recent call last)",
      "Cell \u001B[1;32mIn[13], line 55\u001B[0m\n\u001B[0;32m     53\u001B[0m \u001B[38;5;28mprint\u001B[39m(\u001B[38;5;124m\"\u001B[39m\u001B[38;5;130;01m\\n\u001B[39;00m\u001B[38;5;124m🔄 Combinações possíveis:\u001B[39m\u001B[38;5;124m\"\u001B[39m)\n\u001B[0;32m     54\u001B[0m \u001B[38;5;66;03m# Sugerir a melhor jogada\u001B[39;00m\n\u001B[1;32m---> 55\u001B[0m melhor_troca, tamanho_grupo \u001B[38;5;241m=\u001B[39m \u001B[43msugerir_melhor_jogada\u001B[49m\u001B[43m(\u001B[49m\u001B[43mgrid\u001B[49m\u001B[43m)\u001B[49m\n\u001B[0;32m     57\u001B[0m \u001B[38;5;66;03m# mover rato\u001B[39;00m\n\u001B[0;32m     58\u001B[0m \u001B[38;5;28;01mif\u001B[39;00m melhor_troca:\n",
      "Cell \u001B[1;32mIn[12], line 35\u001B[0m, in \u001B[0;36msugerir_melhor_jogada\u001B[1;34m(grid)\u001B[0m\n\u001B[0;32m     33\u001B[0m \u001B[38;5;28;01mfor\u001B[39;00m linha \u001B[38;5;129;01min\u001B[39;00m resultado_ocr[\u001B[38;5;241m0\u001B[39m]:\n\u001B[0;32m     34\u001B[0m     texto \u001B[38;5;241m=\u001B[39m linha[\u001B[38;5;241m1\u001B[39m][\u001B[38;5;241m0\u001B[39m]\n\u001B[1;32m---> 35\u001B[0m     \u001B[38;5;28;01mif\u001B[39;00m \u001B[43mtexto\u001B[49m\u001B[38;5;241;43m.\u001B[39;49m\u001B[43misdigit\u001B[49m():\n\u001B[0;32m     36\u001B[0m         numero \u001B[38;5;241m=\u001B[39m \u001B[38;5;28mint\u001B[39m(texto)\n\u001B[0;32m     37\u001B[0m         \u001B[38;5;28;01mbreak\u001B[39;00m\n",
      "\u001B[1;31mAttributeError\u001B[0m: 'numpy.int32' object has no attribute 'isdigit'"
     ]
    }
   ],
   "execution_count": 13
  }
 ],
 "metadata": {
  "kernelspec": {
   "display_name": "Python 3",
   "language": "python",
   "name": "python3"
  },
  "language_info": {
   "codemirror_mode": {
    "name": "ipython",
    "version": 2
   },
   "file_extension": ".py",
   "mimetype": "text/x-python",
   "name": "python",
   "nbconvert_exporter": "python",
   "pygments_lexer": "ipython2",
   "version": "2.7.6"
  }
 },
 "nbformat": 4,
 "nbformat_minor": 5
}
