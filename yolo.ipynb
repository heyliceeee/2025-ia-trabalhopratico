{
 "cells": [
  {
   "cell_type": "code",
   "id": "initial_id",
   "metadata": {
    "collapsed": true,
    "ExecuteTime": {
     "end_time": "2025-04-24T18:03:07.033498Z",
     "start_time": "2025-04-24T18:03:00.986232Z"
    }
   },
   "source": [
    "from IPython import display\n",
    "import torch\n",
    "from dotenv import load_dotenv\n",
    "import shutil\n",
    "import cv2\n",
    "import os\n",
    "import matplotlib.pyplot as plt\n",
    "import matplotlib.image as mpimg\n",
    "import roboflow\n",
    "import ultralytics\n",
    "from ultralytics import YOLO\n",
    "import mss\n",
    "import numpy as np\n",
    "import time\n",
    "import pyautogui\n",
    "from datetime import datetime"
   ],
   "outputs": [],
   "execution_count": 1
  },
  {
   "metadata": {},
   "cell_type": "code",
   "source": [
    "display.clear_output()\n",
    "ultralytics.checks()"
   ],
   "id": "dd1d6d397c8d3ab9",
   "execution_count": 8,
   "outputs": [
    {
     "name": "stdout",
     "output_type": "stream",
     "text": [
      "Ultralytics 8.3.104  Python-3.8.10 torch-2.4.1+cpu CPU (AMD Ryzen 5 3600 6-Core Processor)\n",
      "Setup complete  (12 CPUs, 15.9 GB RAM, 100.2/931.5 GB disk)\n"
     ]
    }
   ]
  },
  {
   "metadata": {
    "ExecuteTime": {
     "end_time": "2025-04-09T09:52:54.932143Z",
     "start_time": "2025-04-09T09:52:54.919007Z"
    }
   },
   "cell_type": "code",
   "source": [
    "# Em apple sillicon, verificar se o MPS está disponível\n",
    "print(torch.backends.mps.is_available())"
   ],
   "id": "d1cb36e0deeb8f31",
   "outputs": [
    {
     "name": "stdout",
     "output_type": "stream",
     "text": [
      "False\n"
     ]
    }
   ],
   "execution_count": 9
  },
  {
   "metadata": {
    "ExecuteTime": {
     "end_time": "2025-04-24T18:06:32.842425Z",
     "start_time": "2025-04-24T18:06:32.826510Z"
    }
   },
   "cell_type": "code",
   "source": [
    "# Carregar variáveis do ficheiro .env\n",
    "load_dotenv(override=True)\n",
    "\n",
    "# Obter variáveis\n",
    "api_key = os.getenv(\"ROBOFLOW_API_KEY\")\n",
    "workspace = os.getenv(\"ROBOFLOW_WORKSPACE\")\n",
    "project_name = os.getenv(\"ROBOFLOW_PROJECT\")\n",
    "version = int(os.getenv(\"ROBOFLOW_VERSION\", \"1\"))"
   ],
   "id": "3cab2654d3d5f992",
   "outputs": [],
   "execution_count": 2
  },
  {
   "metadata": {
    "ExecuteTime": {
     "end_time": "2025-04-24T18:06:42.992175Z",
     "start_time": "2025-04-24T18:06:39.376523Z"
    }
   },
   "cell_type": "code",
   "source": [
    "# descarregar o dataset do roboflow, depois de etiquetadas as imagens e criado o dataset em Mac tive problemas de permissões e foi necessário dar permissões à pasta de conf. do roboflow:\n",
    "# - sudo mkdir /Users/davidecarneiro/.config/roboflow (criar pasta onde vai guardar a conf.)\n",
    "# - sudo chown -R davidecarneiro:staff ~/.config/roboflow (dar permissões ao meu user)\n",
    "roboflow.login()\n",
    "\n",
    "rf = roboflow.Roboflow(api_key=api_key) # Faz login no Roboflow com a chave lida\n",
    "\n",
    "# substituir nome do workspace e do projeto\n",
    "project = rf.workspace(workspace).project(project_name)\n",
    "# se versão do dataset > 1, substituir pela versão correspondente\n",
    "dataset = project.version(version).download(\"yolov8\")\n",
    "\n",
    "# Move o dataset para a pasta desejada\n",
    "shutil.move(dataset.location, \"./datasets/candy-crush-saga-v3-1\")\n",
    "\n",
    "# Atualiza o caminho no objeto\n",
    "dataset.location = \"./datasets/candy-crush-saga-v3-1\"\n",
    "\n",
    "# WARN: necessário verificar os paths no ficheiro data.yaml, após este ser descarregado\n",
    "# alterar para:\n",
    "# train: ./datasets/candy-crush-saga-v3-1/train/images\n",
    "# val: ./datasets/candy-crush-saga-v3-1/valid/images\n",
    "# test: ./datasets/candy-crush-saga-v3-1/test/images"
   ],
   "id": "dcd4dbc2252ee03a",
   "outputs": [
    {
     "name": "stdout",
     "output_type": "stream",
     "text": [
      "You are already logged into Roboflow. To make a different login,run roboflow.login(force=True).\n",
      "loading Roboflow workspace...\n",
      "loading Roboflow project...\n"
     ]
    },
    {
     "name": "stderr",
     "output_type": "stream",
     "text": [
      "Downloading Dataset Version Zip in candy-crush-saga-v3-1 to yolov8:: 100%|██████████| 1664/1664 [00:00<00:00, 2106.62it/s]"
     ]
    },
    {
     "name": "stdout",
     "output_type": "stream",
     "text": [
      "\n"
     ]
    },
    {
     "name": "stderr",
     "output_type": "stream",
     "text": [
      "\n",
      "Extracting Dataset Version Zip to candy-crush-saga-v3-1 in yolov8:: 100%|██████████| 72/72 [00:00<00:00, 1381.28it/s]\n"
     ]
    }
   ],
   "execution_count": 3
  },
  {
   "metadata": {
    "ExecuteTime": {
     "end_time": "2025-04-09T10:50:20.991850Z",
     "start_time": "2025-04-09T10:04:47.192488Z"
    }
   },
   "cell_type": "code",
   "source": [
    "# treinar o modelo\n",
    "# lista de modelos pre-treinados disponível em https://docs.ultralytics.com/models/yolov8/#performance-metrics\n",
    "model = YOLO(\"YOLOv8m.pt\")  # carregar o modelo pre-treinado que se descarregou\n",
    "\n",
    "# Treinar o modelo\n",
    "results = model.train(data='./datasets/candy-crush-saga-v3-1/data.yaml', epochs=100, imgsz=640, device='cpu')  # windows amd cpu and gpu\n",
    "# results = model.train(data='candy-crush-saga-v3-1', epochs=100, imgsz=640, device=[0, 1]) # intel/windows\n",
    "# results = model.train(data='FoE-bot-2/data.yaml', epochs=100, imgsz=640, device='mps') # apple sillicon"
   ],
   "id": "7a38802a71b8ca7",
   "outputs": [
    {
     "name": "stdout",
     "output_type": "stream",
     "text": [
      "New https://pypi.org/project/ultralytics/8.3.105 available  Update with 'pip install -U ultralytics'\n",
      "Ultralytics 8.3.104  Python-3.8.10 torch-2.4.1+cpu CPU (AMD Ryzen 5 3600 6-Core Processor)\n",
      "\u001B[34m\u001B[1mengine\\trainer: \u001B[0mtask=detect, mode=train, model=YOLOv8m.pt, data=./datasets/candy-crush-saga-v3-1/data.yaml, epochs=100, time=None, patience=100, batch=16, imgsz=640, save=True, save_period=-1, cache=False, device=cpu, workers=8, project=None, name=train5, exist_ok=False, pretrained=True, optimizer=auto, verbose=True, seed=0, deterministic=True, single_cls=False, rect=False, cos_lr=False, close_mosaic=10, resume=False, amp=True, fraction=1.0, profile=False, freeze=None, multi_scale=False, overlap_mask=True, mask_ratio=4, dropout=0.0, val=True, split=val, save_json=False, save_hybrid=False, conf=None, iou=0.7, max_det=300, half=False, dnn=False, plots=True, source=None, vid_stride=1, stream_buffer=False, visualize=False, augment=False, agnostic_nms=False, classes=None, retina_masks=False, embed=None, show=False, save_frames=False, save_txt=False, save_conf=False, save_crop=False, show_labels=True, show_conf=True, show_boxes=True, line_width=None, format=torchscript, keras=False, optimize=False, int8=False, dynamic=False, simplify=True, opset=None, workspace=None, nms=False, lr0=0.01, lrf=0.01, momentum=0.937, weight_decay=0.0005, warmup_epochs=3.0, warmup_momentum=0.8, warmup_bias_lr=0.1, box=7.5, cls=0.5, dfl=1.5, pose=12.0, kobj=1.0, nbs=64, hsv_h=0.015, hsv_s=0.7, hsv_v=0.4, degrees=0.0, translate=0.1, scale=0.5, shear=0.0, perspective=0.0, flipud=0.0, fliplr=0.5, bgr=0.0, mosaic=1.0, mixup=0.0, copy_paste=0.0, copy_paste_mode=flip, auto_augment=randaugment, erasing=0.4, crop_fraction=1.0, cfg=None, tracker=botsort.yaml, save_dir=runs\\detect\\train5\n",
      "Overriding model.yaml nc=80 with nc=6\n",
      "\n",
      "                   from  n    params  module                                       arguments                     \n",
      "  0                  -1  1      1392  ultralytics.nn.modules.conv.Conv             [3, 48, 3, 2]                 \n",
      "  1                  -1  1     41664  ultralytics.nn.modules.conv.Conv             [48, 96, 3, 2]                \n",
      "  2                  -1  2    111360  ultralytics.nn.modules.block.C2f             [96, 96, 2, True]             \n",
      "  3                  -1  1    166272  ultralytics.nn.modules.conv.Conv             [96, 192, 3, 2]               \n",
      "  4                  -1  4    813312  ultralytics.nn.modules.block.C2f             [192, 192, 4, True]           \n",
      "  5                  -1  1    664320  ultralytics.nn.modules.conv.Conv             [192, 384, 3, 2]              \n",
      "  6                  -1  4   3248640  ultralytics.nn.modules.block.C2f             [384, 384, 4, True]           \n",
      "  7                  -1  1   1991808  ultralytics.nn.modules.conv.Conv             [384, 576, 3, 2]              \n",
      "  8                  -1  2   3985920  ultralytics.nn.modules.block.C2f             [576, 576, 2, True]           \n",
      "  9                  -1  1    831168  ultralytics.nn.modules.block.SPPF            [576, 576, 5]                 \n",
      " 10                  -1  1         0  torch.nn.modules.upsampling.Upsample         [None, 2, 'nearest']          \n",
      " 11             [-1, 6]  1         0  ultralytics.nn.modules.conv.Concat           [1]                           \n",
      " 12                  -1  2   1993728  ultralytics.nn.modules.block.C2f             [960, 384, 2]                 \n",
      " 13                  -1  1         0  torch.nn.modules.upsampling.Upsample         [None, 2, 'nearest']          \n",
      " 14             [-1, 4]  1         0  ultralytics.nn.modules.conv.Concat           [1]                           \n",
      " 15                  -1  2    517632  ultralytics.nn.modules.block.C2f             [576, 192, 2]                 \n",
      " 16                  -1  1    332160  ultralytics.nn.modules.conv.Conv             [192, 192, 3, 2]              \n",
      " 17            [-1, 12]  1         0  ultralytics.nn.modules.conv.Concat           [1]                           \n",
      " 18                  -1  2   1846272  ultralytics.nn.modules.block.C2f             [576, 384, 2]                 \n",
      " 19                  -1  1   1327872  ultralytics.nn.modules.conv.Conv             [384, 384, 3, 2]              \n",
      " 20             [-1, 9]  1         0  ultralytics.nn.modules.conv.Concat           [1]                           \n",
      " 21                  -1  2   4207104  ultralytics.nn.modules.block.C2f             [960, 576, 2]                 \n",
      " 22        [15, 18, 21]  1   3779170  ultralytics.nn.modules.head.Detect           [6, [192, 384, 576]]          \n",
      "Model summary: 169 layers, 25,859,794 parameters, 25,859,778 gradients, 79.1 GFLOPs\n",
      "\n",
      "Transferred 469/475 items from pretrained weights\n",
      "Freezing layer 'model.22.dfl.conv.weight'\n"
     ]
    },
    {
     "name": "stderr",
     "output_type": "stream",
     "text": [
      "\u001B[34m\u001B[1mtrain: \u001B[0mScanning D:\\githubProjects\\2025-ia-trabalhopratico\\datasets\\candy-crush-saga-v3-1\\train\\labels... 21 images, 0 backgrounds, 0 corrupt: 100%|██████████| 21/21 [00:00<00:00, 477.27it/s]"
     ]
    },
    {
     "name": "stdout",
     "output_type": "stream",
     "text": [
      "\u001B[34m\u001B[1mtrain: \u001B[0mNew cache created: D:\\githubProjects\\2025-ia-trabalhopratico\\datasets\\candy-crush-saga-v3-1\\train\\labels.cache\n"
     ]
    },
    {
     "name": "stderr",
     "output_type": "stream",
     "text": [
      "\n",
      "\u001B[34m\u001B[1mval: \u001B[0mScanning D:\\githubProjects\\2025-ia-trabalhopratico\\datasets\\candy-crush-saga-v3-1\\valid\\labels... 6 images, 0 backgrounds, 0 corrupt: 100%|██████████| 6/6 [00:00<00:00, 520.36it/s]"
     ]
    },
    {
     "name": "stdout",
     "output_type": "stream",
     "text": [
      "\u001B[34m\u001B[1mval: \u001B[0mNew cache created: D:\\githubProjects\\2025-ia-trabalhopratico\\datasets\\candy-crush-saga-v3-1\\valid\\labels.cache\n"
     ]
    },
    {
     "name": "stderr",
     "output_type": "stream",
     "text": [
      "\n"
     ]
    },
    {
     "name": "stdout",
     "output_type": "stream",
     "text": [
      "Plotting labels to runs\\detect\\train5\\labels.jpg... \n",
      "\u001B[34m\u001B[1moptimizer:\u001B[0m 'optimizer=auto' found, ignoring 'lr0=0.01' and 'momentum=0.937' and determining best 'optimizer', 'lr0' and 'momentum' automatically... \n",
      "\u001B[34m\u001B[1moptimizer:\u001B[0m AdamW(lr=0.001, momentum=0.9) with parameter groups 77 weight(decay=0.0), 84 weight(decay=0.0005), 83 bias(decay=0.0)\n",
      "Image sizes 640 train, 640 val\n",
      "Using 0 dataloader workers\n",
      "Logging results to \u001B[1mruns\\detect\\train5\u001B[0m\n",
      "Starting training for 100 epochs...\n",
      "\n",
      "      Epoch    GPU_mem   box_loss   cls_loss   dfl_loss  Instances       Size\n"
     ]
    },
    {
     "name": "stderr",
     "output_type": "stream",
     "text": [
      "      1/100         0G      2.345      3.963      2.005        467        640: 100%|██████████| 2/2 [01:01<00:00, 30.54s/it]\n",
      "                 Class     Images  Instances      Box(P          R      mAP50  mAP50-95): 100%|██████████| 1/1 [00:04<00:00,  4.37s/it]"
     ]
    },
    {
     "name": "stdout",
     "output_type": "stream",
     "text": [
      "                   all          6        303      0.594       0.12      0.118     0.0378\n"
     ]
    },
    {
     "name": "stderr",
     "output_type": "stream",
     "text": [
      "\n"
     ]
    },
    {
     "name": "stdout",
     "output_type": "stream",
     "text": [
      "\n",
      "      Epoch    GPU_mem   box_loss   cls_loss   dfl_loss  Instances       Size\n"
     ]
    },
    {
     "name": "stderr",
     "output_type": "stream",
     "text": [
      "      2/100         0G      2.154      3.725      1.864        394        640: 100%|██████████| 2/2 [00:23<00:00, 11.79s/it]\n",
      "                 Class     Images  Instances      Box(P          R      mAP50  mAP50-95): 100%|██████████| 1/1 [00:02<00:00,  2.73s/it]"
     ]
    },
    {
     "name": "stdout",
     "output_type": "stream",
     "text": [
      "                   all          6        303     0.0755      0.303      0.109     0.0565\n"
     ]
    },
    {
     "name": "stderr",
     "output_type": "stream",
     "text": [
      "\n"
     ]
    },
    {
     "name": "stdout",
     "output_type": "stream",
     "text": [
      "\n",
      "      Epoch    GPU_mem   box_loss   cls_loss   dfl_loss  Instances       Size\n"
     ]
    },
    {
     "name": "stderr",
     "output_type": "stream",
     "text": [
      "      3/100         0G      1.578      3.007      1.484        312        640: 100%|██████████| 2/2 [00:23<00:00, 11.58s/it]\n",
      "                 Class     Images  Instances      Box(P          R      mAP50  mAP50-95): 100%|██████████| 1/1 [00:02<00:00,  2.67s/it]"
     ]
    },
    {
     "name": "stdout",
     "output_type": "stream",
     "text": [
      "                   all          6        303      0.117      0.703      0.189      0.147\n"
     ]
    },
    {
     "name": "stderr",
     "output_type": "stream",
     "text": [
      "\n"
     ]
    },
    {
     "name": "stdout",
     "output_type": "stream",
     "text": [
      "\n",
      "      Epoch    GPU_mem   box_loss   cls_loss   dfl_loss  Instances       Size\n"
     ]
    },
    {
     "name": "stderr",
     "output_type": "stream",
     "text": [
      "      4/100         0G      1.195       2.29      1.238        352        640: 100%|██████████| 2/2 [00:22<00:00, 11.49s/it]\n",
      "                 Class     Images  Instances      Box(P          R      mAP50  mAP50-95): 100%|██████████| 1/1 [00:02<00:00,  2.66s/it]"
     ]
    },
    {
     "name": "stdout",
     "output_type": "stream",
     "text": [
      "                   all          6        303      0.472      0.667      0.447      0.371\n"
     ]
    },
    {
     "name": "stderr",
     "output_type": "stream",
     "text": [
      "\n"
     ]
    },
    {
     "name": "stdout",
     "output_type": "stream",
     "text": [
      "\n",
      "      Epoch    GPU_mem   box_loss   cls_loss   dfl_loss  Instances       Size\n"
     ]
    },
    {
     "name": "stderr",
     "output_type": "stream",
     "text": [
      "      5/100         0G      1.126      1.636      1.243        343        640: 100%|██████████| 2/2 [00:22<00:00, 11.39s/it]\n",
      "                 Class     Images  Instances      Box(P          R      mAP50  mAP50-95): 100%|██████████| 1/1 [00:02<00:00,  2.57s/it]"
     ]
    },
    {
     "name": "stdout",
     "output_type": "stream",
     "text": [
      "                   all          6        303      0.802      0.738      0.774      0.613\n"
     ]
    },
    {
     "name": "stderr",
     "output_type": "stream",
     "text": [
      "\n"
     ]
    },
    {
     "name": "stdout",
     "output_type": "stream",
     "text": [
      "\n",
      "      Epoch    GPU_mem   box_loss   cls_loss   dfl_loss  Instances       Size\n"
     ]
    },
    {
     "name": "stderr",
     "output_type": "stream",
     "text": [
      "      6/100         0G     0.8404      1.042      1.148        334        640: 100%|██████████| 2/2 [00:23<00:00, 11.75s/it]\n",
      "                 Class     Images  Instances      Box(P          R      mAP50  mAP50-95): 100%|██████████| 1/1 [00:02<00:00,  2.57s/it]"
     ]
    },
    {
     "name": "stdout",
     "output_type": "stream",
     "text": [
      "                   all          6        303      0.749      0.787      0.826      0.565\n"
     ]
    },
    {
     "name": "stderr",
     "output_type": "stream",
     "text": [
      "\n"
     ]
    },
    {
     "name": "stdout",
     "output_type": "stream",
     "text": [
      "\n",
      "      Epoch    GPU_mem   box_loss   cls_loss   dfl_loss  Instances       Size\n"
     ]
    },
    {
     "name": "stderr",
     "output_type": "stream",
     "text": [
      "      7/100         0G     0.8109      0.876      1.081        317        640: 100%|██████████| 2/2 [00:22<00:00, 11.48s/it]\n",
      "                 Class     Images  Instances      Box(P          R      mAP50  mAP50-95): 100%|██████████| 1/1 [00:02<00:00,  2.60s/it]"
     ]
    },
    {
     "name": "stdout",
     "output_type": "stream",
     "text": [
      "                   all          6        303      0.887      0.797      0.826      0.535\n"
     ]
    },
    {
     "name": "stderr",
     "output_type": "stream",
     "text": [
      "\n"
     ]
    },
    {
     "name": "stdout",
     "output_type": "stream",
     "text": [
      "\n",
      "      Epoch    GPU_mem   box_loss   cls_loss   dfl_loss  Instances       Size\n"
     ]
    },
    {
     "name": "stderr",
     "output_type": "stream",
     "text": [
      "      8/100         0G     0.6668     0.6756      1.045        443        640: 100%|██████████| 2/2 [00:22<00:00, 11.27s/it]\n",
      "                 Class     Images  Instances      Box(P          R      mAP50  mAP50-95): 100%|██████████| 1/1 [00:02<00:00,  2.53s/it]"
     ]
    },
    {
     "name": "stdout",
     "output_type": "stream",
     "text": [
      "                   all          6        303      0.971       0.68      0.803      0.616\n"
     ]
    },
    {
     "name": "stderr",
     "output_type": "stream",
     "text": [
      "\n"
     ]
    },
    {
     "name": "stdout",
     "output_type": "stream",
     "text": [
      "\n",
      "      Epoch    GPU_mem   box_loss   cls_loss   dfl_loss  Instances       Size\n"
     ]
    },
    {
     "name": "stderr",
     "output_type": "stream",
     "text": [
      "      9/100         0G     0.8473     0.6945       1.02        603        640: 100%|██████████| 2/2 [00:22<00:00, 11.48s/it]\n",
      "                 Class     Images  Instances      Box(P          R      mAP50  mAP50-95): 100%|██████████| 1/1 [00:02<00:00,  2.67s/it]"
     ]
    },
    {
     "name": "stdout",
     "output_type": "stream",
     "text": [
      "                   all          6        303      0.788      0.667      0.809      0.675\n"
     ]
    },
    {
     "name": "stderr",
     "output_type": "stream",
     "text": [
      "\n"
     ]
    },
    {
     "name": "stdout",
     "output_type": "stream",
     "text": [
      "\n",
      "      Epoch    GPU_mem   box_loss   cls_loss   dfl_loss  Instances       Size\n"
     ]
    },
    {
     "name": "stderr",
     "output_type": "stream",
     "text": [
      "     10/100         0G       0.64     0.5749     0.9918        341        640: 100%|██████████| 2/2 [00:23<00:00, 11.74s/it]\n",
      "                 Class     Images  Instances      Box(P          R      mAP50  mAP50-95): 100%|██████████| 1/1 [00:02<00:00,  2.87s/it]"
     ]
    },
    {
     "name": "stdout",
     "output_type": "stream",
     "text": [
      "                   all          6        303      0.759      0.759      0.826      0.709\n"
     ]
    },
    {
     "name": "stderr",
     "output_type": "stream",
     "text": [
      "\n"
     ]
    },
    {
     "name": "stdout",
     "output_type": "stream",
     "text": [
      "\n",
      "      Epoch    GPU_mem   box_loss   cls_loss   dfl_loss  Instances       Size\n"
     ]
    },
    {
     "name": "stderr",
     "output_type": "stream",
     "text": [
      "     11/100         0G     0.6694     0.5701     0.9712        488        640: 100%|██████████| 2/2 [00:22<00:00, 11.50s/it]\n",
      "                 Class     Images  Instances      Box(P          R      mAP50  mAP50-95): 100%|██████████| 1/1 [00:02<00:00,  2.64s/it]"
     ]
    },
    {
     "name": "stdout",
     "output_type": "stream",
     "text": [
      "                   all          6        303       0.82      0.829       0.83      0.718\n"
     ]
    },
    {
     "name": "stderr",
     "output_type": "stream",
     "text": [
      "\n"
     ]
    },
    {
     "name": "stdout",
     "output_type": "stream",
     "text": [
      "\n",
      "      Epoch    GPU_mem   box_loss   cls_loss   dfl_loss  Instances       Size\n"
     ]
    },
    {
     "name": "stderr",
     "output_type": "stream",
     "text": [
      "     12/100         0G     0.6997     0.5417     0.9865        415        640: 100%|██████████| 2/2 [00:22<00:00, 11.35s/it]\n",
      "                 Class     Images  Instances      Box(P          R      mAP50  mAP50-95): 100%|██████████| 1/1 [00:02<00:00,  2.85s/it]"
     ]
    },
    {
     "name": "stdout",
     "output_type": "stream",
     "text": [
      "                   all          6        303      0.997      0.833      0.831      0.681\n"
     ]
    },
    {
     "name": "stderr",
     "output_type": "stream",
     "text": [
      "\n"
     ]
    },
    {
     "name": "stdout",
     "output_type": "stream",
     "text": [
      "\n",
      "      Epoch    GPU_mem   box_loss   cls_loss   dfl_loss  Instances       Size\n"
     ]
    },
    {
     "name": "stderr",
     "output_type": "stream",
     "text": [
      "     13/100         0G     0.6454     0.5424     0.9836        283        640: 100%|██████████| 2/2 [00:22<00:00, 11.19s/it]\n",
      "                 Class     Images  Instances      Box(P          R      mAP50  mAP50-95): 100%|██████████| 1/1 [00:02<00:00,  2.73s/it]"
     ]
    },
    {
     "name": "stdout",
     "output_type": "stream",
     "text": [
      "                   all          6        303      0.996      0.827      0.831      0.656\n"
     ]
    },
    {
     "name": "stderr",
     "output_type": "stream",
     "text": [
      "\n"
     ]
    },
    {
     "name": "stdout",
     "output_type": "stream",
     "text": [
      "\n",
      "      Epoch    GPU_mem   box_loss   cls_loss   dfl_loss  Instances       Size\n"
     ]
    },
    {
     "name": "stderr",
     "output_type": "stream",
     "text": [
      "     14/100         0G     0.6276     0.4565     0.9164        417        640: 100%|██████████| 2/2 [00:22<00:00, 11.29s/it]\n",
      "                 Class     Images  Instances      Box(P          R      mAP50  mAP50-95): 100%|██████████| 1/1 [00:02<00:00,  2.74s/it]"
     ]
    },
    {
     "name": "stdout",
     "output_type": "stream",
     "text": [
      "                   all          6        303      0.995      0.826      0.831      0.675\n"
     ]
    },
    {
     "name": "stderr",
     "output_type": "stream",
     "text": [
      "\n"
     ]
    },
    {
     "name": "stdout",
     "output_type": "stream",
     "text": [
      "\n",
      "      Epoch    GPU_mem   box_loss   cls_loss   dfl_loss  Instances       Size\n"
     ]
    },
    {
     "name": "stderr",
     "output_type": "stream",
     "text": [
      "     15/100         0G     0.6431     0.5053     0.9859        212        640: 100%|██████████| 2/2 [00:22<00:00, 11.28s/it]\n",
      "                 Class     Images  Instances      Box(P          R      mAP50  mAP50-95): 100%|██████████| 1/1 [00:02<00:00,  2.77s/it]"
     ]
    },
    {
     "name": "stdout",
     "output_type": "stream",
     "text": [
      "                   all          6        303      0.991      0.826      0.833      0.721\n"
     ]
    },
    {
     "name": "stderr",
     "output_type": "stream",
     "text": [
      "\n"
     ]
    },
    {
     "name": "stdout",
     "output_type": "stream",
     "text": [
      "\n",
      "      Epoch    GPU_mem   box_loss   cls_loss   dfl_loss  Instances       Size\n"
     ]
    },
    {
     "name": "stderr",
     "output_type": "stream",
     "text": [
      "     16/100         0G     0.7462      0.516     0.9862        331        640: 100%|██████████| 2/2 [00:23<00:00, 11.71s/it]\n",
      "                 Class     Images  Instances      Box(P          R      mAP50  mAP50-95): 100%|██████████| 1/1 [00:02<00:00,  2.72s/it]"
     ]
    },
    {
     "name": "stdout",
     "output_type": "stream",
     "text": [
      "                   all          6        303      0.992      0.826       0.84      0.738\n"
     ]
    },
    {
     "name": "stderr",
     "output_type": "stream",
     "text": [
      "\n"
     ]
    },
    {
     "name": "stdout",
     "output_type": "stream",
     "text": [
      "\n",
      "      Epoch    GPU_mem   box_loss   cls_loss   dfl_loss  Instances       Size\n"
     ]
    },
    {
     "name": "stderr",
     "output_type": "stream",
     "text": [
      "     17/100         0G     0.6537     0.4525     0.9535        376        640: 100%|██████████| 2/2 [00:22<00:00, 11.30s/it]\n",
      "                 Class     Images  Instances      Box(P          R      mAP50  mAP50-95): 100%|██████████| 1/1 [00:02<00:00,  2.77s/it]"
     ]
    },
    {
     "name": "stdout",
     "output_type": "stream",
     "text": [
      "                   all          6        303      0.987      0.826      0.865      0.757\n"
     ]
    },
    {
     "name": "stderr",
     "output_type": "stream",
     "text": [
      "\n"
     ]
    },
    {
     "name": "stdout",
     "output_type": "stream",
     "text": [
      "\n",
      "      Epoch    GPU_mem   box_loss   cls_loss   dfl_loss  Instances       Size\n"
     ]
    },
    {
     "name": "stderr",
     "output_type": "stream",
     "text": [
      "     18/100         0G     0.5973     0.4498     0.9348        511        640: 100%|██████████| 2/2 [00:22<00:00, 11.31s/it]\n",
      "                 Class     Images  Instances      Box(P          R      mAP50  mAP50-95): 100%|██████████| 1/1 [00:02<00:00,  2.64s/it]"
     ]
    },
    {
     "name": "stdout",
     "output_type": "stream",
     "text": [
      "                   all          6        303      0.989      0.825      0.858      0.739\n"
     ]
    },
    {
     "name": "stderr",
     "output_type": "stream",
     "text": [
      "\n"
     ]
    },
    {
     "name": "stdout",
     "output_type": "stream",
     "text": [
      "\n",
      "      Epoch    GPU_mem   box_loss   cls_loss   dfl_loss  Instances       Size\n"
     ]
    },
    {
     "name": "stderr",
     "output_type": "stream",
     "text": [
      "     19/100         0G     0.6251     0.4276     0.9114        428        640: 100%|██████████| 2/2 [00:23<00:00, 11.57s/it]\n",
      "                 Class     Images  Instances      Box(P          R      mAP50  mAP50-95): 100%|██████████| 1/1 [00:02<00:00,  2.64s/it]"
     ]
    },
    {
     "name": "stdout",
     "output_type": "stream",
     "text": [
      "                   all          6        303      0.968      0.826      0.856      0.723\n"
     ]
    },
    {
     "name": "stderr",
     "output_type": "stream",
     "text": [
      "\n"
     ]
    },
    {
     "name": "stdout",
     "output_type": "stream",
     "text": [
      "\n",
      "      Epoch    GPU_mem   box_loss   cls_loss   dfl_loss  Instances       Size\n"
     ]
    },
    {
     "name": "stderr",
     "output_type": "stream",
     "text": [
      "     20/100         0G     0.6288     0.4472     0.9589        254        640: 100%|██████████| 2/2 [00:22<00:00, 11.19s/it]\n",
      "                 Class     Images  Instances      Box(P          R      mAP50  mAP50-95): 100%|██████████| 1/1 [00:02<00:00,  2.69s/it]"
     ]
    },
    {
     "name": "stdout",
     "output_type": "stream",
     "text": [
      "                   all          6        303      0.945      0.808      0.904      0.754\n"
     ]
    },
    {
     "name": "stderr",
     "output_type": "stream",
     "text": [
      "\n"
     ]
    },
    {
     "name": "stdout",
     "output_type": "stream",
     "text": [
      "\n",
      "      Epoch    GPU_mem   box_loss   cls_loss   dfl_loss  Instances       Size\n"
     ]
    },
    {
     "name": "stderr",
     "output_type": "stream",
     "text": [
      "     21/100         0G     0.6586     0.4335      0.933        342        640: 100%|██████████| 2/2 [00:24<00:00, 12.12s/it]\n",
      "                 Class     Images  Instances      Box(P          R      mAP50  mAP50-95): 100%|██████████| 1/1 [00:02<00:00,  2.77s/it]"
     ]
    },
    {
     "name": "stdout",
     "output_type": "stream",
     "text": [
      "                   all          6        303      0.943      0.803      0.976      0.839\n"
     ]
    },
    {
     "name": "stderr",
     "output_type": "stream",
     "text": [
      "\n"
     ]
    },
    {
     "name": "stdout",
     "output_type": "stream",
     "text": [
      "\n",
      "      Epoch    GPU_mem   box_loss   cls_loss   dfl_loss  Instances       Size\n"
     ]
    },
    {
     "name": "stderr",
     "output_type": "stream",
     "text": [
      "     22/100         0G     0.5866     0.4018     0.9141        397        640: 100%|██████████| 2/2 [00:31<00:00, 15.80s/it]\n",
      "                 Class     Images  Instances      Box(P          R      mAP50  mAP50-95): 100%|██████████| 1/1 [00:02<00:00,  2.99s/it]"
     ]
    },
    {
     "name": "stdout",
     "output_type": "stream",
     "text": [
      "                   all          6        303      0.748          1      0.989      0.866\n"
     ]
    },
    {
     "name": "stderr",
     "output_type": "stream",
     "text": [
      "\n"
     ]
    },
    {
     "name": "stdout",
     "output_type": "stream",
     "text": [
      "\n",
      "      Epoch    GPU_mem   box_loss   cls_loss   dfl_loss  Instances       Size\n"
     ]
    },
    {
     "name": "stderr",
     "output_type": "stream",
     "text": [
      "     23/100         0G     0.5664     0.3814     0.9154        439        640: 100%|██████████| 2/2 [00:23<00:00, 11.71s/it]\n",
      "                 Class     Images  Instances      Box(P          R      mAP50  mAP50-95): 100%|██████████| 1/1 [00:02<00:00,  2.90s/it]"
     ]
    },
    {
     "name": "stdout",
     "output_type": "stream",
     "text": [
      "                   all          6        303      0.884          1      0.995      0.885\n"
     ]
    },
    {
     "name": "stderr",
     "output_type": "stream",
     "text": [
      "\n"
     ]
    },
    {
     "name": "stdout",
     "output_type": "stream",
     "text": [
      "\n",
      "      Epoch    GPU_mem   box_loss   cls_loss   dfl_loss  Instances       Size\n"
     ]
    },
    {
     "name": "stderr",
     "output_type": "stream",
     "text": [
      "     24/100         0G     0.5765     0.3804     0.9115        504        640: 100%|██████████| 2/2 [00:23<00:00, 11.66s/it]\n",
      "                 Class     Images  Instances      Box(P          R      mAP50  mAP50-95): 100%|██████████| 1/1 [00:02<00:00,  2.78s/it]"
     ]
    },
    {
     "name": "stdout",
     "output_type": "stream",
     "text": [
      "                   all          6        303      0.984          1      0.995      0.882\n"
     ]
    },
    {
     "name": "stderr",
     "output_type": "stream",
     "text": [
      "\n"
     ]
    },
    {
     "name": "stdout",
     "output_type": "stream",
     "text": [
      "\n",
      "      Epoch    GPU_mem   box_loss   cls_loss   dfl_loss  Instances       Size\n"
     ]
    },
    {
     "name": "stderr",
     "output_type": "stream",
     "text": [
      "     25/100         0G     0.6251     0.3764     0.9225        367        640: 100%|██████████| 2/2 [00:23<00:00, 11.62s/it]\n",
      "                 Class     Images  Instances      Box(P          R      mAP50  mAP50-95): 100%|██████████| 1/1 [00:02<00:00,  2.75s/it]"
     ]
    },
    {
     "name": "stdout",
     "output_type": "stream",
     "text": [
      "                   all          6        303      0.993          1      0.995      0.884\n"
     ]
    },
    {
     "name": "stderr",
     "output_type": "stream",
     "text": [
      "\n"
     ]
    },
    {
     "name": "stdout",
     "output_type": "stream",
     "text": [
      "\n",
      "      Epoch    GPU_mem   box_loss   cls_loss   dfl_loss  Instances       Size\n"
     ]
    },
    {
     "name": "stderr",
     "output_type": "stream",
     "text": [
      "     26/100         0G     0.6261     0.4228      0.955        219        640: 100%|██████████| 2/2 [00:22<00:00, 11.29s/it]\n",
      "                 Class     Images  Instances      Box(P          R      mAP50  mAP50-95): 100%|██████████| 1/1 [00:02<00:00,  2.65s/it]"
     ]
    },
    {
     "name": "stdout",
     "output_type": "stream",
     "text": [
      "                   all          6        303      0.992      0.998      0.995      0.885\n"
     ]
    },
    {
     "name": "stderr",
     "output_type": "stream",
     "text": [
      "\n"
     ]
    },
    {
     "name": "stdout",
     "output_type": "stream",
     "text": [
      "\n",
      "      Epoch    GPU_mem   box_loss   cls_loss   dfl_loss  Instances       Size\n"
     ]
    },
    {
     "name": "stderr",
     "output_type": "stream",
     "text": [
      "     27/100         0G     0.5724     0.4065      0.915        389        640: 100%|██████████| 2/2 [00:22<00:00, 11.36s/it]\n",
      "                 Class     Images  Instances      Box(P          R      mAP50  mAP50-95): 100%|██████████| 1/1 [00:02<00:00,  2.54s/it]"
     ]
    },
    {
     "name": "stdout",
     "output_type": "stream",
     "text": [
      "                   all          6        303      0.994          1      0.995      0.883\n"
     ]
    },
    {
     "name": "stderr",
     "output_type": "stream",
     "text": [
      "\n"
     ]
    },
    {
     "name": "stdout",
     "output_type": "stream",
     "text": [
      "\n",
      "      Epoch    GPU_mem   box_loss   cls_loss   dfl_loss  Instances       Size\n"
     ]
    },
    {
     "name": "stderr",
     "output_type": "stream",
     "text": [
      "     28/100         0G     0.5206     0.3655     0.9169        341        640: 100%|██████████| 2/2 [00:22<00:00, 11.14s/it]\n",
      "                 Class     Images  Instances      Box(P          R      mAP50  mAP50-95): 100%|██████████| 1/1 [00:02<00:00,  2.57s/it]"
     ]
    },
    {
     "name": "stdout",
     "output_type": "stream",
     "text": [
      "                   all          6        303      0.994          1      0.995      0.883\n"
     ]
    },
    {
     "name": "stderr",
     "output_type": "stream",
     "text": [
      "\n"
     ]
    },
    {
     "name": "stdout",
     "output_type": "stream",
     "text": [
      "\n",
      "      Epoch    GPU_mem   box_loss   cls_loss   dfl_loss  Instances       Size\n"
     ]
    },
    {
     "name": "stderr",
     "output_type": "stream",
     "text": [
      "     29/100         0G     0.5783     0.4176     0.9617        181        640: 100%|██████████| 2/2 [00:22<00:00, 11.23s/it]\n",
      "                 Class     Images  Instances      Box(P          R      mAP50  mAP50-95): 100%|██████████| 1/1 [00:02<00:00,  2.51s/it]"
     ]
    },
    {
     "name": "stdout",
     "output_type": "stream",
     "text": [
      "                   all          6        303      0.986      0.994      0.995      0.893\n"
     ]
    },
    {
     "name": "stderr",
     "output_type": "stream",
     "text": [
      "\n"
     ]
    },
    {
     "name": "stdout",
     "output_type": "stream",
     "text": [
      "\n",
      "      Epoch    GPU_mem   box_loss   cls_loss   dfl_loss  Instances       Size\n"
     ]
    },
    {
     "name": "stderr",
     "output_type": "stream",
     "text": [
      "     30/100         0G     0.4925      0.367     0.9227        272        640: 100%|██████████| 2/2 [00:22<00:00, 11.28s/it]\n",
      "                 Class     Images  Instances      Box(P          R      mAP50  mAP50-95): 100%|██████████| 1/1 [00:02<00:00,  2.55s/it]"
     ]
    },
    {
     "name": "stdout",
     "output_type": "stream",
     "text": [
      "                   all          6        303      0.981      0.987      0.995      0.893\n"
     ]
    },
    {
     "name": "stderr",
     "output_type": "stream",
     "text": [
      "\n"
     ]
    },
    {
     "name": "stdout",
     "output_type": "stream",
     "text": [
      "\n",
      "      Epoch    GPU_mem   box_loss   cls_loss   dfl_loss  Instances       Size\n"
     ]
    },
    {
     "name": "stderr",
     "output_type": "stream",
     "text": [
      "     31/100         0G     0.5431     0.3841     0.8967        270        640: 100%|██████████| 2/2 [00:22<00:00, 11.37s/it]\n",
      "                 Class     Images  Instances      Box(P          R      mAP50  mAP50-95): 100%|██████████| 1/1 [00:02<00:00,  2.54s/it]"
     ]
    },
    {
     "name": "stdout",
     "output_type": "stream",
     "text": [
      "                   all          6        303      0.981      0.987      0.995      0.893\n"
     ]
    },
    {
     "name": "stderr",
     "output_type": "stream",
     "text": [
      "\n"
     ]
    },
    {
     "name": "stdout",
     "output_type": "stream",
     "text": [
      "\n",
      "      Epoch    GPU_mem   box_loss   cls_loss   dfl_loss  Instances       Size\n"
     ]
    },
    {
     "name": "stderr",
     "output_type": "stream",
     "text": [
      "     32/100         0G     0.6118     0.3844     0.9668        203        640: 100%|██████████| 2/2 [00:22<00:00, 11.49s/it]\n",
      "                 Class     Images  Instances      Box(P          R      mAP50  mAP50-95): 100%|██████████| 1/1 [00:02<00:00,  2.63s/it]"
     ]
    },
    {
     "name": "stdout",
     "output_type": "stream",
     "text": [
      "                   all          6        303      0.991      0.998      0.995       0.89\n"
     ]
    },
    {
     "name": "stderr",
     "output_type": "stream",
     "text": [
      "\n"
     ]
    },
    {
     "name": "stdout",
     "output_type": "stream",
     "text": [
      "\n",
      "      Epoch    GPU_mem   box_loss   cls_loss   dfl_loss  Instances       Size\n"
     ]
    },
    {
     "name": "stderr",
     "output_type": "stream",
     "text": [
      "     33/100         0G     0.5863      0.385     0.9414        446        640: 100%|██████████| 2/2 [00:23<00:00, 11.51s/it]\n",
      "                 Class     Images  Instances      Box(P          R      mAP50  mAP50-95): 100%|██████████| 1/1 [00:02<00:00,  2.55s/it]"
     ]
    },
    {
     "name": "stdout",
     "output_type": "stream",
     "text": [
      "                   all          6        303      0.992          1      0.995      0.871\n"
     ]
    },
    {
     "name": "stderr",
     "output_type": "stream",
     "text": [
      "\n"
     ]
    },
    {
     "name": "stdout",
     "output_type": "stream",
     "text": [
      "\n",
      "      Epoch    GPU_mem   box_loss   cls_loss   dfl_loss  Instances       Size\n"
     ]
    },
    {
     "name": "stderr",
     "output_type": "stream",
     "text": [
      "     34/100         0G     0.5699     0.3712     0.9594        221        640: 100%|██████████| 2/2 [00:22<00:00, 11.25s/it]\n",
      "                 Class     Images  Instances      Box(P          R      mAP50  mAP50-95): 100%|██████████| 1/1 [00:02<00:00,  2.87s/it]"
     ]
    },
    {
     "name": "stdout",
     "output_type": "stream",
     "text": [
      "                   all          6        303      0.992          1      0.995      0.871\n"
     ]
    },
    {
     "name": "stderr",
     "output_type": "stream",
     "text": [
      "\n"
     ]
    },
    {
     "name": "stdout",
     "output_type": "stream",
     "text": [
      "\n",
      "      Epoch    GPU_mem   box_loss   cls_loss   dfl_loss  Instances       Size\n"
     ]
    },
    {
     "name": "stderr",
     "output_type": "stream",
     "text": [
      "     35/100         0G     0.5995     0.3685     0.9309        349        640: 100%|██████████| 2/2 [00:22<00:00, 11.45s/it]\n",
      "                 Class     Images  Instances      Box(P          R      mAP50  mAP50-95): 100%|██████████| 1/1 [00:02<00:00,  2.45s/it]"
     ]
    },
    {
     "name": "stdout",
     "output_type": "stream",
     "text": [
      "                   all          6        303      0.989      0.999      0.995      0.873\n"
     ]
    },
    {
     "name": "stderr",
     "output_type": "stream",
     "text": [
      "\n"
     ]
    },
    {
     "name": "stdout",
     "output_type": "stream",
     "text": [
      "\n",
      "      Epoch    GPU_mem   box_loss   cls_loss   dfl_loss  Instances       Size\n"
     ]
    },
    {
     "name": "stderr",
     "output_type": "stream",
     "text": [
      "     36/100         0G     0.5405     0.3529     0.9434        398        640: 100%|██████████| 2/2 [00:27<00:00, 13.62s/it]\n",
      "                 Class     Images  Instances      Box(P          R      mAP50  mAP50-95): 100%|██████████| 1/1 [00:02<00:00,  2.51s/it]"
     ]
    },
    {
     "name": "stdout",
     "output_type": "stream",
     "text": [
      "                   all          6        303       0.98      0.987      0.992      0.863\n"
     ]
    },
    {
     "name": "stderr",
     "output_type": "stream",
     "text": [
      "\n"
     ]
    },
    {
     "name": "stdout",
     "output_type": "stream",
     "text": [
      "\n",
      "      Epoch    GPU_mem   box_loss   cls_loss   dfl_loss  Instances       Size\n"
     ]
    },
    {
     "name": "stderr",
     "output_type": "stream",
     "text": [
      "     37/100         0G      0.574     0.3546     0.8881        393        640: 100%|██████████| 2/2 [00:22<00:00, 11.36s/it]\n",
      "                 Class     Images  Instances      Box(P          R      mAP50  mAP50-95): 100%|██████████| 1/1 [00:02<00:00,  2.48s/it]"
     ]
    },
    {
     "name": "stdout",
     "output_type": "stream",
     "text": [
      "                   all          6        303       0.98      0.987      0.992      0.863\n"
     ]
    },
    {
     "name": "stderr",
     "output_type": "stream",
     "text": [
      "\n"
     ]
    },
    {
     "name": "stdout",
     "output_type": "stream",
     "text": [
      "\n",
      "      Epoch    GPU_mem   box_loss   cls_loss   dfl_loss  Instances       Size\n"
     ]
    },
    {
     "name": "stderr",
     "output_type": "stream",
     "text": [
      "     38/100         0G     0.5151     0.3371      0.909        307        640: 100%|██████████| 2/2 [00:22<00:00, 11.33s/it]\n",
      "                 Class     Images  Instances      Box(P          R      mAP50  mAP50-95): 100%|██████████| 1/1 [00:02<00:00,  2.42s/it]"
     ]
    },
    {
     "name": "stdout",
     "output_type": "stream",
     "text": [
      "                   all          6        303      0.975      0.979      0.987      0.823\n"
     ]
    },
    {
     "name": "stderr",
     "output_type": "stream",
     "text": [
      "\n"
     ]
    },
    {
     "name": "stdout",
     "output_type": "stream",
     "text": [
      "\n",
      "      Epoch    GPU_mem   box_loss   cls_loss   dfl_loss  Instances       Size\n"
     ]
    },
    {
     "name": "stderr",
     "output_type": "stream",
     "text": [
      "     39/100         0G     0.5321     0.3474     0.8963        254        640: 100%|██████████| 2/2 [00:23<00:00, 11.65s/it]\n",
      "                 Class     Images  Instances      Box(P          R      mAP50  mAP50-95): 100%|██████████| 1/1 [00:02<00:00,  2.34s/it]"
     ]
    },
    {
     "name": "stdout",
     "output_type": "stream",
     "text": [
      "                   all          6        303      0.988      0.994      0.994      0.838\n"
     ]
    },
    {
     "name": "stderr",
     "output_type": "stream",
     "text": [
      "\n"
     ]
    },
    {
     "name": "stdout",
     "output_type": "stream",
     "text": [
      "\n",
      "      Epoch    GPU_mem   box_loss   cls_loss   dfl_loss  Instances       Size\n"
     ]
    },
    {
     "name": "stderr",
     "output_type": "stream",
     "text": [
      "     40/100         0G     0.5895     0.3483      0.916        306        640: 100%|██████████| 2/2 [00:22<00:00, 11.15s/it]\n",
      "                 Class     Images  Instances      Box(P          R      mAP50  mAP50-95): 100%|██████████| 1/1 [00:02<00:00,  2.33s/it]"
     ]
    },
    {
     "name": "stdout",
     "output_type": "stream",
     "text": [
      "                   all          6        303      0.988      0.994      0.994      0.838\n"
     ]
    },
    {
     "name": "stderr",
     "output_type": "stream",
     "text": [
      "\n"
     ]
    },
    {
     "name": "stdout",
     "output_type": "stream",
     "text": [
      "\n",
      "      Epoch    GPU_mem   box_loss   cls_loss   dfl_loss  Instances       Size\n"
     ]
    },
    {
     "name": "stderr",
     "output_type": "stream",
     "text": [
      "     41/100         0G     0.4862     0.3135     0.8905        342        640: 100%|██████████| 2/2 [00:22<00:00, 11.12s/it]\n",
      "                 Class     Images  Instances      Box(P          R      mAP50  mAP50-95): 100%|██████████| 1/1 [00:02<00:00,  2.35s/it]"
     ]
    },
    {
     "name": "stdout",
     "output_type": "stream",
     "text": [
      "                   all          6        303       0.99      0.997      0.995      0.851\n"
     ]
    },
    {
     "name": "stderr",
     "output_type": "stream",
     "text": [
      "\n"
     ]
    },
    {
     "name": "stdout",
     "output_type": "stream",
     "text": [
      "\n",
      "      Epoch    GPU_mem   box_loss   cls_loss   dfl_loss  Instances       Size\n"
     ]
    },
    {
     "name": "stderr",
     "output_type": "stream",
     "text": [
      "     42/100         0G     0.5645     0.3549     0.9524        175        640: 100%|██████████| 2/2 [00:22<00:00, 11.38s/it]\n",
      "                 Class     Images  Instances      Box(P          R      mAP50  mAP50-95): 100%|██████████| 1/1 [00:02<00:00,  2.31s/it]"
     ]
    },
    {
     "name": "stdout",
     "output_type": "stream",
     "text": [
      "                   all          6        303      0.994      0.996      0.995      0.843\n"
     ]
    },
    {
     "name": "stderr",
     "output_type": "stream",
     "text": [
      "\n"
     ]
    },
    {
     "name": "stdout",
     "output_type": "stream",
     "text": [
      "\n",
      "      Epoch    GPU_mem   box_loss   cls_loss   dfl_loss  Instances       Size\n"
     ]
    },
    {
     "name": "stderr",
     "output_type": "stream",
     "text": [
      "     43/100         0G      0.527     0.3176     0.9094        399        640: 100%|██████████| 2/2 [00:22<00:00, 11.22s/it]\n",
      "                 Class     Images  Instances      Box(P          R      mAP50  mAP50-95): 100%|██████████| 1/1 [00:02<00:00,  2.35s/it]"
     ]
    },
    {
     "name": "stdout",
     "output_type": "stream",
     "text": [
      "                   all          6        303      0.994      0.996      0.995      0.843\n"
     ]
    },
    {
     "name": "stderr",
     "output_type": "stream",
     "text": [
      "\n"
     ]
    },
    {
     "name": "stdout",
     "output_type": "stream",
     "text": [
      "\n",
      "      Epoch    GPU_mem   box_loss   cls_loss   dfl_loss  Instances       Size\n"
     ]
    },
    {
     "name": "stderr",
     "output_type": "stream",
     "text": [
      "     44/100         0G      0.508     0.3285     0.9118        478        640: 100%|██████████| 2/2 [00:22<00:00, 11.39s/it]\n",
      "                 Class     Images  Instances      Box(P          R      mAP50  mAP50-95): 100%|██████████| 1/1 [00:02<00:00,  2.32s/it]"
     ]
    },
    {
     "name": "stdout",
     "output_type": "stream",
     "text": [
      "                   all          6        303      0.996          1      0.995      0.886\n"
     ]
    },
    {
     "name": "stderr",
     "output_type": "stream",
     "text": [
      "\n"
     ]
    },
    {
     "name": "stdout",
     "output_type": "stream",
     "text": [
      "\n",
      "      Epoch    GPU_mem   box_loss   cls_loss   dfl_loss  Instances       Size\n"
     ]
    },
    {
     "name": "stderr",
     "output_type": "stream",
     "text": [
      "     45/100         0G     0.5404     0.3286     0.9265        391        640: 100%|██████████| 2/2 [00:22<00:00, 11.10s/it]\n",
      "                 Class     Images  Instances      Box(P          R      mAP50  mAP50-95): 100%|██████████| 1/1 [00:02<00:00,  2.37s/it]"
     ]
    },
    {
     "name": "stdout",
     "output_type": "stream",
     "text": [
      "                   all          6        303      0.996          1      0.995      0.886\n"
     ]
    },
    {
     "name": "stderr",
     "output_type": "stream",
     "text": [
      "\n"
     ]
    },
    {
     "name": "stdout",
     "output_type": "stream",
     "text": [
      "\n",
      "      Epoch    GPU_mem   box_loss   cls_loss   dfl_loss  Instances       Size\n"
     ]
    },
    {
     "name": "stderr",
     "output_type": "stream",
     "text": [
      "     46/100         0G     0.5232     0.3375     0.8762        358        640: 100%|██████████| 2/2 [00:22<00:00, 11.31s/it]\n",
      "                 Class     Images  Instances      Box(P          R      mAP50  mAP50-95): 100%|██████████| 1/1 [00:02<00:00,  2.36s/it]"
     ]
    },
    {
     "name": "stdout",
     "output_type": "stream",
     "text": [
      "                   all          6        303      0.993          1      0.995      0.887\n"
     ]
    },
    {
     "name": "stderr",
     "output_type": "stream",
     "text": [
      "\n"
     ]
    },
    {
     "name": "stdout",
     "output_type": "stream",
     "text": [
      "\n",
      "      Epoch    GPU_mem   box_loss   cls_loss   dfl_loss  Instances       Size\n"
     ]
    },
    {
     "name": "stderr",
     "output_type": "stream",
     "text": [
      "     47/100         0G     0.5779     0.3741     0.9198        249        640: 100%|██████████| 2/2 [00:22<00:00, 11.14s/it]\n",
      "                 Class     Images  Instances      Box(P          R      mAP50  mAP50-95): 100%|██████████| 1/1 [00:02<00:00,  2.32s/it]"
     ]
    },
    {
     "name": "stdout",
     "output_type": "stream",
     "text": [
      "                   all          6        303      0.993          1      0.995      0.887\n"
     ]
    },
    {
     "name": "stderr",
     "output_type": "stream",
     "text": [
      "\n"
     ]
    },
    {
     "name": "stdout",
     "output_type": "stream",
     "text": [
      "\n",
      "      Epoch    GPU_mem   box_loss   cls_loss   dfl_loss  Instances       Size\n"
     ]
    },
    {
     "name": "stderr",
     "output_type": "stream",
     "text": [
      "     48/100         0G     0.5063     0.3174     0.8983        316        640: 100%|██████████| 2/2 [00:22<00:00, 11.49s/it]\n",
      "                 Class     Images  Instances      Box(P          R      mAP50  mAP50-95): 100%|██████████| 1/1 [00:02<00:00,  2.34s/it]"
     ]
    },
    {
     "name": "stdout",
     "output_type": "stream",
     "text": [
      "                   all          6        303      0.988      0.992      0.995      0.879\n"
     ]
    },
    {
     "name": "stderr",
     "output_type": "stream",
     "text": [
      "\n"
     ]
    },
    {
     "name": "stdout",
     "output_type": "stream",
     "text": [
      "\n",
      "      Epoch    GPU_mem   box_loss   cls_loss   dfl_loss  Instances       Size\n"
     ]
    },
    {
     "name": "stderr",
     "output_type": "stream",
     "text": [
      "     49/100         0G      0.575     0.3194      0.907        349        640: 100%|██████████| 2/2 [00:31<00:00, 15.85s/it]\n",
      "                 Class     Images  Instances      Box(P          R      mAP50  mAP50-95): 100%|██████████| 1/1 [00:02<00:00,  2.50s/it]"
     ]
    },
    {
     "name": "stdout",
     "output_type": "stream",
     "text": [
      "                   all          6        303      0.988      0.992      0.995      0.879\n"
     ]
    },
    {
     "name": "stderr",
     "output_type": "stream",
     "text": [
      "\n"
     ]
    },
    {
     "name": "stdout",
     "output_type": "stream",
     "text": [
      "\n",
      "      Epoch    GPU_mem   box_loss   cls_loss   dfl_loss  Instances       Size\n"
     ]
    },
    {
     "name": "stderr",
     "output_type": "stream",
     "text": [
      "     50/100         0G      0.557     0.3242     0.8991        390        640: 100%|██████████| 2/2 [00:23<00:00, 11.88s/it]\n",
      "                 Class     Images  Instances      Box(P          R      mAP50  mAP50-95): 100%|██████████| 1/1 [00:02<00:00,  2.33s/it]"
     ]
    },
    {
     "name": "stdout",
     "output_type": "stream",
     "text": [
      "                   all          6        303      0.987       0.99      0.995      0.867\n"
     ]
    },
    {
     "name": "stderr",
     "output_type": "stream",
     "text": [
      "\n"
     ]
    },
    {
     "name": "stdout",
     "output_type": "stream",
     "text": [
      "\n",
      "      Epoch    GPU_mem   box_loss   cls_loss   dfl_loss  Instances       Size\n"
     ]
    },
    {
     "name": "stderr",
     "output_type": "stream",
     "text": [
      "     51/100         0G     0.4749     0.3097     0.8894        354        640: 100%|██████████| 2/2 [00:22<00:00, 11.41s/it]\n",
      "                 Class     Images  Instances      Box(P          R      mAP50  mAP50-95): 100%|██████████| 1/1 [00:02<00:00,  2.36s/it]"
     ]
    },
    {
     "name": "stdout",
     "output_type": "stream",
     "text": [
      "                   all          6        303      0.987       0.99      0.995      0.867\n"
     ]
    },
    {
     "name": "stderr",
     "output_type": "stream",
     "text": [
      "\n"
     ]
    },
    {
     "name": "stdout",
     "output_type": "stream",
     "text": [
      "\n",
      "      Epoch    GPU_mem   box_loss   cls_loss   dfl_loss  Instances       Size\n"
     ]
    },
    {
     "name": "stderr",
     "output_type": "stream",
     "text": [
      "     52/100         0G     0.4961     0.3131     0.8881        304        640: 100%|██████████| 2/2 [00:22<00:00, 11.29s/it]\n",
      "                 Class     Images  Instances      Box(P          R      mAP50  mAP50-95): 100%|██████████| 1/1 [00:02<00:00,  2.36s/it]"
     ]
    },
    {
     "name": "stdout",
     "output_type": "stream",
     "text": [
      "                   all          6        303      0.991      0.999      0.995      0.862\n"
     ]
    },
    {
     "name": "stderr",
     "output_type": "stream",
     "text": [
      "\n"
     ]
    },
    {
     "name": "stdout",
     "output_type": "stream",
     "text": [
      "\n",
      "      Epoch    GPU_mem   box_loss   cls_loss   dfl_loss  Instances       Size\n"
     ]
    },
    {
     "name": "stderr",
     "output_type": "stream",
     "text": [
      "     53/100         0G     0.4861     0.2881     0.8791        282        640: 100%|██████████| 2/2 [00:22<00:00, 11.20s/it]\n",
      "                 Class     Images  Instances      Box(P          R      mAP50  mAP50-95): 100%|██████████| 1/1 [00:02<00:00,  2.31s/it]"
     ]
    },
    {
     "name": "stdout",
     "output_type": "stream",
     "text": [
      "                   all          6        303      0.991      0.999      0.995      0.862\n"
     ]
    },
    {
     "name": "stderr",
     "output_type": "stream",
     "text": [
      "\n"
     ]
    },
    {
     "name": "stdout",
     "output_type": "stream",
     "text": [
      "\n",
      "      Epoch    GPU_mem   box_loss   cls_loss   dfl_loss  Instances       Size\n"
     ]
    },
    {
     "name": "stderr",
     "output_type": "stream",
     "text": [
      "     54/100         0G     0.5691     0.3064     0.9217        284        640: 100%|██████████| 2/2 [00:22<00:00, 11.18s/it]\n",
      "                 Class     Images  Instances      Box(P          R      mAP50  mAP50-95): 100%|██████████| 1/1 [00:02<00:00,  2.37s/it]"
     ]
    },
    {
     "name": "stdout",
     "output_type": "stream",
     "text": [
      "                   all          6        303      0.994          1      0.995      0.837\n"
     ]
    },
    {
     "name": "stderr",
     "output_type": "stream",
     "text": [
      "\n"
     ]
    },
    {
     "name": "stdout",
     "output_type": "stream",
     "text": [
      "\n",
      "      Epoch    GPU_mem   box_loss   cls_loss   dfl_loss  Instances       Size\n"
     ]
    },
    {
     "name": "stderr",
     "output_type": "stream",
     "text": [
      "     55/100         0G     0.4955     0.3011     0.9153        307        640: 100%|██████████| 2/2 [00:22<00:00, 11.00s/it]\n",
      "                 Class     Images  Instances      Box(P          R      mAP50  mAP50-95): 100%|██████████| 1/1 [00:02<00:00,  2.28s/it]"
     ]
    },
    {
     "name": "stdout",
     "output_type": "stream",
     "text": [
      "                   all          6        303      0.994          1      0.995      0.837\n"
     ]
    },
    {
     "name": "stderr",
     "output_type": "stream",
     "text": [
      "\n"
     ]
    },
    {
     "name": "stdout",
     "output_type": "stream",
     "text": [
      "\n",
      "      Epoch    GPU_mem   box_loss   cls_loss   dfl_loss  Instances       Size\n"
     ]
    },
    {
     "name": "stderr",
     "output_type": "stream",
     "text": [
      "     56/100         0G     0.5136     0.2948     0.8815        420        640: 100%|██████████| 2/2 [00:23<00:00, 11.52s/it]\n",
      "                 Class     Images  Instances      Box(P          R      mAP50  mAP50-95): 100%|██████████| 1/1 [00:02<00:00,  2.41s/it]"
     ]
    },
    {
     "name": "stdout",
     "output_type": "stream",
     "text": [
      "                   all          6        303      0.992          1      0.995      0.819\n"
     ]
    },
    {
     "name": "stderr",
     "output_type": "stream",
     "text": [
      "\n"
     ]
    },
    {
     "name": "stdout",
     "output_type": "stream",
     "text": [
      "\n",
      "      Epoch    GPU_mem   box_loss   cls_loss   dfl_loss  Instances       Size\n"
     ]
    },
    {
     "name": "stderr",
     "output_type": "stream",
     "text": [
      "     57/100         0G     0.4863     0.2952     0.8775        303        640: 100%|██████████| 2/2 [00:22<00:00, 11.27s/it]\n",
      "                 Class     Images  Instances      Box(P          R      mAP50  mAP50-95): 100%|██████████| 1/1 [00:02<00:00,  2.37s/it]"
     ]
    },
    {
     "name": "stdout",
     "output_type": "stream",
     "text": [
      "                   all          6        303      0.992          1      0.995      0.819\n"
     ]
    },
    {
     "name": "stderr",
     "output_type": "stream",
     "text": [
      "\n"
     ]
    },
    {
     "name": "stdout",
     "output_type": "stream",
     "text": [
      "\n",
      "      Epoch    GPU_mem   box_loss   cls_loss   dfl_loss  Instances       Size\n"
     ]
    },
    {
     "name": "stderr",
     "output_type": "stream",
     "text": [
      "     58/100         0G     0.5288     0.3204     0.9073        240        640: 100%|██████████| 2/2 [00:22<00:00, 11.26s/it]\n",
      "                 Class     Images  Instances      Box(P          R      mAP50  mAP50-95): 100%|██████████| 1/1 [00:02<00:00,  2.27s/it]"
     ]
    },
    {
     "name": "stdout",
     "output_type": "stream",
     "text": [
      "                   all          6        303      0.994          1      0.995      0.864\n"
     ]
    },
    {
     "name": "stderr",
     "output_type": "stream",
     "text": [
      "\n"
     ]
    },
    {
     "name": "stdout",
     "output_type": "stream",
     "text": [
      "\n",
      "      Epoch    GPU_mem   box_loss   cls_loss   dfl_loss  Instances       Size\n"
     ]
    },
    {
     "name": "stderr",
     "output_type": "stream",
     "text": [
      "     59/100         0G      0.551     0.3029     0.9132        387        640: 100%|██████████| 2/2 [00:22<00:00, 11.33s/it]\n",
      "                 Class     Images  Instances      Box(P          R      mAP50  mAP50-95): 100%|██████████| 1/1 [00:02<00:00,  2.35s/it]"
     ]
    },
    {
     "name": "stdout",
     "output_type": "stream",
     "text": [
      "                   all          6        303      0.994          1      0.995      0.864\n"
     ]
    },
    {
     "name": "stderr",
     "output_type": "stream",
     "text": [
      "\n"
     ]
    },
    {
     "name": "stdout",
     "output_type": "stream",
     "text": [
      "\n",
      "      Epoch    GPU_mem   box_loss   cls_loss   dfl_loss  Instances       Size\n"
     ]
    },
    {
     "name": "stderr",
     "output_type": "stream",
     "text": [
      "     60/100         0G     0.4617     0.2836     0.8732        406        640: 100%|██████████| 2/2 [00:22<00:00, 11.29s/it]\n",
      "                 Class     Images  Instances      Box(P          R      mAP50  mAP50-95): 100%|██████████| 1/1 [00:02<00:00,  2.32s/it]"
     ]
    },
    {
     "name": "stdout",
     "output_type": "stream",
     "text": [
      "                   all          6        303      0.994          1      0.995      0.881\n"
     ]
    },
    {
     "name": "stderr",
     "output_type": "stream",
     "text": [
      "\n"
     ]
    },
    {
     "name": "stdout",
     "output_type": "stream",
     "text": [
      "\n",
      "      Epoch    GPU_mem   box_loss   cls_loss   dfl_loss  Instances       Size\n"
     ]
    },
    {
     "name": "stderr",
     "output_type": "stream",
     "text": [
      "     61/100         0G     0.5183     0.3259     0.8979        238        640: 100%|██████████| 2/2 [00:23<00:00, 11.71s/it]\n",
      "                 Class     Images  Instances      Box(P          R      mAP50  mAP50-95): 100%|██████████| 1/1 [00:02<00:00,  2.33s/it]"
     ]
    },
    {
     "name": "stdout",
     "output_type": "stream",
     "text": [
      "                   all          6        303      0.994          1      0.995      0.881\n"
     ]
    },
    {
     "name": "stderr",
     "output_type": "stream",
     "text": [
      "\n"
     ]
    },
    {
     "name": "stdout",
     "output_type": "stream",
     "text": [
      "\n",
      "      Epoch    GPU_mem   box_loss   cls_loss   dfl_loss  Instances       Size\n"
     ]
    },
    {
     "name": "stderr",
     "output_type": "stream",
     "text": [
      "     62/100         0G      0.473     0.3113     0.8977        265        640: 100%|██████████| 2/2 [00:22<00:00, 11.31s/it]\n",
      "                 Class     Images  Instances      Box(P          R      mAP50  mAP50-95): 100%|██████████| 1/1 [00:02<00:00,  2.35s/it]"
     ]
    },
    {
     "name": "stdout",
     "output_type": "stream",
     "text": [
      "                   all          6        303      0.992          1      0.995      0.885\n"
     ]
    },
    {
     "name": "stderr",
     "output_type": "stream",
     "text": [
      "\n"
     ]
    },
    {
     "name": "stdout",
     "output_type": "stream",
     "text": [
      "\n",
      "      Epoch    GPU_mem   box_loss   cls_loss   dfl_loss  Instances       Size\n"
     ]
    },
    {
     "name": "stderr",
     "output_type": "stream",
     "text": [
      "     63/100         0G     0.4976     0.3062     0.9266        209        640: 100%|██████████| 2/2 [00:22<00:00, 11.10s/it]\n",
      "                 Class     Images  Instances      Box(P          R      mAP50  mAP50-95): 100%|██████████| 1/1 [00:02<00:00,  2.35s/it]"
     ]
    },
    {
     "name": "stdout",
     "output_type": "stream",
     "text": [
      "                   all          6        303      0.992          1      0.995      0.885\n"
     ]
    },
    {
     "name": "stderr",
     "output_type": "stream",
     "text": [
      "\n"
     ]
    },
    {
     "name": "stdout",
     "output_type": "stream",
     "text": [
      "\n",
      "      Epoch    GPU_mem   box_loss   cls_loss   dfl_loss  Instances       Size\n"
     ]
    },
    {
     "name": "stderr",
     "output_type": "stream",
     "text": [
      "     64/100         0G     0.4968     0.2818     0.8929        372        640: 100%|██████████| 2/2 [00:23<00:00, 11.78s/it]\n",
      "                 Class     Images  Instances      Box(P          R      mAP50  mAP50-95): 100%|██████████| 1/1 [00:02<00:00,  2.32s/it]"
     ]
    },
    {
     "name": "stdout",
     "output_type": "stream",
     "text": [
      "                   all          6        303      0.992          1      0.995      0.897\n"
     ]
    },
    {
     "name": "stderr",
     "output_type": "stream",
     "text": [
      "\n"
     ]
    },
    {
     "name": "stdout",
     "output_type": "stream",
     "text": [
      "\n",
      "      Epoch    GPU_mem   box_loss   cls_loss   dfl_loss  Instances       Size\n"
     ]
    },
    {
     "name": "stderr",
     "output_type": "stream",
     "text": [
      "     65/100         0G     0.4726     0.2812     0.8762        368        640: 100%|██████████| 2/2 [00:22<00:00, 11.33s/it]\n",
      "                 Class     Images  Instances      Box(P          R      mAP50  mAP50-95): 100%|██████████| 1/1 [00:02<00:00,  2.28s/it]"
     ]
    },
    {
     "name": "stdout",
     "output_type": "stream",
     "text": [
      "                   all          6        303      0.992          1      0.995      0.897\n"
     ]
    },
    {
     "name": "stderr",
     "output_type": "stream",
     "text": [
      "\n"
     ]
    },
    {
     "name": "stdout",
     "output_type": "stream",
     "text": [
      "\n",
      "      Epoch    GPU_mem   box_loss   cls_loss   dfl_loss  Instances       Size\n"
     ]
    },
    {
     "name": "stderr",
     "output_type": "stream",
     "text": [
      "     66/100         0G     0.4655     0.2757     0.8923        307        640: 100%|██████████| 2/2 [00:22<00:00, 11.23s/it]\n",
      "                 Class     Images  Instances      Box(P          R      mAP50  mAP50-95): 100%|██████████| 1/1 [00:02<00:00,  2.34s/it]"
     ]
    },
    {
     "name": "stdout",
     "output_type": "stream",
     "text": [
      "                   all          6        303      0.996          1      0.995      0.902\n"
     ]
    },
    {
     "name": "stderr",
     "output_type": "stream",
     "text": [
      "\n"
     ]
    },
    {
     "name": "stdout",
     "output_type": "stream",
     "text": [
      "\n",
      "      Epoch    GPU_mem   box_loss   cls_loss   dfl_loss  Instances       Size\n"
     ]
    },
    {
     "name": "stderr",
     "output_type": "stream",
     "text": [
      "     67/100         0G     0.4861     0.2801     0.8835        314        640: 100%|██████████| 2/2 [00:22<00:00, 11.37s/it]\n",
      "                 Class     Images  Instances      Box(P          R      mAP50  mAP50-95): 100%|██████████| 1/1 [00:02<00:00,  2.31s/it]"
     ]
    },
    {
     "name": "stdout",
     "output_type": "stream",
     "text": [
      "                   all          6        303      0.996          1      0.995      0.902\n"
     ]
    },
    {
     "name": "stderr",
     "output_type": "stream",
     "text": [
      "\n"
     ]
    },
    {
     "name": "stdout",
     "output_type": "stream",
     "text": [
      "\n",
      "      Epoch    GPU_mem   box_loss   cls_loss   dfl_loss  Instances       Size\n"
     ]
    },
    {
     "name": "stderr",
     "output_type": "stream",
     "text": [
      "     68/100         0G     0.4645      0.273     0.8865        257        640: 100%|██████████| 2/2 [00:22<00:00, 11.18s/it]\n",
      "                 Class     Images  Instances      Box(P          R      mAP50  mAP50-95): 100%|██████████| 1/1 [00:02<00:00,  2.31s/it]"
     ]
    },
    {
     "name": "stdout",
     "output_type": "stream",
     "text": [
      "                   all          6        303      0.995          1      0.995       0.88\n"
     ]
    },
    {
     "name": "stderr",
     "output_type": "stream",
     "text": [
      "\n"
     ]
    },
    {
     "name": "stdout",
     "output_type": "stream",
     "text": [
      "\n",
      "      Epoch    GPU_mem   box_loss   cls_loss   dfl_loss  Instances       Size\n"
     ]
    },
    {
     "name": "stderr",
     "output_type": "stream",
     "text": [
      "     69/100         0G     0.4711     0.2774     0.8665        266        640: 100%|██████████| 2/2 [00:21<00:00, 10.97s/it]\n",
      "                 Class     Images  Instances      Box(P          R      mAP50  mAP50-95): 100%|██████████| 1/1 [00:02<00:00,  2.36s/it]"
     ]
    },
    {
     "name": "stdout",
     "output_type": "stream",
     "text": [
      "                   all          6        303      0.995          1      0.995       0.88\n"
     ]
    },
    {
     "name": "stderr",
     "output_type": "stream",
     "text": [
      "\n"
     ]
    },
    {
     "name": "stdout",
     "output_type": "stream",
     "text": [
      "\n",
      "      Epoch    GPU_mem   box_loss   cls_loss   dfl_loss  Instances       Size\n"
     ]
    },
    {
     "name": "stderr",
     "output_type": "stream",
     "text": [
      "     70/100         0G     0.4633     0.2621     0.8794        300        640: 100%|██████████| 2/2 [00:22<00:00, 11.25s/it]\n",
      "                 Class     Images  Instances      Box(P          R      mAP50  mAP50-95): 100%|██████████| 1/1 [00:02<00:00,  2.32s/it]"
     ]
    },
    {
     "name": "stdout",
     "output_type": "stream",
     "text": [
      "                   all          6        303      0.994          1      0.995      0.878\n"
     ]
    },
    {
     "name": "stderr",
     "output_type": "stream",
     "text": [
      "\n"
     ]
    },
    {
     "name": "stdout",
     "output_type": "stream",
     "text": [
      "\n",
      "      Epoch    GPU_mem   box_loss   cls_loss   dfl_loss  Instances       Size\n"
     ]
    },
    {
     "name": "stderr",
     "output_type": "stream",
     "text": [
      "     71/100         0G     0.4459     0.2699     0.8899        321        640: 100%|██████████| 2/2 [00:22<00:00, 11.14s/it]\n",
      "                 Class     Images  Instances      Box(P          R      mAP50  mAP50-95): 100%|██████████| 1/1 [00:02<00:00,  2.27s/it]"
     ]
    },
    {
     "name": "stdout",
     "output_type": "stream",
     "text": [
      "                   all          6        303      0.994          1      0.995      0.878\n"
     ]
    },
    {
     "name": "stderr",
     "output_type": "stream",
     "text": [
      "\n"
     ]
    },
    {
     "name": "stdout",
     "output_type": "stream",
     "text": [
      "\n",
      "      Epoch    GPU_mem   box_loss   cls_loss   dfl_loss  Instances       Size\n"
     ]
    },
    {
     "name": "stderr",
     "output_type": "stream",
     "text": [
      "     72/100         0G     0.4335     0.2657     0.8638        340        640: 100%|██████████| 2/2 [00:22<00:00, 11.30s/it]\n",
      "                 Class     Images  Instances      Box(P          R      mAP50  mAP50-95): 100%|██████████| 1/1 [00:02<00:00,  2.36s/it]"
     ]
    },
    {
     "name": "stdout",
     "output_type": "stream",
     "text": [
      "                   all          6        303      0.994          1      0.995      0.888\n"
     ]
    },
    {
     "name": "stderr",
     "output_type": "stream",
     "text": [
      "\n"
     ]
    },
    {
     "name": "stdout",
     "output_type": "stream",
     "text": [
      "\n",
      "      Epoch    GPU_mem   box_loss   cls_loss   dfl_loss  Instances       Size\n"
     ]
    },
    {
     "name": "stderr",
     "output_type": "stream",
     "text": [
      "     73/100         0G     0.5175     0.2761     0.8938        381        640: 100%|██████████| 2/2 [00:22<00:00, 11.17s/it]\n",
      "                 Class     Images  Instances      Box(P          R      mAP50  mAP50-95): 100%|██████████| 1/1 [00:02<00:00,  2.31s/it]"
     ]
    },
    {
     "name": "stdout",
     "output_type": "stream",
     "text": [
      "                   all          6        303      0.994          1      0.995      0.888\n"
     ]
    },
    {
     "name": "stderr",
     "output_type": "stream",
     "text": [
      "\n"
     ]
    },
    {
     "name": "stdout",
     "output_type": "stream",
     "text": [
      "\n",
      "      Epoch    GPU_mem   box_loss   cls_loss   dfl_loss  Instances       Size\n"
     ]
    },
    {
     "name": "stderr",
     "output_type": "stream",
     "text": [
      "     74/100         0G      0.476     0.2773     0.8988        408        640: 100%|██████████| 2/2 [00:22<00:00, 11.10s/it]\n",
      "                 Class     Images  Instances      Box(P          R      mAP50  mAP50-95): 100%|██████████| 1/1 [00:02<00:00,  2.31s/it]"
     ]
    },
    {
     "name": "stdout",
     "output_type": "stream",
     "text": [
      "                   all          6        303      0.995          1      0.995      0.876\n"
     ]
    },
    {
     "name": "stderr",
     "output_type": "stream",
     "text": [
      "\n"
     ]
    },
    {
     "name": "stdout",
     "output_type": "stream",
     "text": [
      "\n",
      "      Epoch    GPU_mem   box_loss   cls_loss   dfl_loss  Instances       Size\n"
     ]
    },
    {
     "name": "stderr",
     "output_type": "stream",
     "text": [
      "     75/100         0G     0.4543       0.28     0.8836        301        640: 100%|██████████| 2/2 [00:24<00:00, 12.06s/it]\n",
      "                 Class     Images  Instances      Box(P          R      mAP50  mAP50-95): 100%|██████████| 1/1 [00:02<00:00,  2.35s/it]"
     ]
    },
    {
     "name": "stdout",
     "output_type": "stream",
     "text": [
      "                   all          6        303      0.995          1      0.995      0.876\n"
     ]
    },
    {
     "name": "stderr",
     "output_type": "stream",
     "text": [
      "\n"
     ]
    },
    {
     "name": "stdout",
     "output_type": "stream",
     "text": [
      "\n",
      "      Epoch    GPU_mem   box_loss   cls_loss   dfl_loss  Instances       Size\n"
     ]
    },
    {
     "name": "stderr",
     "output_type": "stream",
     "text": [
      "     76/100         0G      0.448     0.2741      0.878        355        640: 100%|██████████| 2/2 [00:23<00:00, 11.79s/it]\n",
      "                 Class     Images  Instances      Box(P          R      mAP50  mAP50-95): 100%|██████████| 1/1 [00:02<00:00,  2.33s/it]"
     ]
    },
    {
     "name": "stdout",
     "output_type": "stream",
     "text": [
      "                   all          6        303      0.994          1      0.995       0.85\n"
     ]
    },
    {
     "name": "stderr",
     "output_type": "stream",
     "text": [
      "\n"
     ]
    },
    {
     "name": "stdout",
     "output_type": "stream",
     "text": [
      "\n",
      "      Epoch    GPU_mem   box_loss   cls_loss   dfl_loss  Instances       Size\n"
     ]
    },
    {
     "name": "stderr",
     "output_type": "stream",
     "text": [
      "     77/100         0G     0.4502     0.2663     0.8744        527        640: 100%|██████████| 2/2 [00:22<00:00, 11.14s/it]\n",
      "                 Class     Images  Instances      Box(P          R      mAP50  mAP50-95): 100%|██████████| 1/1 [00:02<00:00,  2.30s/it]"
     ]
    },
    {
     "name": "stdout",
     "output_type": "stream",
     "text": [
      "                   all          6        303      0.994          1      0.995       0.85\n"
     ]
    },
    {
     "name": "stderr",
     "output_type": "stream",
     "text": [
      "\n"
     ]
    },
    {
     "name": "stdout",
     "output_type": "stream",
     "text": [
      "\n",
      "      Epoch    GPU_mem   box_loss   cls_loss   dfl_loss  Instances       Size\n"
     ]
    },
    {
     "name": "stderr",
     "output_type": "stream",
     "text": [
      "     78/100         0G     0.4796     0.2718     0.9123        241        640: 100%|██████████| 2/2 [00:22<00:00, 11.25s/it]\n",
      "                 Class     Images  Instances      Box(P          R      mAP50  mAP50-95): 100%|██████████| 1/1 [00:02<00:00,  2.30s/it]"
     ]
    },
    {
     "name": "stdout",
     "output_type": "stream",
     "text": [
      "                   all          6        303      0.995          1      0.995      0.829\n"
     ]
    },
    {
     "name": "stderr",
     "output_type": "stream",
     "text": [
      "\n"
     ]
    },
    {
     "name": "stdout",
     "output_type": "stream",
     "text": [
      "\n",
      "      Epoch    GPU_mem   box_loss   cls_loss   dfl_loss  Instances       Size\n"
     ]
    },
    {
     "name": "stderr",
     "output_type": "stream",
     "text": [
      "     79/100         0G     0.4738     0.2521     0.8831        367        640: 100%|██████████| 2/2 [00:22<00:00, 11.35s/it]\n",
      "                 Class     Images  Instances      Box(P          R      mAP50  mAP50-95): 100%|██████████| 1/1 [00:02<00:00,  2.41s/it]"
     ]
    },
    {
     "name": "stdout",
     "output_type": "stream",
     "text": [
      "                   all          6        303      0.995          1      0.995      0.829\n"
     ]
    },
    {
     "name": "stderr",
     "output_type": "stream",
     "text": [
      "\n"
     ]
    },
    {
     "name": "stdout",
     "output_type": "stream",
     "text": [
      "\n",
      "      Epoch    GPU_mem   box_loss   cls_loss   dfl_loss  Instances       Size\n"
     ]
    },
    {
     "name": "stderr",
     "output_type": "stream",
     "text": [
      "     80/100         0G     0.4744     0.2562     0.8771        314        640: 100%|██████████| 2/2 [00:23<00:00, 11.58s/it]\n",
      "                 Class     Images  Instances      Box(P          R      mAP50  mAP50-95): 100%|██████████| 1/1 [00:02<00:00,  2.24s/it]"
     ]
    },
    {
     "name": "stdout",
     "output_type": "stream",
     "text": [
      "                   all          6        303      0.994          1      0.995      0.835\n"
     ]
    },
    {
     "name": "stderr",
     "output_type": "stream",
     "text": [
      "\n"
     ]
    },
    {
     "name": "stdout",
     "output_type": "stream",
     "text": [
      "\n",
      "      Epoch    GPU_mem   box_loss   cls_loss   dfl_loss  Instances       Size\n"
     ]
    },
    {
     "name": "stderr",
     "output_type": "stream",
     "text": [
      "     81/100         0G     0.4403     0.2585     0.8575        332        640: 100%|██████████| 2/2 [00:22<00:00, 11.35s/it]\n",
      "                 Class     Images  Instances      Box(P          R      mAP50  mAP50-95): 100%|██████████| 1/1 [00:02<00:00,  2.35s/it]"
     ]
    },
    {
     "name": "stdout",
     "output_type": "stream",
     "text": [
      "                   all          6        303      0.994          1      0.995      0.835\n"
     ]
    },
    {
     "name": "stderr",
     "output_type": "stream",
     "text": [
      "\n"
     ]
    },
    {
     "name": "stdout",
     "output_type": "stream",
     "text": [
      "\n",
      "      Epoch    GPU_mem   box_loss   cls_loss   dfl_loss  Instances       Size\n"
     ]
    },
    {
     "name": "stderr",
     "output_type": "stream",
     "text": [
      "     82/100         0G     0.4531     0.2629     0.8652        457        640: 100%|██████████| 2/2 [00:22<00:00, 11.47s/it]\n",
      "                 Class     Images  Instances      Box(P          R      mAP50  mAP50-95): 100%|██████████| 1/1 [00:02<00:00,  2.31s/it]"
     ]
    },
    {
     "name": "stdout",
     "output_type": "stream",
     "text": [
      "                   all          6        303      0.994          1      0.995      0.867\n"
     ]
    },
    {
     "name": "stderr",
     "output_type": "stream",
     "text": [
      "\n"
     ]
    },
    {
     "name": "stdout",
     "output_type": "stream",
     "text": [
      "\n",
      "      Epoch    GPU_mem   box_loss   cls_loss   dfl_loss  Instances       Size\n"
     ]
    },
    {
     "name": "stderr",
     "output_type": "stream",
     "text": [
      "     83/100         0G     0.4476     0.2795     0.8945        204        640: 100%|██████████| 2/2 [00:22<00:00, 11.04s/it]\n",
      "                 Class     Images  Instances      Box(P          R      mAP50  mAP50-95): 100%|██████████| 1/1 [00:02<00:00,  2.37s/it]"
     ]
    },
    {
     "name": "stdout",
     "output_type": "stream",
     "text": [
      "                   all          6        303      0.994          1      0.995      0.867\n"
     ]
    },
    {
     "name": "stderr",
     "output_type": "stream",
     "text": [
      "\n"
     ]
    },
    {
     "name": "stdout",
     "output_type": "stream",
     "text": [
      "\n",
      "      Epoch    GPU_mem   box_loss   cls_loss   dfl_loss  Instances       Size\n"
     ]
    },
    {
     "name": "stderr",
     "output_type": "stream",
     "text": [
      "     84/100         0G     0.4437     0.2552     0.8694        468        640: 100%|██████████| 2/2 [00:22<00:00, 11.42s/it]\n",
      "                 Class     Images  Instances      Box(P          R      mAP50  mAP50-95): 100%|██████████| 1/1 [00:02<00:00,  2.33s/it]"
     ]
    },
    {
     "name": "stdout",
     "output_type": "stream",
     "text": [
      "                   all          6        303      0.994          1      0.995      0.898\n"
     ]
    },
    {
     "name": "stderr",
     "output_type": "stream",
     "text": [
      "\n"
     ]
    },
    {
     "name": "stdout",
     "output_type": "stream",
     "text": [
      "\n",
      "      Epoch    GPU_mem   box_loss   cls_loss   dfl_loss  Instances       Size\n"
     ]
    },
    {
     "name": "stderr",
     "output_type": "stream",
     "text": [
      "     85/100         0G     0.4707     0.2624     0.9228        206        640: 100%|██████████| 2/2 [00:22<00:00, 11.07s/it]\n",
      "                 Class     Images  Instances      Box(P          R      mAP50  mAP50-95): 100%|██████████| 1/1 [00:02<00:00,  2.32s/it]"
     ]
    },
    {
     "name": "stdout",
     "output_type": "stream",
     "text": [
      "                   all          6        303      0.994          1      0.995      0.898\n"
     ]
    },
    {
     "name": "stderr",
     "output_type": "stream",
     "text": [
      "\n"
     ]
    },
    {
     "name": "stdout",
     "output_type": "stream",
     "text": [
      "\n",
      "      Epoch    GPU_mem   box_loss   cls_loss   dfl_loss  Instances       Size\n"
     ]
    },
    {
     "name": "stderr",
     "output_type": "stream",
     "text": [
      "     86/100         0G     0.3986     0.2581     0.8695        301        640: 100%|██████████| 2/2 [00:22<00:00, 11.29s/it]\n",
      "                 Class     Images  Instances      Box(P          R      mAP50  mAP50-95): 100%|██████████| 1/1 [00:02<00:00,  2.30s/it]"
     ]
    },
    {
     "name": "stdout",
     "output_type": "stream",
     "text": [
      "                   all          6        303      0.994          1      0.995      0.912\n"
     ]
    },
    {
     "name": "stderr",
     "output_type": "stream",
     "text": [
      "\n"
     ]
    },
    {
     "name": "stdout",
     "output_type": "stream",
     "text": [
      "\n",
      "      Epoch    GPU_mem   box_loss   cls_loss   dfl_loss  Instances       Size\n"
     ]
    },
    {
     "name": "stderr",
     "output_type": "stream",
     "text": [
      "     87/100         0G     0.4327     0.2423     0.8657        226        640: 100%|██████████| 2/2 [00:22<00:00, 11.09s/it]\n",
      "                 Class     Images  Instances      Box(P          R      mAP50  mAP50-95): 100%|██████████| 1/1 [00:02<00:00,  2.28s/it]"
     ]
    },
    {
     "name": "stdout",
     "output_type": "stream",
     "text": [
      "                   all          6        303      0.994          1      0.995      0.912\n"
     ]
    },
    {
     "name": "stderr",
     "output_type": "stream",
     "text": [
      "\n"
     ]
    },
    {
     "name": "stdout",
     "output_type": "stream",
     "text": [
      "\n",
      "      Epoch    GPU_mem   box_loss   cls_loss   dfl_loss  Instances       Size\n"
     ]
    },
    {
     "name": "stderr",
     "output_type": "stream",
     "text": [
      "     88/100         0G     0.4409     0.2393     0.8751        383        640: 100%|██████████| 2/2 [00:22<00:00, 11.33s/it]\n",
      "                 Class     Images  Instances      Box(P          R      mAP50  mAP50-95): 100%|██████████| 1/1 [00:02<00:00,  2.32s/it]"
     ]
    },
    {
     "name": "stdout",
     "output_type": "stream",
     "text": [
      "                   all          6        303      0.993          1      0.995      0.913\n"
     ]
    },
    {
     "name": "stderr",
     "output_type": "stream",
     "text": [
      "\n"
     ]
    },
    {
     "name": "stdout",
     "output_type": "stream",
     "text": [
      "\n",
      "      Epoch    GPU_mem   box_loss   cls_loss   dfl_loss  Instances       Size\n"
     ]
    },
    {
     "name": "stderr",
     "output_type": "stream",
     "text": [
      "     89/100         0G      0.433     0.2384     0.8606        289        640: 100%|██████████| 2/2 [00:23<00:00, 11.98s/it]\n",
      "                 Class     Images  Instances      Box(P          R      mAP50  mAP50-95): 100%|██████████| 1/1 [00:02<00:00,  2.45s/it]"
     ]
    },
    {
     "name": "stdout",
     "output_type": "stream",
     "text": [
      "                   all          6        303      0.993          1      0.995      0.913\n"
     ]
    },
    {
     "name": "stderr",
     "output_type": "stream",
     "text": [
      "\n"
     ]
    },
    {
     "name": "stdout",
     "output_type": "stream",
     "text": [
      "\n",
      "      Epoch    GPU_mem   box_loss   cls_loss   dfl_loss  Instances       Size\n"
     ]
    },
    {
     "name": "stderr",
     "output_type": "stream",
     "text": [
      "     90/100         0G     0.4348     0.2255       0.86        388        640: 100%|██████████| 2/2 [00:23<00:00, 11.58s/it]\n",
      "                 Class     Images  Instances      Box(P          R      mAP50  mAP50-95): 100%|██████████| 1/1 [00:02<00:00,  2.29s/it]"
     ]
    },
    {
     "name": "stdout",
     "output_type": "stream",
     "text": [
      "                   all          6        303      0.992          1      0.995      0.906\n"
     ]
    },
    {
     "name": "stderr",
     "output_type": "stream",
     "text": [
      "\n"
     ]
    },
    {
     "name": "stdout",
     "output_type": "stream",
     "text": [
      "Closing dataloader mosaic\n",
      "\n",
      "      Epoch    GPU_mem   box_loss   cls_loss   dfl_loss  Instances       Size\n"
     ]
    },
    {
     "name": "stderr",
     "output_type": "stream",
     "text": [
      "     91/100         0G     0.4907     0.2461     0.9078        233        640: 100%|██████████| 2/2 [00:21<00:00, 10.80s/it]\n",
      "                 Class     Images  Instances      Box(P          R      mAP50  mAP50-95): 100%|██████████| 1/1 [00:02<00:00,  2.35s/it]"
     ]
    },
    {
     "name": "stdout",
     "output_type": "stream",
     "text": [
      "                   all          6        303      0.992          1      0.995      0.906\n"
     ]
    },
    {
     "name": "stderr",
     "output_type": "stream",
     "text": [
      "\n"
     ]
    },
    {
     "name": "stdout",
     "output_type": "stream",
     "text": [
      "\n",
      "      Epoch    GPU_mem   box_loss   cls_loss   dfl_loss  Instances       Size\n"
     ]
    },
    {
     "name": "stderr",
     "output_type": "stream",
     "text": [
      "     92/100         0G     0.4339     0.2512     0.8787        219        640: 100%|██████████| 2/2 [00:21<00:00, 10.87s/it]\n",
      "                 Class     Images  Instances      Box(P          R      mAP50  mAP50-95): 100%|██████████| 1/1 [00:02<00:00,  2.32s/it]"
     ]
    },
    {
     "name": "stdout",
     "output_type": "stream",
     "text": [
      "                   all          6        303      0.992          1      0.995      0.906\n"
     ]
    },
    {
     "name": "stderr",
     "output_type": "stream",
     "text": [
      "\n"
     ]
    },
    {
     "name": "stdout",
     "output_type": "stream",
     "text": [
      "\n",
      "      Epoch    GPU_mem   box_loss   cls_loss   dfl_loss  Instances       Size\n"
     ]
    },
    {
     "name": "stderr",
     "output_type": "stream",
     "text": [
      "     93/100         0G     0.4507     0.2409     0.8829        207        640: 100%|██████████| 2/2 [00:21<00:00, 10.76s/it]\n",
      "                 Class     Images  Instances      Box(P          R      mAP50  mAP50-95): 100%|██████████| 1/1 [00:02<00:00,  2.31s/it]"
     ]
    },
    {
     "name": "stdout",
     "output_type": "stream",
     "text": [
      "                   all          6        303      0.992          1      0.995      0.906\n"
     ]
    },
    {
     "name": "stderr",
     "output_type": "stream",
     "text": [
      "\n"
     ]
    },
    {
     "name": "stdout",
     "output_type": "stream",
     "text": [
      "\n",
      "      Epoch    GPU_mem   box_loss   cls_loss   dfl_loss  Instances       Size\n"
     ]
    },
    {
     "name": "stderr",
     "output_type": "stream",
     "text": [
      "     94/100         0G     0.4286     0.2271     0.8509        249        640: 100%|██████████| 2/2 [00:21<00:00, 10.87s/it]\n",
      "                 Class     Images  Instances      Box(P          R      mAP50  mAP50-95): 100%|██████████| 1/1 [00:02<00:00,  2.28s/it]"
     ]
    },
    {
     "name": "stdout",
     "output_type": "stream",
     "text": [
      "                   all          6        303      0.993          1      0.995      0.908\n"
     ]
    },
    {
     "name": "stderr",
     "output_type": "stream",
     "text": [
      "\n"
     ]
    },
    {
     "name": "stdout",
     "output_type": "stream",
     "text": [
      "\n",
      "      Epoch    GPU_mem   box_loss   cls_loss   dfl_loss  Instances       Size\n"
     ]
    },
    {
     "name": "stderr",
     "output_type": "stream",
     "text": [
      "     95/100         0G     0.4439     0.2231     0.8627        229        640: 100%|██████████| 2/2 [00:21<00:00, 10.85s/it]\n",
      "                 Class     Images  Instances      Box(P          R      mAP50  mAP50-95): 100%|██████████| 1/1 [00:02<00:00,  2.30s/it]"
     ]
    },
    {
     "name": "stdout",
     "output_type": "stream",
     "text": [
      "                   all          6        303      0.993          1      0.995      0.908\n"
     ]
    },
    {
     "name": "stderr",
     "output_type": "stream",
     "text": [
      "\n"
     ]
    },
    {
     "name": "stdout",
     "output_type": "stream",
     "text": [
      "\n",
      "      Epoch    GPU_mem   box_loss   cls_loss   dfl_loss  Instances       Size\n"
     ]
    },
    {
     "name": "stderr",
     "output_type": "stream",
     "text": [
      "     96/100         0G     0.4521     0.2483     0.8632        243        640: 100%|██████████| 2/2 [00:22<00:00, 11.06s/it]\n",
      "                 Class     Images  Instances      Box(P          R      mAP50  mAP50-95): 100%|██████████| 1/1 [00:02<00:00,  2.29s/it]"
     ]
    },
    {
     "name": "stdout",
     "output_type": "stream",
     "text": [
      "                   all          6        303      0.994          1      0.995      0.912\n"
     ]
    },
    {
     "name": "stderr",
     "output_type": "stream",
     "text": [
      "\n"
     ]
    },
    {
     "name": "stdout",
     "output_type": "stream",
     "text": [
      "\n",
      "      Epoch    GPU_mem   box_loss   cls_loss   dfl_loss  Instances       Size\n"
     ]
    },
    {
     "name": "stderr",
     "output_type": "stream",
     "text": [
      "     97/100         0G     0.4168      0.221     0.8268        231        640: 100%|██████████| 2/2 [00:21<00:00, 10.82s/it]\n",
      "                 Class     Images  Instances      Box(P          R      mAP50  mAP50-95): 100%|██████████| 1/1 [00:02<00:00,  2.34s/it]"
     ]
    },
    {
     "name": "stdout",
     "output_type": "stream",
     "text": [
      "                   all          6        303      0.994          1      0.995      0.912\n"
     ]
    },
    {
     "name": "stderr",
     "output_type": "stream",
     "text": [
      "\n"
     ]
    },
    {
     "name": "stdout",
     "output_type": "stream",
     "text": [
      "\n",
      "      Epoch    GPU_mem   box_loss   cls_loss   dfl_loss  Instances       Size\n"
     ]
    },
    {
     "name": "stderr",
     "output_type": "stream",
     "text": [
      "     98/100         0G     0.4809     0.2406     0.8699        238        640: 100%|██████████| 2/2 [00:21<00:00, 10.96s/it]\n",
      "                 Class     Images  Instances      Box(P          R      mAP50  mAP50-95): 100%|██████████| 1/1 [00:02<00:00,  2.27s/it]"
     ]
    },
    {
     "name": "stdout",
     "output_type": "stream",
     "text": [
      "                   all          6        303      0.994          1      0.995      0.911\n"
     ]
    },
    {
     "name": "stderr",
     "output_type": "stream",
     "text": [
      "\n"
     ]
    },
    {
     "name": "stdout",
     "output_type": "stream",
     "text": [
      "\n",
      "      Epoch    GPU_mem   box_loss   cls_loss   dfl_loss  Instances       Size\n"
     ]
    },
    {
     "name": "stderr",
     "output_type": "stream",
     "text": [
      "     99/100         0G     0.3892     0.2206     0.8702        207        640: 100%|██████████| 2/2 [00:22<00:00, 11.33s/it]\n",
      "                 Class     Images  Instances      Box(P          R      mAP50  mAP50-95): 100%|██████████| 1/1 [00:02<00:00,  2.28s/it]"
     ]
    },
    {
     "name": "stdout",
     "output_type": "stream",
     "text": [
      "                   all          6        303      0.994          1      0.995      0.911\n"
     ]
    },
    {
     "name": "stderr",
     "output_type": "stream",
     "text": [
      "\n"
     ]
    },
    {
     "name": "stdout",
     "output_type": "stream",
     "text": [
      "\n",
      "      Epoch    GPU_mem   box_loss   cls_loss   dfl_loss  Instances       Size\n"
     ]
    },
    {
     "name": "stderr",
     "output_type": "stream",
     "text": [
      "    100/100         0G     0.4235     0.2192     0.8734        217        640: 100%|██████████| 2/2 [00:22<00:00, 11.05s/it]\n",
      "                 Class     Images  Instances      Box(P          R      mAP50  mAP50-95): 100%|██████████| 1/1 [00:02<00:00,  2.31s/it]"
     ]
    },
    {
     "name": "stdout",
     "output_type": "stream",
     "text": [
      "                   all          6        303      0.994          1      0.995      0.912\n"
     ]
    },
    {
     "name": "stderr",
     "output_type": "stream",
     "text": [
      "\n"
     ]
    },
    {
     "name": "stdout",
     "output_type": "stream",
     "text": [
      "\n",
      "100 epochs completed in 0.756 hours.\n",
      "Optimizer stripped from runs\\detect\\train5\\weights\\last.pt, 52.0MB\n",
      "Optimizer stripped from runs\\detect\\train5\\weights\\best.pt, 52.0MB\n",
      "\n",
      "Validating runs\\detect\\train5\\weights\\best.pt...\n",
      "Ultralytics 8.3.104  Python-3.8.10 torch-2.4.1+cpu CPU (AMD Ryzen 5 3600 6-Core Processor)\n",
      "Model summary (fused): 92 layers, 25,843,234 parameters, 0 gradients, 78.7 GFLOPs\n"
     ]
    },
    {
     "name": "stderr",
     "output_type": "stream",
     "text": [
      "                 Class     Images  Instances      Box(P          R      mAP50  mAP50-95): 100%|██████████| 1/1 [00:01<00:00,  1.92s/it]\n"
     ]
    },
    {
     "name": "stdout",
     "output_type": "stream",
     "text": [
      "                   all          6        303      0.993          1      0.995      0.913\n",
      "                  blue          6         58      0.999          1      0.995      0.909\n",
      "            color-bomb          3          3      0.962          1      0.995      0.995\n",
      "                 green          6         55      0.999          1      0.995       0.88\n",
      "                purple          6         55      0.998          1      0.995      0.908\n",
      "                   red          6         66      0.999          1      0.995      0.892\n",
      "                yellow          6         66      0.999          1      0.995      0.894\n",
      "Speed: 1.5ms preprocess, 306.9ms inference, 0.0ms loss, 1.9ms postprocess per image\n",
      "Results saved to \u001B[1mruns\\detect\\train5\u001B[0m\n"
     ]
    }
   ],
   "execution_count": 26
  },
  {
   "metadata": {
    "ExecuteTime": {
     "end_time": "2025-04-24T18:07:11.088180Z",
     "start_time": "2025-04-24T18:07:10.472948Z"
    }
   },
   "cell_type": "code",
   "source": [
    "# selecionar a melhor versão do modelo fine-tuned\n",
    "model = YOLO(\"runs/detect/train5/weights/best.pt\")"
   ],
   "id": "172703cd6c91af1c",
   "outputs": [],
   "execution_count": 4
  },
  {
   "metadata": {
    "ExecuteTime": {
     "end_time": "2025-04-09T11:18:28.196685Z",
     "start_time": "2025-04-09T11:18:27.521127Z"
    }
   },
   "cell_type": "code",
   "source": [
    "# prever em novas imagens\n",
    "confidence_level = 0.1\n",
    "input_path = 'captured_images'\n",
    "output_path = 'detections'\n",
    "class_names = model.names\n",
    "\n",
    "for file in os.listdir(input_path):\n",
    "    if file.lower().endswith((\".png\")):\n",
    "        image = cv2.imread(os.path.join(input_path, file))\n",
    "        results = model.predict(source=image, conf=confidence_level)  # gerar previsões acima de determinada confiança, e guardar imagens\n",
    "\n",
    "\n",
    "        output_filename = f\"prediction_{file}\"\n",
    "        output_filepath = os.path.join(output_path, output_filename)\n",
    "\n",
    "        for result in results:\n",
    "            result.save(filename=output_filepath)\n",
    "            print(\"==== Resultados Previsão ====\")\n",
    "            print(\"Imagem: \"+os.path.join(input_path, file))\n",
    "            boxes = result.boxes.xyxy.cpu().numpy()  # Bounding boxes (x_min, y_min, x_max, y_max)\n",
    "            scores = result.boxes.conf.cpu().numpy()  # Score de confiança\n",
    "            labels = result.boxes.cls.cpu().numpy()  # Índice da classe\n",
    "\n",
    "            for i in range(len(boxes)):\n",
    "                class_id = labels[i]\n",
    "                class_label = class_names[class_id] if class_id in class_names else \"Desconhecido\"\n",
    "\n",
    "                print(f\"--- Objeto {i+1} ---\")\n",
    "                print(f\"Class: {class_label} (ID: {class_id})\")\n",
    "                print(f\"Coordenadas Bounding Box: {boxes[i]}\")\n",
    "                print(f\"Confiança: {scores[i]:.4f}\")\n",
    "                print(\"-------------------\")\n",
    "\n",
    "            print(\"\\n\")"
   ],
   "id": "aed7137c251f868",
   "outputs": [
    {
     "name": "stdout",
     "output_type": "stream",
     "text": [
      "\n",
      "0: 640x640 12 blues, 11 greens, 11 purples, 12 reds, 10 yellows, 270.9ms\n",
      "Speed: 2.9ms preprocess, 270.9ms inference, 1.0ms postprocess per image at shape (1, 3, 640, 640)\n",
      "==== Resultados Previsão ====\n",
      "Imagem: captured_images\\Screenshot 2025-04-09 121651.png\n",
      "--- Objeto 1 ---\n",
      "Class: yellow (ID: 5.0)\n",
      "Coordenadas Bounding Box: [     523.89      518.84      624.51      619.68]\n",
      "Confiança: 0.9689\n",
      "-------------------\n",
      "--- Objeto 2 ---\n",
      "Class: green (ID: 2.0)\n",
      "Coordenadas Bounding Box: [     16.478      417.97      118.27      521.11]\n",
      "Confiança: 0.9665\n",
      "-------------------\n",
      "--- Objeto 3 ---\n",
      "Class: yellow (ID: 5.0)\n",
      "Coordenadas Bounding Box: [     321.49      618.92      422.41       720.7]\n",
      "Confiança: 0.9662\n",
      "-------------------\n",
      "--- Objeto 4 ---\n",
      "Class: green (ID: 2.0)\n",
      "Coordenadas Bounding Box: [     321.78      317.18      422.79      417.51]\n",
      "Confiança: 0.9658\n",
      "-------------------\n",
      "--- Objeto 5 ---\n",
      "Class: yellow (ID: 5.0)\n",
      "Coordenadas Bounding Box: [      524.3      619.64      624.04       721.6]\n",
      "Confiança: 0.9653\n",
      "-------------------\n",
      "--- Objeto 6 ---\n",
      "Class: yellow (ID: 5.0)\n",
      "Coordenadas Bounding Box: [     625.59      619.85      724.47      721.04]\n",
      "Confiança: 0.9641\n",
      "-------------------\n",
      "--- Objeto 7 ---\n",
      "Class: green (ID: 2.0)\n",
      "Coordenadas Bounding Box: [      523.6       317.4      623.85      417.92]\n",
      "Confiança: 0.9626\n",
      "-------------------\n",
      "--- Objeto 8 ---\n",
      "Class: purple (ID: 3.0)\n",
      "Coordenadas Bounding Box: [     220.97      618.77      321.53      720.25]\n",
      "Confiança: 0.9620\n",
      "-------------------\n",
      "--- Objeto 9 ---\n",
      "Class: purple (ID: 3.0)\n",
      "Coordenadas Bounding Box: [     220.87      417.23      321.96      519.61]\n",
      "Confiança: 0.9618\n",
      "-------------------\n",
      "--- Objeto 10 ---\n",
      "Class: yellow (ID: 5.0)\n",
      "Coordenadas Bounding Box: [      523.8      114.85      624.42      216.53]\n",
      "Confiança: 0.9611\n",
      "-------------------\n",
      "--- Objeto 11 ---\n",
      "Class: yellow (ID: 5.0)\n",
      "Coordenadas Bounding Box: [     524.09      13.774      624.43      115.03]\n",
      "Confiança: 0.9609\n",
      "-------------------\n",
      "--- Objeto 12 ---\n",
      "Class: purple (ID: 3.0)\n",
      "Coordenadas Bounding Box: [     220.93      12.995      322.04      115.24]\n",
      "Confiança: 0.9607\n",
      "-------------------\n",
      "--- Objeto 13 ---\n",
      "Class: green (ID: 2.0)\n",
      "Coordenadas Bounding Box: [     422.58      216.83      523.39      318.35]\n",
      "Confiança: 0.9606\n",
      "-------------------\n",
      "--- Objeto 14 ---\n",
      "Class: purple (ID: 3.0)\n",
      "Coordenadas Bounding Box: [      423.3      721.08       523.5      821.46]\n",
      "Confiança: 0.9602\n",
      "-------------------\n",
      "--- Objeto 15 ---\n",
      "Class: green (ID: 2.0)\n",
      "Coordenadas Bounding Box: [     15.996         315      118.14      418.13]\n",
      "Confiança: 0.9602\n",
      "-------------------\n",
      "--- Objeto 16 ---\n",
      "Class: blue (ID: 0.0)\n",
      "Coordenadas Bounding Box: [     321.58       518.5      422.71      619.57]\n",
      "Confiança: 0.9598\n",
      "-------------------\n",
      "--- Objeto 17 ---\n",
      "Class: yellow (ID: 5.0)\n",
      "Coordenadas Bounding Box: [     220.72      518.96      321.82      619.52]\n",
      "Confiança: 0.9593\n",
      "-------------------\n",
      "--- Objeto 18 ---\n",
      "Class: blue (ID: 0.0)\n",
      "Coordenadas Bounding Box: [     422.46       518.4      523.14      619.39]\n",
      "Confiança: 0.9589\n",
      "-------------------\n",
      "--- Objeto 19 ---\n",
      "Class: green (ID: 2.0)\n",
      "Coordenadas Bounding Box: [     221.53      316.59      321.86      418.02]\n",
      "Confiança: 0.9583\n",
      "-------------------\n",
      "--- Objeto 20 ---\n",
      "Class: purple (ID: 3.0)\n",
      "Coordenadas Bounding Box: [     221.04      720.05      321.63       822.2]\n",
      "Confiança: 0.9577\n",
      "-------------------\n",
      "--- Objeto 21 ---\n",
      "Class: blue (ID: 0.0)\n",
      "Coordenadas Bounding Box: [     118.31      518.12      220.71      619.98]\n",
      "Confiança: 0.9572\n",
      "-------------------\n",
      "--- Objeto 22 ---\n",
      "Class: green (ID: 2.0)\n",
      "Coordenadas Bounding Box: [     321.82      115.02      422.73      216.81]\n",
      "Confiança: 0.9571\n",
      "-------------------\n",
      "--- Objeto 23 ---\n",
      "Class: yellow (ID: 5.0)\n",
      "Coordenadas Bounding Box: [     119.55      418.18      221.33      519.45]\n",
      "Confiança: 0.9559\n",
      "-------------------\n",
      "--- Objeto 24 ---\n",
      "Class: red (ID: 4.0)\n",
      "Coordenadas Bounding Box: [     119.81      618.78      221.98      720.71]\n",
      "Confiança: 0.9559\n",
      "-------------------\n",
      "--- Objeto 25 ---\n",
      "Class: blue (ID: 0.0)\n",
      "Coordenadas Bounding Box: [     118.51      216.84      220.71       317.8]\n",
      "Confiança: 0.9558\n",
      "-------------------\n",
      "--- Objeto 26 ---\n",
      "Class: red (ID: 4.0)\n",
      "Coordenadas Bounding Box: [     321.98      12.116      422.79      115.21]\n",
      "Confiança: 0.9556\n",
      "-------------------\n",
      "--- Objeto 27 ---\n",
      "Class: blue (ID: 0.0)\n",
      "Coordenadas Bounding Box: [     625.52       114.6      725.56      216.89]\n",
      "Confiança: 0.9556\n",
      "-------------------\n",
      "--- Objeto 28 ---\n",
      "Class: blue (ID: 0.0)\n",
      "Coordenadas Bounding Box: [     321.71      216.24      422.58      317.18]\n",
      "Confiança: 0.9555\n",
      "-------------------\n",
      "--- Objeto 29 ---\n",
      "Class: green (ID: 2.0)\n",
      "Coordenadas Bounding Box: [     725.45      417.89      826.73      520.56]\n",
      "Confiança: 0.9545\n",
      "-------------------\n",
      "--- Objeto 30 ---\n",
      "Class: red (ID: 4.0)\n",
      "Coordenadas Bounding Box: [     321.82      416.99      423.04      519.98]\n",
      "Confiança: 0.9544\n",
      "-------------------\n",
      "--- Objeto 31 ---\n",
      "Class: red (ID: 4.0)\n",
      "Coordenadas Bounding Box: [     422.59      114.88      523.83      217.12]\n",
      "Confiança: 0.9544\n",
      "-------------------\n",
      "--- Objeto 32 ---\n",
      "Class: purple (ID: 3.0)\n",
      "Coordenadas Bounding Box: [     624.77      417.66      725.37      519.35]\n",
      "Confiança: 0.9541\n",
      "-------------------\n",
      "--- Objeto 33 ---\n",
      "Class: blue (ID: 0.0)\n",
      "Coordenadas Bounding Box: [     422.36      316.63      523.49      417.88]\n",
      "Confiança: 0.9541\n",
      "-------------------\n",
      "--- Objeto 34 ---\n",
      "Class: purple (ID: 3.0)\n",
      "Coordenadas Bounding Box: [     422.89      13.487       523.9      115.49]\n",
      "Confiança: 0.9540\n",
      "-------------------\n",
      "--- Objeto 35 ---\n",
      "Class: blue (ID: 0.0)\n",
      "Coordenadas Bounding Box: [     624.97      12.171      726.13      115.34]\n",
      "Confiança: 0.9525\n",
      "-------------------\n",
      "--- Objeto 36 ---\n",
      "Class: red (ID: 4.0)\n",
      "Coordenadas Bounding Box: [     16.736      616.66      120.13      720.78]\n",
      "Confiança: 0.9522\n",
      "-------------------\n",
      "--- Objeto 37 ---\n",
      "Class: yellow (ID: 5.0)\n",
      "Coordenadas Bounding Box: [     119.53      115.12      221.56      216.75]\n",
      "Confiança: 0.9510\n",
      "-------------------\n",
      "--- Objeto 38 ---\n",
      "Class: purple (ID: 3.0)\n",
      "Coordenadas Bounding Box: [     119.35      13.282      221.39      115.06]\n",
      "Confiança: 0.9507\n",
      "-------------------\n",
      "--- Objeto 39 ---\n",
      "Class: blue (ID: 0.0)\n",
      "Coordenadas Bounding Box: [      118.3       719.5      221.08      822.69]\n",
      "Confiança: 0.9504\n",
      "-------------------\n",
      "--- Objeto 40 ---\n",
      "Class: yellow (ID: 5.0)\n",
      "Coordenadas Bounding Box: [     624.83      216.64         726      318.15]\n",
      "Confiança: 0.9502\n",
      "-------------------\n",
      "--- Objeto 41 ---\n",
      "Class: red (ID: 4.0)\n",
      "Coordenadas Bounding Box: [     18.236      114.63      119.65      216.52]\n",
      "Confiança: 0.9501\n",
      "-------------------\n",
      "--- Objeto 42 ---\n",
      "Class: red (ID: 4.0)\n",
      "Coordenadas Bounding Box: [     422.57      416.76      524.77      519.46]\n",
      "Confiança: 0.9480\n",
      "-------------------\n",
      "--- Objeto 43 ---\n",
      "Class: red (ID: 4.0)\n",
      "Coordenadas Bounding Box: [     221.16      114.62      321.92       217.4]\n",
      "Confiança: 0.9479\n",
      "-------------------\n",
      "--- Objeto 44 ---\n",
      "Class: green (ID: 2.0)\n",
      "Coordenadas Bounding Box: [     725.61      114.78      826.96      216.65]\n",
      "Confiança: 0.9468\n",
      "-------------------\n",
      "--- Objeto 45 ---\n",
      "Class: purple (ID: 3.0)\n",
      "Coordenadas Bounding Box: [     523.39      417.29      624.67       519.3]\n",
      "Confiança: 0.9468\n",
      "-------------------\n",
      "--- Objeto 46 ---\n",
      "Class: blue (ID: 0.0)\n",
      "Coordenadas Bounding Box: [     321.15      720.03      422.99      822.22]\n",
      "Confiança: 0.9466\n",
      "-------------------\n",
      "--- Objeto 47 ---\n",
      "Class: blue (ID: 0.0)\n",
      "Coordenadas Bounding Box: [     625.55      518.61      725.36      619.67]\n",
      "Confiança: 0.9450\n",
      "-------------------\n",
      "--- Objeto 48 ---\n",
      "Class: green (ID: 2.0)\n",
      "Coordenadas Bounding Box: [     220.68      216.97      321.84      317.92]\n",
      "Confiança: 0.9438\n",
      "-------------------\n",
      "--- Objeto 49 ---\n",
      "Class: purple (ID: 3.0)\n",
      "Coordenadas Bounding Box: [     422.91      618.89      523.66      721.22]\n",
      "Confiança: 0.9427\n",
      "-------------------\n",
      "--- Objeto 50 ---\n",
      "Class: blue (ID: 0.0)\n",
      "Coordenadas Bounding Box: [     625.86      720.96      724.72      820.62]\n",
      "Confiança: 0.9426\n",
      "-------------------\n",
      "--- Objeto 51 ---\n",
      "Class: purple (ID: 3.0)\n",
      "Coordenadas Bounding Box: [     624.67      316.99      724.97      417.75]\n",
      "Confiança: 0.9419\n",
      "-------------------\n",
      "--- Objeto 52 ---\n",
      "Class: red (ID: 4.0)\n",
      "Coordenadas Bounding Box: [     524.31      721.15      623.91      821.06]\n",
      "Confiança: 0.9413\n",
      "-------------------\n",
      "--- Objeto 53 ---\n",
      "Class: green (ID: 2.0)\n",
      "Coordenadas Bounding Box: [     725.59      317.46      826.62      417.87]\n",
      "Confiança: 0.9405\n",
      "-------------------\n",
      "--- Objeto 54 ---\n",
      "Class: red (ID: 4.0)\n",
      "Coordenadas Bounding Box: [        727      618.25      826.95      719.34]\n",
      "Confiança: 0.9400\n",
      "-------------------\n",
      "--- Objeto 55 ---\n",
      "Class: red (ID: 4.0)\n",
      "Coordenadas Bounding Box: [     523.82      216.04       624.9      318.89]\n",
      "Confiança: 0.9389\n",
      "-------------------\n",
      "--- Objeto 56 ---\n",
      "Class: red (ID: 4.0)\n",
      "Coordenadas Bounding Box: [      119.4       316.5      222.17         418]\n",
      "Confiança: 0.9339\n",
      "-------------------\n",
      "\n",
      "\n",
      "\n",
      "0: 640x640 14 blues, 1 color-bomb, 7 greens, 11 purples, 13 reds, 10 yellows, 258.3ms\n",
      "Speed: 3.5ms preprocess, 258.3ms inference, 0.8ms postprocess per image at shape (1, 3, 640, 640)\n",
      "==== Resultados Previsão ====\n",
      "Imagem: captured_images\\Screenshot 2025-04-09 121745.png\n",
      "--- Objeto 1 ---\n",
      "Class: color-bomb (ID: 1.0)\n",
      "Coordenadas Bounding Box: [     524.77      116.89      624.42      219.62]\n",
      "Confiança: 0.9940\n",
      "-------------------\n",
      "--- Objeto 2 ---\n",
      "Class: yellow (ID: 5.0)\n",
      "Coordenadas Bounding Box: [     120.48      15.793      221.39      116.76]\n",
      "Confiança: 0.9687\n",
      "-------------------\n",
      "--- Objeto 3 ---\n",
      "Class: blue (ID: 0.0)\n",
      "Coordenadas Bounding Box: [     323.14      14.718      423.62      116.82]\n",
      "Confiança: 0.9668\n",
      "-------------------\n",
      "--- Objeto 4 ---\n",
      "Class: yellow (ID: 5.0)\n",
      "Coordenadas Bounding Box: [     221.75      621.48      323.11      722.93]\n",
      "Confiança: 0.9663\n",
      "-------------------\n",
      "--- Objeto 5 ---\n",
      "Class: yellow (ID: 5.0)\n",
      "Coordenadas Bounding Box: [     525.52      621.81      625.68      722.79]\n",
      "Confiança: 0.9649\n",
      "-------------------\n",
      "--- Objeto 6 ---\n",
      "Class: purple (ID: 3.0)\n",
      "Coordenadas Bounding Box: [      222.1      722.56       322.7       824.8]\n",
      "Confiança: 0.9648\n",
      "-------------------\n",
      "--- Objeto 7 ---\n",
      "Class: green (ID: 2.0)\n",
      "Coordenadas Bounding Box: [     18.287      420.23      119.45      523.27]\n",
      "Confiança: 0.9633\n",
      "-------------------\n",
      "--- Objeto 8 ---\n",
      "Class: yellow (ID: 5.0)\n",
      "Coordenadas Bounding Box: [     322.62      319.39      423.68      420.24]\n",
      "Confiança: 0.9629\n",
      "-------------------\n",
      "--- Objeto 9 ---\n",
      "Class: purple (ID: 3.0)\n",
      "Coordenadas Bounding Box: [     121.11      116.15      221.86      218.08]\n",
      "Confiança: 0.9616\n",
      "-------------------\n",
      "--- Objeto 10 ---\n",
      "Class: green (ID: 2.0)\n",
      "Coordenadas Bounding Box: [     524.46      520.71      624.28      622.17]\n",
      "Confiança: 0.9612\n",
      "-------------------\n",
      "--- Objeto 11 ---\n",
      "Class: green (ID: 2.0)\n",
      "Coordenadas Bounding Box: [     423.95       520.6      524.05      621.59]\n",
      "Confiança: 0.9606\n",
      "-------------------\n",
      "--- Objeto 12 ---\n",
      "Class: yellow (ID: 5.0)\n",
      "Coordenadas Bounding Box: [     221.62      116.74         323      218.64]\n",
      "Confiança: 0.9600\n",
      "-------------------\n",
      "--- Objeto 13 ---\n",
      "Class: yellow (ID: 5.0)\n",
      "Coordenadas Bounding Box: [     524.89      319.95      624.83       420.2]\n",
      "Confiança: 0.9597\n",
      "-------------------\n",
      "--- Objeto 14 ---\n",
      "Class: purple (ID: 3.0)\n",
      "Coordenadas Bounding Box: [     222.02      318.96      322.76      419.83]\n",
      "Confiança: 0.9594\n",
      "-------------------\n",
      "--- Objeto 15 ---\n",
      "Class: purple (ID: 3.0)\n",
      "Coordenadas Bounding Box: [     222.16      15.167      323.02      116.76]\n",
      "Confiança: 0.9593\n",
      "-------------------\n",
      "--- Objeto 16 ---\n",
      "Class: purple (ID: 3.0)\n",
      "Coordenadas Bounding Box: [     726.55      116.17      829.29      219.31]\n",
      "Confiança: 0.9592\n",
      "-------------------\n",
      "--- Objeto 17 ---\n",
      "Class: purple (ID: 3.0)\n",
      "Coordenadas Bounding Box: [     222.05      520.54      322.74      621.77]\n",
      "Confiança: 0.9586\n",
      "-------------------\n",
      "--- Objeto 18 ---\n",
      "Class: blue (ID: 0.0)\n",
      "Coordenadas Bounding Box: [     119.39      520.31       221.3      622.24]\n",
      "Confiança: 0.9584\n",
      "-------------------\n",
      "--- Objeto 19 ---\n",
      "Class: purple (ID: 3.0)\n",
      "Coordenadas Bounding Box: [      424.3      722.54      524.72      823.94]\n",
      "Confiança: 0.9582\n",
      "-------------------\n",
      "--- Objeto 20 ---\n",
      "Class: yellow (ID: 5.0)\n",
      "Coordenadas Bounding Box: [     525.26      420.55      624.88      521.61]\n",
      "Confiança: 0.9572\n",
      "-------------------\n",
      "--- Objeto 21 ---\n",
      "Class: purple (ID: 3.0)\n",
      "Coordenadas Bounding Box: [     323.38       218.8      423.16      320.05]\n",
      "Confiança: 0.9570\n",
      "-------------------\n",
      "--- Objeto 22 ---\n",
      "Class: blue (ID: 0.0)\n",
      "Coordenadas Bounding Box: [     119.86      722.17      221.48      825.48]\n",
      "Confiança: 0.9567\n",
      "-------------------\n",
      "--- Objeto 23 ---\n",
      "Class: yellow (ID: 5.0)\n",
      "Coordenadas Bounding Box: [     120.31      420.17      221.45      521.96]\n",
      "Confiança: 0.9564\n",
      "-------------------\n",
      "--- Objeto 24 ---\n",
      "Class: red (ID: 4.0)\n",
      "Coordenadas Bounding Box: [     727.37      619.87      828.95      722.13]\n",
      "Confiança: 0.9558\n",
      "-------------------\n",
      "--- Objeto 25 ---\n",
      "Class: yellow (ID: 5.0)\n",
      "Coordenadas Bounding Box: [     119.69      218.87      221.45      319.71]\n",
      "Confiança: 0.9548\n",
      "-------------------\n",
      "--- Objeto 26 ---\n",
      "Class: blue (ID: 0.0)\n",
      "Coordenadas Bounding Box: [     423.19      419.57      524.41      521.92]\n",
      "Confiança: 0.9543\n",
      "-------------------\n",
      "--- Objeto 27 ---\n",
      "Class: red (ID: 4.0)\n",
      "Coordenadas Bounding Box: [     120.96      620.77      222.65      722.99]\n",
      "Confiança: 0.9542\n",
      "-------------------\n",
      "--- Objeto 28 ---\n",
      "Class: blue (ID: 0.0)\n",
      "Coordenadas Bounding Box: [     423.72      318.75      524.36      420.39]\n",
      "Confiança: 0.9540\n",
      "-------------------\n",
      "--- Objeto 29 ---\n",
      "Class: blue (ID: 0.0)\n",
      "Coordenadas Bounding Box: [     120.29      319.26      221.35      420.33]\n",
      "Confiança: 0.9532\n",
      "-------------------\n",
      "--- Objeto 30 ---\n",
      "Class: blue (ID: 0.0)\n",
      "Coordenadas Bounding Box: [     627.26      621.96      726.32      723.08]\n",
      "Confiança: 0.9524\n",
      "-------------------\n",
      "--- Objeto 31 ---\n",
      "Class: green (ID: 2.0)\n",
      "Coordenadas Bounding Box: [     726.33      420.03      829.42      523.17]\n",
      "Confiança: 0.9514\n",
      "-------------------\n",
      "--- Objeto 32 ---\n",
      "Class: red (ID: 4.0)\n",
      "Coordenadas Bounding Box: [     19.518       116.2      120.46      218.46]\n",
      "Confiança: 0.9502\n",
      "-------------------\n",
      "--- Objeto 33 ---\n",
      "Class: red (ID: 4.0)\n",
      "Coordenadas Bounding Box: [     323.13       620.4      423.34      722.82]\n",
      "Confiança: 0.9498\n",
      "-------------------\n",
      "--- Objeto 34 ---\n",
      "Class: yellow (ID: 5.0)\n",
      "Coordenadas Bounding Box: [      625.7      420.44      726.06      521.18]\n",
      "Confiança: 0.9494\n",
      "-------------------\n",
      "--- Objeto 35 ---\n",
      "Class: green (ID: 2.0)\n",
      "Coordenadas Bounding Box: [     423.69      218.85      524.45       320.7]\n",
      "Confiança: 0.9482\n",
      "-------------------\n",
      "--- Objeto 36 ---\n",
      "Class: blue (ID: 0.0)\n",
      "Coordenadas Bounding Box: [     323.21      419.72      423.62      521.65]\n",
      "Confiança: 0.9467\n",
      "-------------------\n",
      "--- Objeto 37 ---\n",
      "Class: red (ID: 4.0)\n",
      "Coordenadas Bounding Box: [      423.9      620.63      525.32       722.9]\n",
      "Confiança: 0.9463\n",
      "-------------------\n",
      "--- Objeto 38 ---\n",
      "Class: red (ID: 4.0)\n",
      "Coordenadas Bounding Box: [     18.488      619.08      121.07      723.24]\n",
      "Confiança: 0.9455\n",
      "-------------------\n",
      "--- Objeto 39 ---\n",
      "Class: red (ID: 4.0)\n",
      "Coordenadas Bounding Box: [     323.11      519.99      424.16      621.76]\n",
      "Confiança: 0.9455\n",
      "-------------------\n",
      "--- Objeto 40 ---\n",
      "Class: blue (ID: 0.0)\n",
      "Coordenadas Bounding Box: [     626.13      319.22      725.63      420.25]\n",
      "Confiança: 0.9445\n",
      "-------------------\n",
      "--- Objeto 41 ---\n",
      "Class: blue (ID: 0.0)\n",
      "Coordenadas Bounding Box: [     222.06      218.56      323.04      319.81]\n",
      "Confiança: 0.9436\n",
      "-------------------\n",
      "--- Objeto 42 ---\n",
      "Class: red (ID: 4.0)\n",
      "Coordenadas Bounding Box: [     322.92      115.77      424.01      219.09]\n",
      "Confiança: 0.9432\n",
      "-------------------\n",
      "--- Objeto 43 ---\n",
      "Class: green (ID: 2.0)\n",
      "Coordenadas Bounding Box: [     627.08      117.13      725.56      218.87]\n",
      "Confiança: 0.9430\n",
      "-------------------\n",
      "--- Objeto 44 ---\n",
      "Class: blue (ID: 0.0)\n",
      "Coordenadas Bounding Box: [     626.32      218.23       727.3       321.2]\n",
      "Confiança: 0.9430\n",
      "-------------------\n",
      "--- Objeto 45 ---\n",
      "Class: red (ID: 4.0)\n",
      "Coordenadas Bounding Box: [     221.84      419.51      323.29      521.37]\n",
      "Confiança: 0.9428\n",
      "-------------------\n",
      "--- Objeto 46 ---\n",
      "Class: red (ID: 4.0)\n",
      "Coordenadas Bounding Box: [     423.42      14.521      524.68       117.1]\n",
      "Confiança: 0.9411\n",
      "-------------------\n",
      "--- Objeto 47 ---\n",
      "Class: red (ID: 4.0)\n",
      "Coordenadas Bounding Box: [     19.146      317.29       120.5      420.25]\n",
      "Confiança: 0.9401\n",
      "-------------------\n",
      "--- Objeto 48 ---\n",
      "Class: red (ID: 4.0)\n",
      "Coordenadas Bounding Box: [     525.34      723.09      624.98      823.87]\n",
      "Confiança: 0.9384\n",
      "-------------------\n",
      "--- Objeto 49 ---\n",
      "Class: purple (ID: 3.0)\n",
      "Coordenadas Bounding Box: [     625.93      520.71      726.07       621.9]\n",
      "Confiança: 0.9376\n",
      "-------------------\n",
      "--- Objeto 50 ---\n",
      "Class: blue (ID: 0.0)\n",
      "Coordenadas Bounding Box: [     524.89      218.65      625.97      321.15]\n",
      "Confiança: 0.9348\n",
      "-------------------\n",
      "--- Objeto 51 ---\n",
      "Class: green (ID: 2.0)\n",
      "Coordenadas Bounding Box: [     726.22       318.1      829.01      420.32]\n",
      "Confiança: 0.9346\n",
      "-------------------\n",
      "--- Objeto 52 ---\n",
      "Class: blue (ID: 0.0)\n",
      "Coordenadas Bounding Box: [     627.21      722.72      725.92       823.6]\n",
      "Confiança: 0.9336\n",
      "-------------------\n",
      "--- Objeto 53 ---\n",
      "Class: red (ID: 4.0)\n",
      "Coordenadas Bounding Box: [     525.37      15.352      626.17      116.71]\n",
      "Confiança: 0.9323\n",
      "-------------------\n",
      "--- Objeto 54 ---\n",
      "Class: purple (ID: 3.0)\n",
      "Coordenadas Bounding Box: [      423.8      117.06      524.78      219.12]\n",
      "Confiança: 0.9309\n",
      "-------------------\n",
      "--- Objeto 55 ---\n",
      "Class: purple (ID: 3.0)\n",
      "Coordenadas Bounding Box: [     626.13      14.783      727.05      117.14]\n",
      "Confiança: 0.9217\n",
      "-------------------\n",
      "--- Objeto 56 ---\n",
      "Class: blue (ID: 0.0)\n",
      "Coordenadas Bounding Box: [     322.85      722.64      423.94      825.43]\n",
      "Confiança: 0.9184\n",
      "-------------------\n",
      "\n",
      "\n"
     ]
    }
   ],
   "execution_count": 32
  },
  {
   "metadata": {},
   "cell_type": "markdown",
   "source": "# 🎮Testar no jogo, o modelo",
   "id": "81a993b29cb032a9"
  },
  {
   "metadata": {},
   "cell_type": "markdown",
   "source": "###### CONFIGURAÇÕES GERAIS",
   "id": "4612f187e647f3dd"
  },
  {
   "metadata": {
    "ExecuteTime": {
     "end_time": "2025-04-24T18:07:28.004936Z",
     "start_time": "2025-04-24T18:07:27.923963Z"
    }
   },
   "cell_type": "code",
   "source": [
    "model = YOLO(\"runs/detect/train5/weights/best.pt\") # Carrega o modelo YOLO treinado\n",
    "screen_width, screen_height = pyautogui.size() # Tamanho total do ecrã (para eventualmente converter coordenadas para cliques)\n",
    "\n",
    "# Região do tabuleiro (ajustável via variáveis de ambiente)\n",
    "BOARD_REGION = {\n",
    "    \"left\": int(os.getenv(\"BOARD_REGION_LEFT\", \"615\")),     # posição X do canto superior esquerdo\n",
    "    \"top\": int(os.getenv(\"BOARD_REGION_TOP\", \"130\")),      # posição Y do canto superior esquerdo\n",
    "    \"width\": int(os.getenv(\"BOARD_REGION_WIDTH\", \"820\")),    # largura da região\n",
    "    \"height\": int(os.getenv(\"BOARD_REGION_HEIGHT\", \"820\"))    # altura da região\n",
    "}\n",
    "\n",
    "# Número de linhas e colunas no tabuleiro (ex: 8x8)\n",
    "ROWS = int(os.getenv(\"ROWS_GRID\", \"8\"))\n",
    "COLS = int(os.getenv(\"COLS_GRID\", \"8\"))\n",
    "\n",
    "# Garante que as pastas de output existem\n",
    "os.makedirs(\"captured_images\", exist_ok=True)\n",
    "os.makedirs(\"detections\", exist_ok=True)"
   ],
   "id": "7b67fb3e77e03caa",
   "outputs": [],
   "execution_count": 5
  },
  {
   "metadata": {},
   "cell_type": "markdown",
   "source": "###### FUNÇÃO DE CAPTURA DE IMAGEM",
   "id": "27f7b60790eba45d"
  },
  {
   "metadata": {
    "ExecuteTime": {
     "end_time": "2025-04-24T18:07:30.623453Z",
     "start_time": "2025-04-24T18:07:30.608506Z"
    }
   },
   "cell_type": "code",
   "source": [
    "# função que captura só a região do tabuleiro e devolve a imagem\n",
    "def capture_board_region():\n",
    "    # Captura a imagem da região definida como o tabuleiro\n",
    "    with mss.mss() as sct:\n",
    "        screenshot = sct.grab(BOARD_REGION)\n",
    "        img = np.array(screenshot)\n",
    "        img = cv2.cvtColor(img, cv2.COLOR_BGRA2BGR)\n",
    "        img_height, img_width, _ = img.shape\n",
    "        timestamp = datetime.now().strftime(\"%Y%m%d-%H%M%S-%f\")\n",
    "\n",
    "        # Guardar imagem opcionalmente\n",
    "        img_path = os.path.join('captured_images', f\"capture_{timestamp}.jpg\")\n",
    "        cv2.imwrite(img_path, img)\n",
    "\n",
    "        return img, timestamp, img_width, img_height # width, height"
   ],
   "id": "da503b195d1c814f",
   "outputs": [],
   "execution_count": 6
  },
  {
   "metadata": {},
   "cell_type": "markdown",
   "source": "###### IDENTIFICAR PECAS ADJACENTES E POSSIVEIS COMBINACOES",
   "id": "3a4d8993bb3c5bd3"
  },
  {
   "metadata": {
    "ExecuteTime": {
     "end_time": "2025-04-24T18:07:32.075045Z",
     "start_time": "2025-04-24T18:07:32.066046Z"
    }
   },
   "cell_type": "code",
   "source": [
    "def sugerir_melhor_jogada(grid):\n",
    "    ROWS, COLS = len(grid), len(grid[0])\n",
    "    melhores_trocas = []\n",
    "    max_combo = 0\n",
    "\n",
    "    def contar_sequencia(g, r, c, cor):\n",
    "        # Contar horizontalmente\n",
    "        cont_h = 1\n",
    "        i = c - 1\n",
    "        while i >= 0 and g[r][i] == cor:\n",
    "            cont_h += 1\n",
    "            i -= 1\n",
    "        i = c + 1\n",
    "        while i < COLS and g[r][i] == cor:\n",
    "            cont_h += 1\n",
    "            i += 1\n",
    "\n",
    "        # Contar verticalmente\n",
    "        cont_v = 1\n",
    "        i = r - 1\n",
    "        while i >= 0 and g[i][c] == cor:\n",
    "            cont_v += 1\n",
    "            i -= 1\n",
    "        i = r + 1\n",
    "        while i < ROWS and g[i][c] == cor:\n",
    "            cont_v += 1\n",
    "            i += 1\n",
    "\n",
    "        return max(cont_h if cont_h >= 3 else 0, cont_v if cont_v >= 3 else 0)\n",
    "\n",
    "    for r in range(ROWS):\n",
    "        for c in range(COLS):\n",
    "            if grid[r][c] is None:\n",
    "                continue\n",
    "\n",
    "            for dr, dc in [(0, 1), (1, 0)]:\n",
    "                nr, nc = r + dr, c + dc\n",
    "                if nr >= ROWS or nc >= COLS:\n",
    "                    continue\n",
    "                if grid[nr][nc] is None:\n",
    "                    continue\n",
    "\n",
    "                # Fazer swap\n",
    "                grid[r][c], grid[nr][nc] = grid[nr][nc], grid[r][c]\n",
    "\n",
    "                # Contar sequências resultantes nas 2 posições\n",
    "                score = max(\n",
    "                    contar_sequencia(grid, r, c, grid[r][c]),\n",
    "                    contar_sequencia(grid, nr, nc, grid[nr][nc])\n",
    "                )\n",
    "\n",
    "                if score > max_combo:\n",
    "                    max_combo = score\n",
    "                    melhores_trocas = [((r, c), (nr, nc))]\n",
    "                elif score == max_combo and score >= 3:\n",
    "                    melhores_trocas.append(((r, c), (nr, nc)))\n",
    "\n",
    "                # Reverter swap\n",
    "                grid[r][c], grid[nr][nc] = grid[nr][nc], grid[r][c]\n",
    "\n",
    "    if melhores_trocas:\n",
    "        print(f\"\\n💡 Melhor jogada: {melhores_trocas[0]} que forma grupo de {max_combo}\")\n",
    "        return melhores_trocas[0], max_combo\n",
    "    else:\n",
    "        print(\"\\n⚠️ Nenhuma jogada possível encontrada.\")\n",
    "        return None, 0"
   ],
   "id": "1c11053fdab4b862",
   "outputs": [],
   "execution_count": 7
  },
  {
   "metadata": {},
   "cell_type": "markdown",
   "source": "###### LOOP PRINCIPAL",
   "id": "7e735d1f008d8569"
  },
  {
   "metadata": {
    "ExecuteTime": {
     "end_time": "2025-04-24T18:18:17.587928Z",
     "start_time": "2025-04-24T18:16:38.025027Z"
    }
   },
   "cell_type": "code",
   "source": [
    "while True:\n",
    "    # Captura o tabuleiro\n",
    "    img, timestamp, img_width, img_height = capture_board_region()\n",
    "\n",
    "    # Faz previsão com YOLO\n",
    "    results = model.predict(source=img, conf=0.1)\n",
    "    detections = results[0].boxes.xyxy  # Coordenadas (x1, y1, x2, y2)\n",
    "\n",
    "    # Define dimensões das células da grelha\n",
    "    cell_width = img_width // COLS\n",
    "    cell_height = img_height // ROWS\n",
    "\n",
    "    grid = [[None for _ in range(COLS)] for _ in range(ROWS)]  # Cria grelha vazia\n",
    "\n",
    "\n",
    "    if len(detections) > 0:\n",
    "        print(f\"\\n✅ Detetou {len(detections)} objetos.\")\n",
    "\n",
    "        # Guarda imagem com bounding boxes\n",
    "        annotated_frame = results[0].plot()\n",
    "        result_path = os.path.join('detections', f\"result_{timestamp}.jpg\")\n",
    "        cv2.imwrite(result_path, annotated_frame)\n",
    "\n",
    "        # Processa cada deteção\n",
    "        for i, (x1, y1, x2, y2) in enumerate(detections.tolist()):\n",
    "            # Calcula o centro do objeto\n",
    "            center_x = int((x1 + x2) / 2)\n",
    "            center_y = int((y1 + y2) / 2)\n",
    "\n",
    "            # Converte centro para coordenadas de grelha\n",
    "            col = center_x // cell_width\n",
    "            row = center_y // cell_height\n",
    "\n",
    "            class_id = int(results[0].boxes.cls[i].item())\n",
    "            class_name = model.names[class_id]\n",
    "\n",
    "            # Preenche a grelha com o nome da classe\n",
    "            if 0 <= row < ROWS and 0 <= col < COLS:\n",
    "                grid[row][col] = class_name\n",
    "\n",
    "            # converter coordenadas\n",
    "            scaled_x = int((center_x / img_width) * screen_width)\n",
    "            scaled_y = int((center_y / img_height) * screen_height)\n",
    "\n",
    "            # Pausa breve, entre objetos (se necessario)\n",
    "            #time.sleep(0.25)\n",
    "\n",
    "        # Imprime o mapa atual do tabuleiro\n",
    "        print(\"📌 Mapa do tabuleiro:\")\n",
    "        for row in grid:\n",
    "            print(row)\n",
    "\n",
    "        print(\"\\n🔄 Combinações possíveis:\")\n",
    "        # Sugerir a melhor jogada com maior grupo\n",
    "        melhor_troca, tamanho_grupo = sugerir_melhor_jogada(grid)\n",
    "\n",
    "        # mover rato\n",
    "        if melhor_troca:\n",
    "            (r1, c1), (r2, c2) = melhor_troca\n",
    "\n",
    "            def cell_to_screen(row, col):\n",
    "                # Coordenadas do centro da célula no ecrã\n",
    "                x = BOARD_REGION[\"left\"] + col * cell_width + cell_width // 2\n",
    "                y = BOARD_REGION[\"top\"] + row * cell_height + cell_height // 2\n",
    "                return x, y\n",
    "\n",
    "            x1, y1 = cell_to_screen(r1, c1)\n",
    "            x2, y2 = cell_to_screen(r2, c2)\n",
    "\n",
    "            print(f\"🖱️ A mover para ({r1}, {c1}) -> ({r2}, {c2})\")\n",
    "            pyautogui.moveTo(x1, y1, duration=0.3)\n",
    "            pyautogui.click()\n",
    "            time.sleep(0.2)  # pequena pausa entre cliques\n",
    "            pyautogui.moveTo(x2, y2, duration=0.3)\n",
    "            pyautogui.click()\n",
    "        else:\n",
    "            print(\"⚠️ Nenhuma jogada possível para clicar.\")\n",
    "\n",
    "\n",
    "    time.sleep(3) # Pausa antes da próxima leitura (ajustavel)"
   ],
   "id": "bb6ee1517d5d63b8",
   "outputs": [
    {
     "name": "stdout",
     "output_type": "stream",
     "text": [
      "\n",
      "0: 640x640 18 blues, 1 color-bomb, 4 greens, 20 purples, 5 reds, 12 yellows, 327.6ms\n",
      "Speed: 3.9ms preprocess, 327.6ms inference, 1.7ms postprocess per image at shape (1, 3, 640, 640)\n",
      "\n",
      "✅ Detetou 60 objetos.\n",
      "📌 Mapa do tabuleiro:\n",
      "[None, 'blue', 'yellow', 'purple', 'purple', 'yellow', 'blue', None]\n",
      "['blue', 'green', 'blue', 'purple', 'purple', 'blue', 'green', 'blue']\n",
      "['purple', 'blue', 'red', 'yellow', 'yellow', 'red', 'blue', 'purple']\n",
      "['blue', 'purple', 'yellow', 'purple', 'purple', 'yellow', 'purple', 'blue']\n",
      "['purple', 'purple', 'yellow', 'red', 'color-bomb', 'yellow', 'purple', 'purple']\n",
      "['blue', 'blue', 'red', 'yellow', 'yellow', 'red', 'blue', 'blue']\n",
      "['purple', 'green', 'blue', 'purple', 'purple', 'blue', 'green', 'purple']\n",
      "[None, 'blue', 'yellow', 'purple', 'purple', 'yellow', 'blue', None]\n",
      "\n",
      "🔄 Combinações possíveis:\n",
      "\n",
      "💡 Melhor jogada: ((0, 1), (1, 1)) que forma grupo de 3\n",
      "🖱️ A mover para (0, 1) -> (1, 1)\n",
      "\n",
      "0: 640x640 17 blues, 1 color-bomb, 5 greens, 20 purples, 5 reds, 12 yellows, 281.2ms\n",
      "Speed: 3.0ms preprocess, 281.2ms inference, 1.6ms postprocess per image at shape (1, 3, 640, 640)\n",
      "\n",
      "✅ Detetou 60 objetos.\n",
      "📌 Mapa do tabuleiro:\n",
      "[None, 'blue', 'purple', 'green', 'blue', 'yellow', 'blue', None]\n",
      "['purple', 'green', 'yellow', 'purple', 'purple', 'blue', 'green', 'blue']\n",
      "['purple', 'blue', 'red', 'yellow', 'yellow', 'red', 'blue', 'purple']\n",
      "['blue', 'purple', 'yellow', 'purple', 'purple', 'yellow', 'purple', 'blue']\n",
      "['purple', 'purple', 'yellow', 'red', 'color-bomb', 'yellow', 'purple', 'purple']\n",
      "['blue', 'blue', 'red', 'yellow', 'yellow', 'red', 'blue', 'blue']\n",
      "['purple', 'green', 'blue', 'purple', 'purple', 'blue', 'green', 'purple']\n",
      "[None, 'blue', 'yellow', 'purple', 'purple', 'yellow', 'blue', None]\n",
      "\n",
      "🔄 Combinações possíveis:\n",
      "\n",
      "💡 Melhor jogada: ((2, 2), (2, 3)) que forma grupo de 4\n",
      "🖱️ A mover para (2, 2) -> (2, 3)\n",
      "\n",
      "0: 640x640 19 blues, 1 color-bomb, 6 greens, 17 purples, 7 reds, 10 yellows, 281.6ms\n",
      "Speed: 3.5ms preprocess, 281.6ms inference, 1.0ms postprocess per image at shape (1, 3, 640, 640)\n",
      "\n",
      "✅ Detetou 60 objetos.\n",
      "📌 Mapa do tabuleiro:\n",
      "[None, 'green', 'yellow', 'purple', 'red', 'blue', 'blue', None]\n",
      "['purple', 'yellow', 'purple', 'blue', 'green', 'blue', 'green', 'blue']\n",
      "['purple', 'blue', 'red', 'green', 'blue', 'red', 'blue', 'purple']\n",
      "['blue', 'blue', 'purple', 'red', 'yellow', 'yellow', 'purple', 'blue']\n",
      "['purple', 'purple', 'yellow', 'red', 'color-bomb', 'yellow', 'purple', 'purple']\n",
      "['blue', 'blue', 'red', 'yellow', 'yellow', 'red', 'blue', 'blue']\n",
      "['purple', 'green', 'blue', 'purple', 'purple', 'blue', 'green', 'purple']\n",
      "[None, 'blue', 'yellow', 'purple', 'purple', 'yellow', 'blue', None]\n",
      "\n",
      "🔄 Combinações possíveis:\n",
      "\n",
      "💡 Melhor jogada: ((0, 6), (1, 6)) que forma grupo de 3\n",
      "🖱️ A mover para (0, 6) -> (1, 6)\n",
      "\n",
      "0: 640x640 17 blues, 1 color-bomb, 6 greens, 18 purples, 7 reds, 11 yellows, 295.1ms\n",
      "Speed: 3.7ms preprocess, 295.1ms inference, 1.1ms postprocess per image at shape (1, 3, 640, 640)\n",
      "\n",
      "✅ Detetou 60 objetos.\n",
      "📌 Mapa do tabuleiro:\n",
      "[None, 'green', 'yellow', 'purple', 'red', 'purple', 'blue', None]\n",
      "['purple', 'yellow', 'purple', 'blue', 'green', 'blue', 'green', 'yellow']\n",
      "['purple', 'blue', 'red', 'green', 'blue', 'red', 'blue', 'purple']\n",
      "['blue', 'blue', 'purple', 'red', 'yellow', 'yellow', 'purple', 'blue']\n",
      "['purple', 'purple', 'yellow', 'red', 'color-bomb', 'yellow', 'purple', 'purple']\n",
      "['blue', 'blue', 'red', 'yellow', 'yellow', 'red', 'blue', 'blue']\n",
      "['purple', 'green', 'blue', 'purple', 'purple', 'blue', 'green', 'purple']\n",
      "[None, 'blue', 'yellow', 'purple', 'purple', 'yellow', 'blue', None]\n",
      "\n",
      "🔄 Combinações possíveis:\n",
      "\n",
      "💡 Melhor jogada: ((1, 4), (2, 4)) que forma grupo de 3\n",
      "🖱️ A mover para (1, 4) -> (2, 4)\n",
      "\n",
      "0: 640x640 14 blues, 1 color-bomb, 8 greens, 19 purples, 7 reds, 11 yellows, 278.7ms\n",
      "Speed: 3.1ms preprocess, 278.7ms inference, 1.1ms postprocess per image at shape (1, 3, 640, 640)\n",
      "\n",
      "✅ Detetou 60 objetos.\n",
      "📌 Mapa do tabuleiro:\n",
      "[None, 'green', 'yellow', 'green', 'purple', 'green', 'blue', None]\n",
      "['purple', 'yellow', 'purple', 'purple', 'red', 'purple', 'green', 'yellow']\n",
      "['purple', 'blue', 'red', 'green', 'green', 'red', 'blue', 'purple']\n",
      "['blue', 'blue', 'purple', 'red', 'yellow', 'yellow', 'purple', 'blue']\n",
      "['purple', 'purple', 'yellow', 'red', 'color-bomb', 'yellow', 'purple', 'purple']\n",
      "['blue', 'blue', 'red', 'yellow', 'yellow', 'red', 'blue', 'blue']\n",
      "['purple', 'green', 'blue', 'purple', 'purple', 'blue', 'green', 'purple']\n",
      "[None, 'blue', 'yellow', 'purple', 'purple', 'yellow', 'blue', None]\n",
      "\n",
      "🔄 Combinações possíveis:\n",
      "\n",
      "💡 Melhor jogada: ((0, 4), (1, 4)) que forma grupo de 4\n",
      "🖱️ A mover para (0, 4) -> (1, 4)\n",
      "\n",
      "0: 640x640 14 blues, 1 color-bomb, 8 greens, 18 purples, 8 reds, 11 yellows, 281.8ms\n",
      "Speed: 4.1ms preprocess, 281.8ms inference, 1.3ms postprocess per image at shape (1, 3, 640, 640)\n",
      "\n",
      "✅ Detetou 60 objetos.\n",
      "📌 Mapa do tabuleiro:\n",
      "[None, 'green', 'purple', 'purple', 'red', 'red', 'blue', None]\n",
      "['purple', 'yellow', 'yellow', 'green', 'purple', 'green', 'green', 'yellow']\n",
      "['purple', 'blue', 'red', 'green', 'green', 'red', 'blue', 'purple']\n",
      "['blue', 'blue', 'purple', 'red', 'yellow', 'yellow', 'purple', 'blue']\n",
      "['purple', 'purple', 'yellow', 'red', 'color-bomb', 'yellow', 'purple', 'purple']\n",
      "['blue', 'blue', 'red', 'yellow', 'yellow', 'red', 'blue', 'blue']\n",
      "['purple', 'green', 'blue', 'purple', 'purple', 'blue', 'green', 'purple']\n",
      "[None, 'blue', 'yellow', 'purple', 'purple', 'yellow', 'blue', None]\n",
      "\n",
      "🔄 Combinações possíveis:\n",
      "\n",
      "💡 Melhor jogada: ((1, 4), (2, 4)) que forma grupo de 4\n",
      "🖱️ A mover para (1, 4) -> (2, 4)\n",
      "\n",
      "0: 640x640 15 blues, 1 color-bomb, 6 greens, 18 purples, 8 reds, 12 yellows, 283.7ms\n",
      "Speed: 3.8ms preprocess, 283.7ms inference, 1.0ms postprocess per image at shape (1, 3, 640, 640)\n",
      "\n",
      "✅ Detetou 60 objetos.\n",
      "📌 Mapa do tabuleiro:\n",
      "[None, 'green', 'purple', 'yellow', 'red', 'blue', 'green', None]\n",
      "['purple', 'yellow', 'yellow', 'purple', 'green', 'red', 'blue', 'yellow']\n",
      "['purple', 'blue', 'red', 'green', 'purple', 'red', 'blue', 'purple']\n",
      "['blue', 'blue', 'purple', 'red', 'yellow', 'yellow', 'purple', 'blue']\n",
      "['purple', 'purple', 'yellow', 'red', 'color-bomb', 'yellow', 'purple', 'purple']\n",
      "['blue', 'blue', 'red', 'yellow', 'yellow', 'red', 'blue', 'blue']\n",
      "['purple', 'green', 'blue', 'purple', 'purple', 'blue', 'green', 'purple']\n",
      "[None, 'blue', 'yellow', 'purple', 'purple', 'yellow', 'blue', None]\n",
      "\n",
      "🔄 Combinações possíveis:\n",
      "\n",
      "💡 Melhor jogada: ((0, 3), (1, 3)) que forma grupo de 3\n",
      "🖱️ A mover para (0, 3) -> (1, 3)\n",
      "\n",
      "0: 640x640 15 blues, 1 color-bomb, 7 greens, 19 purples, 9 reds, 9 yellows, 290.2ms\n",
      "Speed: 4.3ms preprocess, 290.2ms inference, 1.2ms postprocess per image at shape (1, 3, 640, 640)\n",
      "\n",
      "✅ Detetou 60 objetos.\n",
      "📌 Mapa do tabuleiro:\n",
      "[None, 'red', 'purple', 'green', 'red', 'blue', 'green', None]\n",
      "['purple', 'green', 'purple', 'purple', 'green', 'red', 'blue', 'yellow']\n",
      "['purple', 'blue', 'red', 'green', 'purple', 'red', 'blue', 'purple']\n",
      "['blue', 'blue', 'purple', 'red', 'yellow', 'yellow', 'purple', 'blue']\n",
      "['purple', 'purple', 'yellow', 'red', 'color-bomb', 'yellow', 'purple', 'purple']\n",
      "['blue', 'blue', 'red', 'yellow', 'yellow', 'red', 'blue', 'blue']\n",
      "['purple', 'green', 'blue', 'purple', 'purple', 'blue', 'green', 'purple']\n",
      "[None, 'blue', 'yellow', 'purple', 'purple', 'yellow', 'blue', None]\n",
      "\n",
      "🔄 Combinações possíveis:\n",
      "\n",
      "💡 Melhor jogada: ((0, 4), (0, 5)) que forma grupo de 3\n",
      "🖱️ A mover para (0, 4) -> (0, 5)\n",
      "\n",
      "0: 640x640 17 blues, 1 color-bomb, 7 greens, 19 purples, 6 reds, 10 yellows, 281.1ms\n",
      "Speed: 3.1ms preprocess, 281.1ms inference, 1.0ms postprocess per image at shape (1, 3, 640, 640)\n",
      "\n",
      "✅ Detetou 60 objetos.\n",
      "📌 Mapa do tabuleiro:\n",
      "[None, 'red', 'purple', 'green', 'blue', 'blue', 'green', None]\n",
      "['purple', 'green', 'purple', 'purple', 'green', 'yellow', 'blue', 'yellow']\n",
      "['purple', 'blue', 'red', 'green', 'purple', 'blue', 'blue', 'purple']\n",
      "['blue', 'blue', 'purple', 'red', 'yellow', 'yellow', 'purple', 'blue']\n",
      "['purple', 'purple', 'yellow', 'red', 'color-bomb', 'yellow', 'purple', 'purple']\n",
      "['blue', 'blue', 'red', 'yellow', 'yellow', 'red', 'blue', 'blue']\n",
      "['purple', 'green', 'blue', 'purple', 'purple', 'blue', 'green', 'purple']\n",
      "[None, 'blue', 'yellow', 'purple', 'purple', 'yellow', 'blue', None]\n",
      "\n",
      "🔄 Combinações possíveis:\n",
      "\n",
      "💡 Melhor jogada: ((0, 5), (0, 6)) que forma grupo de 3\n",
      "🖱️ A mover para (0, 5) -> (0, 6)\n",
      "\n",
      "0: 640x640 15 blues, 1 color-bomb, 8 greens, 19 purples, 6 reds, 11 yellows, 278.2ms\n",
      "Speed: 3.3ms preprocess, 278.2ms inference, 0.9ms postprocess per image at shape (1, 3, 640, 640)\n",
      "\n",
      "✅ Detetou 60 objetos.\n",
      "📌 Mapa do tabuleiro:\n",
      "[None, 'red', 'purple', 'green', 'blue', 'green', 'blue', None]\n",
      "['purple', 'green', 'purple', 'purple', 'green', 'yellow', 'green', 'yellow']\n",
      "['purple', 'blue', 'red', 'green', 'purple', 'blue', 'yellow', 'purple']\n",
      "['blue', 'blue', 'purple', 'red', 'yellow', 'yellow', 'purple', 'blue']\n",
      "['purple', 'purple', 'yellow', 'red', 'color-bomb', 'yellow', 'purple', 'purple']\n",
      "['blue', 'blue', 'red', 'yellow', 'yellow', 'red', 'blue', 'blue']\n",
      "['purple', 'green', 'blue', 'purple', 'purple', 'blue', 'green', 'purple']\n",
      "[None, 'blue', 'yellow', 'purple', 'purple', 'yellow', 'blue', None]\n",
      "\n",
      "🔄 Combinações possíveis:\n",
      "\n",
      "💡 Melhor jogada: ((2, 5), (2, 6)) que forma grupo de 4\n",
      "🖱️ A mover para (2, 5) -> (2, 6)\n",
      "\n",
      "0: 640x640 13 blues, 1 color-bomb, 9 greens, 21 purples, 8 reds, 8 yellows, 280.9ms\n",
      "Speed: 4.9ms preprocess, 280.9ms inference, 1.2ms postprocess per image at shape (1, 3, 640, 640)\n",
      "\n",
      "✅ Detetou 60 objetos.\n",
      "📌 Mapa do tabuleiro:\n",
      "[None, 'red', 'purple', 'green', 'purple', 'red', 'green', None]\n",
      "['purple', 'green', 'purple', 'purple', 'green', 'red', 'green', 'yellow']\n",
      "['purple', 'blue', 'red', 'green', 'purple', 'purple', 'blue', 'purple']\n",
      "['blue', 'blue', 'purple', 'red', 'yellow', 'green', 'purple', 'blue']\n",
      "['purple', 'purple', 'yellow', 'red', 'color-bomb', 'yellow', 'purple', 'purple']\n",
      "['blue', 'blue', 'red', 'yellow', 'yellow', 'red', 'blue', 'blue']\n",
      "['purple', 'green', 'blue', 'purple', 'purple', 'blue', 'green', 'purple']\n",
      "[None, 'blue', 'yellow', 'purple', 'purple', 'yellow', 'blue', None]\n",
      "\n",
      "🔄 Combinações possíveis:\n",
      "\n",
      "💡 Melhor jogada: ((2, 6), (3, 6)) que forma grupo de 4\n",
      "🖱️ A mover para (2, 6) -> (3, 6)\n",
      "\n",
      "0: 640x640 15 blues, 1 color-bomb, 8 greens, 18 purples, 7 reds, 11 yellows, 284.9ms\n",
      "Speed: 3.1ms preprocess, 284.9ms inference, 1.0ms postprocess per image at shape (1, 3, 640, 640)\n",
      "\n",
      "✅ Detetou 60 objetos.\n",
      "📌 Mapa do tabuleiro:\n",
      "[None, 'blue', 'blue', 'green', 'yellow', 'red', 'purple', None]\n",
      "['blue', 'blue', 'red', 'yellow', 'yellow', 'purple', 'green', 'purple']\n",
      "['blue', 'red', 'blue', 'green', 'purple', 'purple', 'green', 'yellow']\n",
      "['purple', 'green', 'red', 'purple', 'green', 'blue', 'purple', 'yellow']\n",
      "['purple', 'purple', 'yellow', 'red', 'color-bomb', 'yellow', 'purple', 'purple']\n",
      "['blue', 'blue', 'red', 'yellow', 'yellow', 'red', 'blue', 'blue']\n",
      "['purple', 'green', 'blue', 'purple', 'purple', 'blue', 'green', 'purple']\n",
      "[None, 'blue', 'yellow', 'purple', 'purple', 'yellow', 'blue', None]\n",
      "\n",
      "🔄 Combinações possíveis:\n",
      "\n",
      "💡 Melhor jogada: ((0, 2), (1, 2)) que forma grupo de 3\n",
      "🖱️ A mover para (0, 2) -> (1, 2)\n",
      "\n",
      "0: 640x640 14 blues, 1 color-bomb, 8 greens, 19 purples, 7 reds, 11 yellows, 282.1ms\n",
      "Speed: 3.6ms preprocess, 282.1ms inference, 1.2ms postprocess per image at shape (1, 3, 640, 640)\n",
      "\n",
      "✅ Detetou 60 objetos.\n",
      "📌 Mapa do tabuleiro:\n",
      "[None, 'blue', 'purple', 'green', 'yellow', 'red', 'purple', None]\n",
      "['blue', 'blue', 'red', 'yellow', 'yellow', 'purple', 'green', 'purple']\n",
      "['blue', 'red', 'blue', 'green', 'purple', 'purple', 'green', 'yellow']\n",
      "['purple', 'green', 'red', 'purple', 'green', 'blue', 'purple', 'yellow']\n",
      "['purple', 'purple', 'yellow', 'red', 'color-bomb', 'yellow', 'purple', 'purple']\n",
      "['blue', 'blue', 'red', 'yellow', 'yellow', 'red', 'blue', 'blue']\n",
      "['purple', 'green', 'blue', 'purple', 'purple', 'blue', 'green', 'purple']\n",
      "[None, 'blue', 'yellow', 'purple', 'purple', 'yellow', 'blue', None]\n",
      "\n",
      "🔄 Combinações possíveis:\n",
      "\n",
      "💡 Melhor jogada: ((0, 5), (0, 6)) que forma grupo de 3\n",
      "🖱️ A mover para (0, 5) -> (0, 6)\n",
      "\n",
      "0: 640x640 14 blues, 1 color-bomb, 9 greens, 17 purples, 8 reds, 11 yellows, 296.0ms\n",
      "Speed: 3.7ms preprocess, 296.0ms inference, 1.3ms postprocess per image at shape (1, 3, 640, 640)\n",
      "\n",
      "✅ Detetou 60 objetos.\n",
      "📌 Mapa do tabuleiro:\n",
      "[None, 'blue', 'purple', 'green', 'yellow', 'red', 'red', None]\n",
      "['blue', 'blue', 'red', 'yellow', 'yellow', 'green', 'green', 'purple']\n",
      "['blue', 'red', 'blue', 'green', 'purple', 'purple', 'green', 'yellow']\n",
      "['purple', 'green', 'red', 'purple', 'green', 'blue', 'purple', 'yellow']\n",
      "['purple', 'purple', 'yellow', 'red', 'color-bomb', 'yellow', 'purple', 'purple']\n",
      "['blue', 'blue', 'red', 'yellow', 'yellow', 'red', 'blue', 'blue']\n",
      "['purple', 'green', 'blue', 'purple', 'purple', 'blue', 'green', 'purple']\n",
      "[None, 'blue', 'yellow', 'purple', 'purple', 'yellow', 'blue', None]\n",
      "\n",
      "🔄 Combinações possíveis:\n",
      "\n",
      "💡 Melhor jogada: ((1, 1), (2, 1)) que forma grupo de 3\n",
      "🖱️ A mover para (1, 1) -> (2, 1)\n",
      "\n",
      "0: 640x640 13 blues, 1 color-bomb, 10 greens, 17 purples, 8 reds, 11 yellows, 280.5ms\n",
      "Speed: 3.6ms preprocess, 280.5ms inference, 1.0ms postprocess per image at shape (1, 3, 640, 640)\n",
      "\n",
      "✅ Detetou 60 objetos.\n",
      "📌 Mapa do tabuleiro:\n",
      "[None, 'green', 'blue', 'green', 'yellow', 'red', 'red', None]\n",
      "['blue', 'blue', 'purple', 'yellow', 'yellow', 'green', 'green', 'purple']\n",
      "['blue', 'red', 'red', 'green', 'purple', 'purple', 'green', 'yellow']\n",
      "['purple', 'green', 'red', 'purple', 'green', 'blue', 'purple', 'yellow']\n",
      "['purple', 'purple', 'yellow', 'red', 'color-bomb', 'yellow', 'purple', 'purple']\n",
      "['blue', 'blue', 'red', 'yellow', 'yellow', 'red', 'blue', 'blue']\n",
      "['purple', 'green', 'blue', 'purple', 'purple', 'blue', 'green', 'purple']\n",
      "[None, 'blue', 'yellow', 'purple', 'purple', 'yellow', 'blue', None]\n",
      "\n",
      "🔄 Combinações possíveis:\n",
      "\n",
      "💡 Melhor jogada: ((4, 2), (4, 3)) que forma grupo de 4\n",
      "🖱️ A mover para (4, 2) -> (4, 3)\n",
      "\n",
      "0: 640x640 13 blues, 11 greens, 11 purples, 13 reds, 12 yellows, 281.3ms\n",
      "Speed: 3.3ms preprocess, 281.3ms inference, 1.1ms postprocess per image at shape (1, 3, 640, 640)\n",
      "\n",
      "✅ Detetou 60 objetos.\n",
      "📌 Mapa do tabuleiro:\n",
      "[None, 'yellow', 'purple', 'yellow', 'green', 'yellow', 'green', None]\n",
      "['red', 'purple', 'purple', 'yellow', 'yellow', 'purple', 'yellow', 'yellow']\n",
      "['blue', 'red', 'red', 'purple', 'yellow', 'green', 'red', 'blue']\n",
      "['purple', 'yellow', 'green', 'yellow', 'red', 'blue', 'red', 'red']\n",
      "['green', 'blue', 'green', 'green', 'red', 'red', 'green', 'purple']\n",
      "['red', 'red', 'purple', 'yellow', 'green', 'blue', 'blue', 'yellow']\n",
      "['red', 'blue', 'green', 'purple', 'blue', 'blue', 'green', 'blue']\n",
      "[None, 'blue', 'red', 'blue', 'purple', 'purple', 'blue', None]\n",
      "\n",
      "🔄 Combinações possíveis:\n",
      "\n",
      "💡 Melhor jogada: ((0, 5), (1, 5)) que forma grupo de 5\n",
      "🖱️ A mover para (0, 5) -> (1, 5)\n",
      "\n",
      "0: 640x640 14 blues, 1 color-bomb, 14 greens, 11 purples, 13 reds, 7 yellows, 291.5ms\n",
      "Speed: 3.6ms preprocess, 291.5ms inference, 1.5ms postprocess per image at shape (1, 3, 640, 640)\n",
      "\n",
      "✅ Detetou 60 objetos.\n",
      "📌 Mapa do tabuleiro:\n",
      "[None, 'yellow', 'purple', 'green', 'blue', 'purple', 'green', None]\n",
      "['red', 'purple', 'purple', 'yellow', 'green', 'color-bomb', 'green', 'green']\n",
      "['blue', 'red', 'red', 'purple', 'yellow', 'green', 'red', 'blue']\n",
      "['purple', 'yellow', 'green', 'yellow', 'red', 'blue', 'red', 'red']\n",
      "['green', 'blue', 'green', 'green', 'red', 'red', 'green', 'purple']\n",
      "['red', 'red', 'purple', 'yellow', 'green', 'blue', 'blue', 'yellow']\n",
      "['red', 'blue', 'green', 'purple', 'blue', 'blue', 'green', 'blue']\n",
      "[None, 'blue', 'red', 'blue', 'purple', 'purple', 'blue', None]\n",
      "\n",
      "🔄 Combinações possíveis:\n",
      "\n",
      "💡 Melhor jogada: ((1, 5), (2, 5)) que forma grupo de 4\n",
      "🖱️ A mover para (1, 5) -> (2, 5)\n",
      "\n",
      "0: 640x640 14 blues, 9 greens, 9 purples, 13 reds, 16 yellows, 284.3ms\n",
      "Speed: 3.0ms preprocess, 284.3ms inference, 1.3ms postprocess per image at shape (1, 3, 640, 640)\n",
      "\n",
      "✅ Detetou 61 objetos.\n",
      "📌 Mapa do tabuleiro:\n",
      "[None, 'yellow', 'blue', 'red', 'blue', 'red', 'red', None]\n",
      "['green', 'yellow', 'yellow', 'blue', 'yellow', 'purple', 'yellow', 'green']\n",
      "['purple', 'blue', 'red', 'yellow', 'green', 'green', 'yellow', 'blue']\n",
      "['yellow', 'green', 'green', 'red', 'red', 'purple', 'green', 'blue']\n",
      "['red', 'green', 'blue', 'yellow', 'blue', 'green', 'yellow', 'red']\n",
      "['blue', 'yellow', 'purple', 'yellow', 'yellow', 'blue', 'red', 'purple']\n",
      "['red', 'red', 'yellow', 'purple', 'red', 'blue', 'blue', 'yellow']\n",
      "[None, 'yellow', 'red', 'blue', 'purple', 'purple', 'blue', None]\n",
      "\n",
      "🔄 Combinações possíveis:\n",
      "\n",
      "💡 Melhor jogada: ((1, 3), (2, 3)) que forma grupo de 4\n",
      "🖱️ A mover para (1, 3) -> (2, 3)\n",
      "\n",
      "0: 640x640 15 blues, 9 greens, 10 purples, 12 reds, 14 yellows, 279.6ms\n",
      "Speed: 3.1ms preprocess, 279.6ms inference, 1.0ms postprocess per image at shape (1, 3, 640, 640)\n",
      "\n",
      "✅ Detetou 60 objetos.\n",
      "📌 Mapa do tabuleiro:\n",
      "[None, 'yellow', 'yellow', 'purple', 'yellow', 'red', 'red', None]\n",
      "['green', 'red', 'blue', 'red', 'blue', 'purple', 'yellow', 'green']\n",
      "['purple', 'blue', 'red', 'blue', 'green', 'green', 'yellow', 'blue']\n",
      "['yellow', 'green', 'green', 'purple', 'blue', 'purple', 'green', 'blue']\n",
      "['red', 'green', 'blue', 'yellow', 'blue', 'green', 'yellow', 'red']\n",
      "['blue', 'yellow', 'purple', 'yellow', 'yellow', 'blue', 'red', 'purple']\n",
      "['red', 'red', 'yellow', 'purple', 'red', 'blue', 'blue', 'yellow']\n",
      "[None, 'yellow', 'red', 'blue', 'purple', 'purple', 'blue', None]\n",
      "\n",
      "🔄 Combinações possíveis:\n",
      "\n",
      "💡 Melhor jogada: ((2, 3), (2, 4)) que forma grupo de 4\n",
      "🖱️ A mover para (2, 3) -> (2, 4)\n",
      "\n",
      "0: 640x640 13 blues, 10 greens, 10 purples, 13 reds, 14 yellows, 301.2ms\n",
      "Speed: 4.3ms preprocess, 301.2ms inference, 5.3ms postprocess per image at shape (1, 3, 640, 640)\n",
      "\n",
      "✅ Detetou 60 objetos.\n",
      "📌 Mapa do tabuleiro:\n",
      "[None, 'yellow', 'yellow', 'purple', 'green', 'red', 'red', None]\n",
      "['green', 'red', 'blue', 'red', 'blue', 'purple', 'yellow', 'green']\n",
      "['purple', 'blue', 'red', 'green', 'red', 'green', 'yellow', 'blue']\n",
      "['yellow', 'green', 'green', 'purple', 'yellow', 'purple', 'green', 'blue']\n",
      "['red', 'green', 'blue', 'yellow', 'blue', 'green', 'yellow', 'red']\n",
      "['blue', 'yellow', 'purple', 'yellow', 'yellow', 'blue', 'red', 'purple']\n",
      "['red', 'red', 'yellow', 'purple', 'red', 'blue', 'blue', 'yellow']\n",
      "[None, 'yellow', 'red', 'blue', 'purple', 'purple', 'blue', None]\n",
      "\n",
      "🔄 Combinações possíveis:\n",
      "\n",
      "💡 Melhor jogada: ((5, 2), (6, 2)) que forma grupo de 4\n",
      "🖱️ A mover para (5, 2) -> (6, 2)\n",
      "\n",
      "0: 640x640 2 blues, 2 greens, 1 purple, 1 red, 3 yellows, 295.7ms\n",
      "Speed: 4.9ms preprocess, 295.7ms inference, 0.7ms postprocess per image at shape (1, 3, 640, 640)\n",
      "\n",
      "✅ Detetou 9 objetos.\n",
      "📌 Mapa do tabuleiro:\n",
      "[None, 'yellow', None, 'yellow', None, 'green', None, None]\n",
      "[None, None, None, None, None, None, None, 'green']\n",
      "[None, None, None, None, None, None, None, 'blue']\n",
      "[None, None, None, None, None, None, None, 'blue']\n",
      "[None, None, None, None, None, None, None, 'red']\n",
      "[None, None, None, None, None, None, None, 'purple']\n",
      "[None, None, None, None, None, None, None, 'yellow']\n",
      "[None, None, None, None, None, None, None, None]\n",
      "\n",
      "🔄 Combinações possíveis:\n",
      "\n",
      "⚠️ Nenhuma jogada possível encontrada.\n",
      "⚠️ Nenhuma jogada possível para clicar.\n"
     ]
    },
    {
     "ename": "KeyboardInterrupt",
     "evalue": "",
     "output_type": "error",
     "traceback": [
      "\u001B[1;31m---------------------------------------------------------------------------\u001B[0m",
      "\u001B[1;31mKeyboardInterrupt\u001B[0m                         Traceback (most recent call last)",
      "Cell \u001B[1;32mIn[10], line 80\u001B[0m\n\u001B[0;32m     76\u001B[0m     \u001B[38;5;28;01melse\u001B[39;00m:\n\u001B[0;32m     77\u001B[0m         \u001B[38;5;28mprint\u001B[39m(\u001B[38;5;124m\"\u001B[39m\u001B[38;5;124m⚠️ Nenhuma jogada possível para clicar.\u001B[39m\u001B[38;5;124m\"\u001B[39m)\n\u001B[1;32m---> 80\u001B[0m \u001B[43mtime\u001B[49m\u001B[38;5;241;43m.\u001B[39;49m\u001B[43msleep\u001B[49m\u001B[43m(\u001B[49m\u001B[38;5;241;43m3\u001B[39;49m\u001B[43m)\u001B[49m \u001B[38;5;66;03m# Pausa antes da próxima leitura (ajustavel)\u001B[39;00m\n",
      "\u001B[1;31mKeyboardInterrupt\u001B[0m: "
     ]
    }
   ],
   "execution_count": 10
  }
 ],
 "metadata": {
  "kernelspec": {
   "display_name": "Python 3",
   "language": "python",
   "name": "python3"
  },
  "language_info": {
   "codemirror_mode": {
    "name": "ipython",
    "version": 2
   },
   "file_extension": ".py",
   "mimetype": "text/x-python",
   "name": "python",
   "nbconvert_exporter": "python",
   "pygments_lexer": "ipython2",
   "version": "2.7.6"
  }
 },
 "nbformat": 4,
 "nbformat_minor": 5
}
